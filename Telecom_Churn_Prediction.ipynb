{
 "cells": [
  {
   "cell_type": "code",
   "execution_count": 2,
   "id": "7d9cdb77",
   "metadata": {},
   "outputs": [],
   "source": [
    "import pandas as pd, matplotlib.pyplot as plt, seaborn as sns, numpy as np"
   ]
  },
  {
   "cell_type": "code",
   "execution_count": 3,
   "id": "ebcf1fb1",
   "metadata": {},
   "outputs": [],
   "source": [
    "df = pd.read_csv('train.csv')"
   ]
  },
  {
   "cell_type": "markdown",
   "id": "79c22b90",
   "metadata": {},
   "source": [
    "# EDA"
   ]
  },
  {
   "cell_type": "code",
   "execution_count": 4,
   "id": "d23b8f9b",
   "metadata": {},
   "outputs": [
    {
     "data": {
      "text/html": [
       "<div>\n",
       "<style scoped>\n",
       "    .dataframe tbody tr th:only-of-type {\n",
       "        vertical-align: middle;\n",
       "    }\n",
       "\n",
       "    .dataframe tbody tr th {\n",
       "        vertical-align: top;\n",
       "    }\n",
       "\n",
       "    .dataframe thead th {\n",
       "        text-align: right;\n",
       "    }\n",
       "</style>\n",
       "<table border=\"1\" class=\"dataframe\">\n",
       "  <thead>\n",
       "    <tr style=\"text-align: right;\">\n",
       "      <th></th>\n",
       "      <th>id</th>\n",
       "      <th>circle_id</th>\n",
       "      <th>loc_og_t2o_mou</th>\n",
       "      <th>std_og_t2o_mou</th>\n",
       "      <th>loc_ic_t2o_mou</th>\n",
       "      <th>last_date_of_month_6</th>\n",
       "      <th>last_date_of_month_7</th>\n",
       "      <th>last_date_of_month_8</th>\n",
       "      <th>arpu_6</th>\n",
       "      <th>arpu_7</th>\n",
       "      <th>...</th>\n",
       "      <th>sachet_3g_7</th>\n",
       "      <th>sachet_3g_8</th>\n",
       "      <th>fb_user_6</th>\n",
       "      <th>fb_user_7</th>\n",
       "      <th>fb_user_8</th>\n",
       "      <th>aon</th>\n",
       "      <th>aug_vbc_3g</th>\n",
       "      <th>jul_vbc_3g</th>\n",
       "      <th>jun_vbc_3g</th>\n",
       "      <th>churn_probability</th>\n",
       "    </tr>\n",
       "  </thead>\n",
       "  <tbody>\n",
       "    <tr>\n",
       "      <th>0</th>\n",
       "      <td>0</td>\n",
       "      <td>109</td>\n",
       "      <td>0.0</td>\n",
       "      <td>0.0</td>\n",
       "      <td>0.0</td>\n",
       "      <td>6/30/2014</td>\n",
       "      <td>7/31/2014</td>\n",
       "      <td>8/31/2014</td>\n",
       "      <td>31.277</td>\n",
       "      <td>87.009</td>\n",
       "      <td>...</td>\n",
       "      <td>0</td>\n",
       "      <td>0</td>\n",
       "      <td>NaN</td>\n",
       "      <td>NaN</td>\n",
       "      <td>NaN</td>\n",
       "      <td>1958</td>\n",
       "      <td>0.0</td>\n",
       "      <td>0.0</td>\n",
       "      <td>0.0</td>\n",
       "      <td>0</td>\n",
       "    </tr>\n",
       "    <tr>\n",
       "      <th>1</th>\n",
       "      <td>1</td>\n",
       "      <td>109</td>\n",
       "      <td>0.0</td>\n",
       "      <td>0.0</td>\n",
       "      <td>0.0</td>\n",
       "      <td>6/30/2014</td>\n",
       "      <td>7/31/2014</td>\n",
       "      <td>8/31/2014</td>\n",
       "      <td>0.000</td>\n",
       "      <td>122.787</td>\n",
       "      <td>...</td>\n",
       "      <td>0</td>\n",
       "      <td>0</td>\n",
       "      <td>NaN</td>\n",
       "      <td>1.0</td>\n",
       "      <td>NaN</td>\n",
       "      <td>710</td>\n",
       "      <td>0.0</td>\n",
       "      <td>0.0</td>\n",
       "      <td>0.0</td>\n",
       "      <td>0</td>\n",
       "    </tr>\n",
       "    <tr>\n",
       "      <th>2</th>\n",
       "      <td>2</td>\n",
       "      <td>109</td>\n",
       "      <td>0.0</td>\n",
       "      <td>0.0</td>\n",
       "      <td>0.0</td>\n",
       "      <td>6/30/2014</td>\n",
       "      <td>7/31/2014</td>\n",
       "      <td>8/31/2014</td>\n",
       "      <td>60.806</td>\n",
       "      <td>103.176</td>\n",
       "      <td>...</td>\n",
       "      <td>0</td>\n",
       "      <td>0</td>\n",
       "      <td>NaN</td>\n",
       "      <td>NaN</td>\n",
       "      <td>NaN</td>\n",
       "      <td>882</td>\n",
       "      <td>0.0</td>\n",
       "      <td>0.0</td>\n",
       "      <td>0.0</td>\n",
       "      <td>0</td>\n",
       "    </tr>\n",
       "    <tr>\n",
       "      <th>3</th>\n",
       "      <td>3</td>\n",
       "      <td>109</td>\n",
       "      <td>0.0</td>\n",
       "      <td>0.0</td>\n",
       "      <td>0.0</td>\n",
       "      <td>6/30/2014</td>\n",
       "      <td>7/31/2014</td>\n",
       "      <td>8/31/2014</td>\n",
       "      <td>156.362</td>\n",
       "      <td>205.260</td>\n",
       "      <td>...</td>\n",
       "      <td>0</td>\n",
       "      <td>0</td>\n",
       "      <td>NaN</td>\n",
       "      <td>NaN</td>\n",
       "      <td>NaN</td>\n",
       "      <td>982</td>\n",
       "      <td>0.0</td>\n",
       "      <td>0.0</td>\n",
       "      <td>0.0</td>\n",
       "      <td>0</td>\n",
       "    </tr>\n",
       "    <tr>\n",
       "      <th>4</th>\n",
       "      <td>4</td>\n",
       "      <td>109</td>\n",
       "      <td>0.0</td>\n",
       "      <td>0.0</td>\n",
       "      <td>0.0</td>\n",
       "      <td>6/30/2014</td>\n",
       "      <td>7/31/2014</td>\n",
       "      <td>8/31/2014</td>\n",
       "      <td>240.708</td>\n",
       "      <td>128.191</td>\n",
       "      <td>...</td>\n",
       "      <td>1</td>\n",
       "      <td>0</td>\n",
       "      <td>1.0</td>\n",
       "      <td>1.0</td>\n",
       "      <td>1.0</td>\n",
       "      <td>647</td>\n",
       "      <td>0.0</td>\n",
       "      <td>0.0</td>\n",
       "      <td>0.0</td>\n",
       "      <td>0</td>\n",
       "    </tr>\n",
       "  </tbody>\n",
       "</table>\n",
       "<p>5 rows × 172 columns</p>\n",
       "</div>"
      ],
      "text/plain": [
       "   id  circle_id  loc_og_t2o_mou  std_og_t2o_mou  loc_ic_t2o_mou  \\\n",
       "0   0        109             0.0             0.0             0.0   \n",
       "1   1        109             0.0             0.0             0.0   \n",
       "2   2        109             0.0             0.0             0.0   \n",
       "3   3        109             0.0             0.0             0.0   \n",
       "4   4        109             0.0             0.0             0.0   \n",
       "\n",
       "  last_date_of_month_6 last_date_of_month_7 last_date_of_month_8   arpu_6  \\\n",
       "0            6/30/2014            7/31/2014            8/31/2014   31.277   \n",
       "1            6/30/2014            7/31/2014            8/31/2014    0.000   \n",
       "2            6/30/2014            7/31/2014            8/31/2014   60.806   \n",
       "3            6/30/2014            7/31/2014            8/31/2014  156.362   \n",
       "4            6/30/2014            7/31/2014            8/31/2014  240.708   \n",
       "\n",
       "    arpu_7  ...  sachet_3g_7  sachet_3g_8  fb_user_6  fb_user_7  fb_user_8  \\\n",
       "0   87.009  ...            0            0        NaN        NaN        NaN   \n",
       "1  122.787  ...            0            0        NaN        1.0        NaN   \n",
       "2  103.176  ...            0            0        NaN        NaN        NaN   \n",
       "3  205.260  ...            0            0        NaN        NaN        NaN   \n",
       "4  128.191  ...            1            0        1.0        1.0        1.0   \n",
       "\n",
       "    aon  aug_vbc_3g  jul_vbc_3g  jun_vbc_3g  churn_probability  \n",
       "0  1958         0.0         0.0         0.0                  0  \n",
       "1   710         0.0         0.0         0.0                  0  \n",
       "2   882         0.0         0.0         0.0                  0  \n",
       "3   982         0.0         0.0         0.0                  0  \n",
       "4   647         0.0         0.0         0.0                  0  \n",
       "\n",
       "[5 rows x 172 columns]"
      ]
     },
     "execution_count": 4,
     "metadata": {},
     "output_type": "execute_result"
    }
   ],
   "source": [
    "df.head()"
   ]
  },
  {
   "cell_type": "code",
   "execution_count": 5,
   "id": "78e4c42c",
   "metadata": {},
   "outputs": [
    {
     "data": {
      "text/html": [
       "<div>\n",
       "<style scoped>\n",
       "    .dataframe tbody tr th:only-of-type {\n",
       "        vertical-align: middle;\n",
       "    }\n",
       "\n",
       "    .dataframe tbody tr th {\n",
       "        vertical-align: top;\n",
       "    }\n",
       "\n",
       "    .dataframe thead th {\n",
       "        text-align: right;\n",
       "    }\n",
       "</style>\n",
       "<table border=\"1\" class=\"dataframe\">\n",
       "  <thead>\n",
       "    <tr style=\"text-align: right;\">\n",
       "      <th></th>\n",
       "      <th>id</th>\n",
       "      <th>circle_id</th>\n",
       "      <th>loc_og_t2o_mou</th>\n",
       "      <th>std_og_t2o_mou</th>\n",
       "      <th>loc_ic_t2o_mou</th>\n",
       "      <th>arpu_6</th>\n",
       "      <th>arpu_7</th>\n",
       "      <th>arpu_8</th>\n",
       "      <th>onnet_mou_6</th>\n",
       "      <th>onnet_mou_7</th>\n",
       "      <th>...</th>\n",
       "      <th>sachet_3g_7</th>\n",
       "      <th>sachet_3g_8</th>\n",
       "      <th>fb_user_6</th>\n",
       "      <th>fb_user_7</th>\n",
       "      <th>fb_user_8</th>\n",
       "      <th>aon</th>\n",
       "      <th>aug_vbc_3g</th>\n",
       "      <th>jul_vbc_3g</th>\n",
       "      <th>jun_vbc_3g</th>\n",
       "      <th>churn_probability</th>\n",
       "    </tr>\n",
       "  </thead>\n",
       "  <tbody>\n",
       "    <tr>\n",
       "      <th>count</th>\n",
       "      <td>69999.000000</td>\n",
       "      <td>69999.0</td>\n",
       "      <td>69297.0</td>\n",
       "      <td>69297.0</td>\n",
       "      <td>69297.0</td>\n",
       "      <td>69999.000000</td>\n",
       "      <td>69999.000000</td>\n",
       "      <td>69999.000000</td>\n",
       "      <td>67231.000000</td>\n",
       "      <td>67312.000000</td>\n",
       "      <td>...</td>\n",
       "      <td>69999.000000</td>\n",
       "      <td>69999.000000</td>\n",
       "      <td>17568.000000</td>\n",
       "      <td>17865.000000</td>\n",
       "      <td>18417.000000</td>\n",
       "      <td>69999.000000</td>\n",
       "      <td>69999.000000</td>\n",
       "      <td>69999.000000</td>\n",
       "      <td>69999.00000</td>\n",
       "      <td>69999.000000</td>\n",
       "    </tr>\n",
       "    <tr>\n",
       "      <th>mean</th>\n",
       "      <td>34999.000000</td>\n",
       "      <td>109.0</td>\n",
       "      <td>0.0</td>\n",
       "      <td>0.0</td>\n",
       "      <td>0.0</td>\n",
       "      <td>283.134365</td>\n",
       "      <td>278.185912</td>\n",
       "      <td>278.858826</td>\n",
       "      <td>133.153275</td>\n",
       "      <td>133.894438</td>\n",
       "      <td>...</td>\n",
       "      <td>0.081444</td>\n",
       "      <td>0.085487</td>\n",
       "      <td>0.916325</td>\n",
       "      <td>0.909544</td>\n",
       "      <td>0.890319</td>\n",
       "      <td>1220.639709</td>\n",
       "      <td>68.108597</td>\n",
       "      <td>65.935830</td>\n",
       "      <td>60.07674</td>\n",
       "      <td>0.101887</td>\n",
       "    </tr>\n",
       "    <tr>\n",
       "      <th>std</th>\n",
       "      <td>20207.115084</td>\n",
       "      <td>0.0</td>\n",
       "      <td>0.0</td>\n",
       "      <td>0.0</td>\n",
       "      <td>0.0</td>\n",
       "      <td>334.213918</td>\n",
       "      <td>344.366927</td>\n",
       "      <td>351.924315</td>\n",
       "      <td>299.963093</td>\n",
       "      <td>311.277193</td>\n",
       "      <td>...</td>\n",
       "      <td>0.634547</td>\n",
       "      <td>0.680035</td>\n",
       "      <td>0.276907</td>\n",
       "      <td>0.286842</td>\n",
       "      <td>0.312501</td>\n",
       "      <td>952.426321</td>\n",
       "      <td>269.328659</td>\n",
       "      <td>267.899034</td>\n",
       "      <td>257.22681</td>\n",
       "      <td>0.302502</td>\n",
       "    </tr>\n",
       "    <tr>\n",
       "      <th>min</th>\n",
       "      <td>0.000000</td>\n",
       "      <td>109.0</td>\n",
       "      <td>0.0</td>\n",
       "      <td>0.0</td>\n",
       "      <td>0.0</td>\n",
       "      <td>-2258.709000</td>\n",
       "      <td>-1289.715000</td>\n",
       "      <td>-945.808000</td>\n",
       "      <td>0.000000</td>\n",
       "      <td>0.000000</td>\n",
       "      <td>...</td>\n",
       "      <td>0.000000</td>\n",
       "      <td>0.000000</td>\n",
       "      <td>0.000000</td>\n",
       "      <td>0.000000</td>\n",
       "      <td>0.000000</td>\n",
       "      <td>180.000000</td>\n",
       "      <td>0.000000</td>\n",
       "      <td>0.000000</td>\n",
       "      <td>0.00000</td>\n",
       "      <td>0.000000</td>\n",
       "    </tr>\n",
       "    <tr>\n",
       "      <th>25%</th>\n",
       "      <td>17499.500000</td>\n",
       "      <td>109.0</td>\n",
       "      <td>0.0</td>\n",
       "      <td>0.0</td>\n",
       "      <td>0.0</td>\n",
       "      <td>93.581000</td>\n",
       "      <td>86.714000</td>\n",
       "      <td>84.095000</td>\n",
       "      <td>7.410000</td>\n",
       "      <td>6.675000</td>\n",
       "      <td>...</td>\n",
       "      <td>0.000000</td>\n",
       "      <td>0.000000</td>\n",
       "      <td>1.000000</td>\n",
       "      <td>1.000000</td>\n",
       "      <td>1.000000</td>\n",
       "      <td>468.000000</td>\n",
       "      <td>0.000000</td>\n",
       "      <td>0.000000</td>\n",
       "      <td>0.00000</td>\n",
       "      <td>0.000000</td>\n",
       "    </tr>\n",
       "    <tr>\n",
       "      <th>50%</th>\n",
       "      <td>34999.000000</td>\n",
       "      <td>109.0</td>\n",
       "      <td>0.0</td>\n",
       "      <td>0.0</td>\n",
       "      <td>0.0</td>\n",
       "      <td>197.484000</td>\n",
       "      <td>191.588000</td>\n",
       "      <td>192.234000</td>\n",
       "      <td>34.110000</td>\n",
       "      <td>32.280000</td>\n",
       "      <td>...</td>\n",
       "      <td>0.000000</td>\n",
       "      <td>0.000000</td>\n",
       "      <td>1.000000</td>\n",
       "      <td>1.000000</td>\n",
       "      <td>1.000000</td>\n",
       "      <td>868.000000</td>\n",
       "      <td>0.000000</td>\n",
       "      <td>0.000000</td>\n",
       "      <td>0.00000</td>\n",
       "      <td>0.000000</td>\n",
       "    </tr>\n",
       "    <tr>\n",
       "      <th>75%</th>\n",
       "      <td>52498.500000</td>\n",
       "      <td>109.0</td>\n",
       "      <td>0.0</td>\n",
       "      <td>0.0</td>\n",
       "      <td>0.0</td>\n",
       "      <td>370.791000</td>\n",
       "      <td>365.369500</td>\n",
       "      <td>369.909000</td>\n",
       "      <td>119.390000</td>\n",
       "      <td>115.837500</td>\n",
       "      <td>...</td>\n",
       "      <td>0.000000</td>\n",
       "      <td>0.000000</td>\n",
       "      <td>1.000000</td>\n",
       "      <td>1.000000</td>\n",
       "      <td>1.000000</td>\n",
       "      <td>1813.000000</td>\n",
       "      <td>0.000000</td>\n",
       "      <td>0.000000</td>\n",
       "      <td>0.00000</td>\n",
       "      <td>0.000000</td>\n",
       "    </tr>\n",
       "    <tr>\n",
       "      <th>max</th>\n",
       "      <td>69998.000000</td>\n",
       "      <td>109.0</td>\n",
       "      <td>0.0</td>\n",
       "      <td>0.0</td>\n",
       "      <td>0.0</td>\n",
       "      <td>27731.088000</td>\n",
       "      <td>35145.834000</td>\n",
       "      <td>33543.624000</td>\n",
       "      <td>7376.710000</td>\n",
       "      <td>8157.780000</td>\n",
       "      <td>...</td>\n",
       "      <td>33.000000</td>\n",
       "      <td>41.000000</td>\n",
       "      <td>1.000000</td>\n",
       "      <td>1.000000</td>\n",
       "      <td>1.000000</td>\n",
       "      <td>4337.000000</td>\n",
       "      <td>12916.220000</td>\n",
       "      <td>9165.600000</td>\n",
       "      <td>11166.21000</td>\n",
       "      <td>1.000000</td>\n",
       "    </tr>\n",
       "  </tbody>\n",
       "</table>\n",
       "<p>8 rows × 163 columns</p>\n",
       "</div>"
      ],
      "text/plain": [
       "                 id  circle_id  loc_og_t2o_mou  std_og_t2o_mou  \\\n",
       "count  69999.000000    69999.0         69297.0         69297.0   \n",
       "mean   34999.000000      109.0             0.0             0.0   \n",
       "std    20207.115084        0.0             0.0             0.0   \n",
       "min        0.000000      109.0             0.0             0.0   \n",
       "25%    17499.500000      109.0             0.0             0.0   \n",
       "50%    34999.000000      109.0             0.0             0.0   \n",
       "75%    52498.500000      109.0             0.0             0.0   \n",
       "max    69998.000000      109.0             0.0             0.0   \n",
       "\n",
       "       loc_ic_t2o_mou        arpu_6        arpu_7        arpu_8   onnet_mou_6  \\\n",
       "count         69297.0  69999.000000  69999.000000  69999.000000  67231.000000   \n",
       "mean              0.0    283.134365    278.185912    278.858826    133.153275   \n",
       "std               0.0    334.213918    344.366927    351.924315    299.963093   \n",
       "min               0.0  -2258.709000  -1289.715000   -945.808000      0.000000   \n",
       "25%               0.0     93.581000     86.714000     84.095000      7.410000   \n",
       "50%               0.0    197.484000    191.588000    192.234000     34.110000   \n",
       "75%               0.0    370.791000    365.369500    369.909000    119.390000   \n",
       "max               0.0  27731.088000  35145.834000  33543.624000   7376.710000   \n",
       "\n",
       "        onnet_mou_7  ...   sachet_3g_7   sachet_3g_8     fb_user_6  \\\n",
       "count  67312.000000  ...  69999.000000  69999.000000  17568.000000   \n",
       "mean     133.894438  ...      0.081444      0.085487      0.916325   \n",
       "std      311.277193  ...      0.634547      0.680035      0.276907   \n",
       "min        0.000000  ...      0.000000      0.000000      0.000000   \n",
       "25%        6.675000  ...      0.000000      0.000000      1.000000   \n",
       "50%       32.280000  ...      0.000000      0.000000      1.000000   \n",
       "75%      115.837500  ...      0.000000      0.000000      1.000000   \n",
       "max     8157.780000  ...     33.000000     41.000000      1.000000   \n",
       "\n",
       "          fb_user_7     fb_user_8           aon    aug_vbc_3g    jul_vbc_3g  \\\n",
       "count  17865.000000  18417.000000  69999.000000  69999.000000  69999.000000   \n",
       "mean       0.909544      0.890319   1220.639709     68.108597     65.935830   \n",
       "std        0.286842      0.312501    952.426321    269.328659    267.899034   \n",
       "min        0.000000      0.000000    180.000000      0.000000      0.000000   \n",
       "25%        1.000000      1.000000    468.000000      0.000000      0.000000   \n",
       "50%        1.000000      1.000000    868.000000      0.000000      0.000000   \n",
       "75%        1.000000      1.000000   1813.000000      0.000000      0.000000   \n",
       "max        1.000000      1.000000   4337.000000  12916.220000   9165.600000   \n",
       "\n",
       "        jun_vbc_3g  churn_probability  \n",
       "count  69999.00000       69999.000000  \n",
       "mean      60.07674           0.101887  \n",
       "std      257.22681           0.302502  \n",
       "min        0.00000           0.000000  \n",
       "25%        0.00000           0.000000  \n",
       "50%        0.00000           0.000000  \n",
       "75%        0.00000           0.000000  \n",
       "max    11166.21000           1.000000  \n",
       "\n",
       "[8 rows x 163 columns]"
      ]
     },
     "execution_count": 5,
     "metadata": {},
     "output_type": "execute_result"
    }
   ],
   "source": [
    "df.describe()"
   ]
  },
  {
   "cell_type": "code",
   "execution_count": 6,
   "id": "63215a30",
   "metadata": {
    "scrolled": true
   },
   "outputs": [
    {
     "data": {
      "text/plain": [
       "id                              0\n",
       "circle_id                       0\n",
       "loc_og_t2o_mou                702\n",
       "std_og_t2o_mou                702\n",
       "loc_ic_t2o_mou                702\n",
       "last_date_of_month_6            0\n",
       "last_date_of_month_7          399\n",
       "last_date_of_month_8          733\n",
       "arpu_6                          0\n",
       "arpu_7                          0\n",
       "arpu_8                          0\n",
       "onnet_mou_6                  2768\n",
       "onnet_mou_7                  2687\n",
       "onnet_mou_8                  3703\n",
       "offnet_mou_6                 2768\n",
       "offnet_mou_7                 2687\n",
       "offnet_mou_8                 3703\n",
       "roam_ic_mou_6                2768\n",
       "roam_ic_mou_7                2687\n",
       "roam_ic_mou_8                3703\n",
       "roam_og_mou_6                2768\n",
       "roam_og_mou_7                2687\n",
       "roam_og_mou_8                3703\n",
       "loc_og_t2t_mou_6             2768\n",
       "loc_og_t2t_mou_7             2687\n",
       "loc_og_t2t_mou_8             3703\n",
       "loc_og_t2m_mou_6             2768\n",
       "loc_og_t2m_mou_7             2687\n",
       "loc_og_t2m_mou_8             3703\n",
       "loc_og_t2f_mou_6             2768\n",
       "loc_og_t2f_mou_7             2687\n",
       "loc_og_t2f_mou_8             3703\n",
       "loc_og_t2c_mou_6             2768\n",
       "loc_og_t2c_mou_7             2687\n",
       "loc_og_t2c_mou_8             3703\n",
       "loc_og_mou_6                 2768\n",
       "loc_og_mou_7                 2687\n",
       "loc_og_mou_8                 3703\n",
       "std_og_t2t_mou_6             2768\n",
       "std_og_t2t_mou_7             2687\n",
       "std_og_t2t_mou_8             3703\n",
       "std_og_t2m_mou_6             2768\n",
       "std_og_t2m_mou_7             2687\n",
       "std_og_t2m_mou_8             3703\n",
       "std_og_t2f_mou_6             2768\n",
       "std_og_t2f_mou_7             2687\n",
       "std_og_t2f_mou_8             3703\n",
       "std_og_t2c_mou_6             2768\n",
       "std_og_t2c_mou_7             2687\n",
       "std_og_t2c_mou_8             3703\n",
       "std_og_mou_6                 2768\n",
       "std_og_mou_7                 2687\n",
       "std_og_mou_8                 3703\n",
       "isd_og_mou_6                 2768\n",
       "isd_og_mou_7                 2687\n",
       "isd_og_mou_8                 3703\n",
       "spl_og_mou_6                 2768\n",
       "spl_og_mou_7                 2687\n",
       "spl_og_mou_8                 3703\n",
       "og_others_6                  2768\n",
       "og_others_7                  2687\n",
       "og_others_8                  3703\n",
       "total_og_mou_6                  0\n",
       "total_og_mou_7                  0\n",
       "total_og_mou_8                  0\n",
       "loc_ic_t2t_mou_6             2768\n",
       "loc_ic_t2t_mou_7             2687\n",
       "loc_ic_t2t_mou_8             3703\n",
       "loc_ic_t2m_mou_6             2768\n",
       "loc_ic_t2m_mou_7             2687\n",
       "loc_ic_t2m_mou_8             3703\n",
       "loc_ic_t2f_mou_6             2768\n",
       "loc_ic_t2f_mou_7             2687\n",
       "loc_ic_t2f_mou_8             3703\n",
       "loc_ic_mou_6                 2768\n",
       "loc_ic_mou_7                 2687\n",
       "loc_ic_mou_8                 3703\n",
       "std_ic_t2t_mou_6             2768\n",
       "std_ic_t2t_mou_7             2687\n",
       "std_ic_t2t_mou_8             3703\n",
       "std_ic_t2m_mou_6             2768\n",
       "std_ic_t2m_mou_7             2687\n",
       "std_ic_t2m_mou_8             3703\n",
       "std_ic_t2f_mou_6             2768\n",
       "std_ic_t2f_mou_7             2687\n",
       "std_ic_t2f_mou_8             3703\n",
       "std_ic_t2o_mou_6             2768\n",
       "std_ic_t2o_mou_7             2687\n",
       "std_ic_t2o_mou_8             3703\n",
       "std_ic_mou_6                 2768\n",
       "std_ic_mou_7                 2687\n",
       "std_ic_mou_8                 3703\n",
       "total_ic_mou_6                  0\n",
       "total_ic_mou_7                  0\n",
       "total_ic_mou_8                  0\n",
       "spl_ic_mou_6                 2768\n",
       "spl_ic_mou_7                 2687\n",
       "spl_ic_mou_8                 3703\n",
       "isd_ic_mou_6                 2768\n",
       "isd_ic_mou_7                 2687\n",
       "isd_ic_mou_8                 3703\n",
       "ic_others_6                  2768\n",
       "ic_others_7                  2687\n",
       "ic_others_8                  3703\n",
       "total_rech_num_6                0\n",
       "total_rech_num_7                0\n",
       "total_rech_num_8                0\n",
       "total_rech_amt_6                0\n",
       "total_rech_amt_7                0\n",
       "total_rech_amt_8                0\n",
       "max_rech_amt_6                  0\n",
       "max_rech_amt_7                  0\n",
       "max_rech_amt_8                  0\n",
       "date_of_last_rech_6          1101\n",
       "date_of_last_rech_7          1234\n",
       "date_of_last_rech_8          2461\n",
       "last_day_rch_amt_6              0\n",
       "last_day_rch_amt_7              0\n",
       "last_day_rch_amt_8              0\n",
       "date_of_last_rech_data_6    52431\n",
       "date_of_last_rech_data_7    52134\n",
       "date_of_last_rech_data_8    51582\n",
       "total_rech_data_6           52431\n",
       "total_rech_data_7           52134\n",
       "total_rech_data_8           51582\n",
       "max_rech_data_6             52431\n",
       "max_rech_data_7             52134\n",
       "max_rech_data_8             51582\n",
       "count_rech_2g_6             52431\n",
       "count_rech_2g_7             52134\n",
       "count_rech_2g_8             51582\n",
       "count_rech_3g_6             52431\n",
       "count_rech_3g_7             52134\n",
       "count_rech_3g_8             51582\n",
       "av_rech_amt_data_6          52431\n",
       "av_rech_amt_data_7          52134\n",
       "av_rech_amt_data_8          51582\n",
       "vol_2g_mb_6                     0\n",
       "vol_2g_mb_7                     0\n",
       "vol_2g_mb_8                     0\n",
       "vol_3g_mb_6                     0\n",
       "vol_3g_mb_7                     0\n",
       "vol_3g_mb_8                     0\n",
       "arpu_3g_6                   52431\n",
       "arpu_3g_7                   52134\n",
       "arpu_3g_8                   51582\n",
       "arpu_2g_6                   52431\n",
       "arpu_2g_7                   52134\n",
       "arpu_2g_8                   51582\n",
       "night_pck_user_6            52431\n",
       "night_pck_user_7            52134\n",
       "night_pck_user_8            51582\n",
       "monthly_2g_6                    0\n",
       "monthly_2g_7                    0\n",
       "monthly_2g_8                    0\n",
       "sachet_2g_6                     0\n",
       "sachet_2g_7                     0\n",
       "sachet_2g_8                     0\n",
       "monthly_3g_6                    0\n",
       "monthly_3g_7                    0\n",
       "monthly_3g_8                    0\n",
       "sachet_3g_6                     0\n",
       "sachet_3g_7                     0\n",
       "sachet_3g_8                     0\n",
       "fb_user_6                   52431\n",
       "fb_user_7                   52134\n",
       "fb_user_8                   51582\n",
       "aon                             0\n",
       "aug_vbc_3g                      0\n",
       "jul_vbc_3g                      0\n",
       "jun_vbc_3g                      0\n",
       "churn_probability               0\n",
       "dtype: int64"
      ]
     },
     "execution_count": 6,
     "metadata": {},
     "output_type": "execute_result"
    }
   ],
   "source": [
    "pd.set_option('display.max_rows', None)\n",
    "df.isnull().sum()"
   ]
  },
  {
   "cell_type": "code",
   "execution_count": 7,
   "id": "1529f5ac",
   "metadata": {},
   "outputs": [
    {
     "data": {
      "text/plain": [
       "(69999, 172)"
      ]
     },
     "execution_count": 7,
     "metadata": {},
     "output_type": "execute_result"
    }
   ],
   "source": [
    "df.shape"
   ]
  },
  {
   "cell_type": "code",
   "execution_count": 8,
   "id": "89d082aa",
   "metadata": {
    "scrolled": true
   },
   "outputs": [
    {
     "name": "stdout",
     "output_type": "stream",
     "text": [
      "5.714367348104973\n",
      "74.28677552536465\n"
     ]
    }
   ],
   "source": [
    "print(4000 * 100 / 69999)\n",
    "print(52000 * 100 / 69999)"
   ]
  },
  {
   "cell_type": "markdown",
   "id": "e490fdf4",
   "metadata": {},
   "source": [
    "A few columns have about 74% of their data missing. Thus, eliminating these columns."
   ]
  },
  {
   "cell_type": "code",
   "execution_count": 9,
   "id": "e37a9eab",
   "metadata": {},
   "outputs": [
    {
     "name": "stdout",
     "output_type": "stream",
     "text": [
      "30\n"
     ]
    }
   ],
   "source": [
    "i = 0\n",
    "for col in df.columns:\n",
    "    if df[col].isnull().sum() >= 4000:\n",
    "        df = df.drop(col, axis = 1)\n",
    "        i = i + 1\n",
    "print(i)"
   ]
  },
  {
   "cell_type": "code",
   "execution_count": 10,
   "id": "b2cf2f45",
   "metadata": {},
   "outputs": [
    {
     "data": {
      "text/plain": [
       "(69999, 142)"
      ]
     },
     "execution_count": 10,
     "metadata": {},
     "output_type": "execute_result"
    }
   ],
   "source": [
    "df.shape"
   ]
  },
  {
   "cell_type": "code",
   "execution_count": 11,
   "id": "be6f47c8",
   "metadata": {},
   "outputs": [
    {
     "data": {
      "text/plain": [
       "id                         0\n",
       "circle_id                  0\n",
       "loc_og_t2o_mou           702\n",
       "std_og_t2o_mou           702\n",
       "loc_ic_t2o_mou           702\n",
       "last_date_of_month_6       0\n",
       "last_date_of_month_7     399\n",
       "last_date_of_month_8     733\n",
       "arpu_6                     0\n",
       "arpu_7                     0\n",
       "arpu_8                     0\n",
       "onnet_mou_6             2768\n",
       "onnet_mou_7             2687\n",
       "onnet_mou_8             3703\n",
       "offnet_mou_6            2768\n",
       "offnet_mou_7            2687\n",
       "offnet_mou_8            3703\n",
       "roam_ic_mou_6           2768\n",
       "roam_ic_mou_7           2687\n",
       "roam_ic_mou_8           3703\n",
       "roam_og_mou_6           2768\n",
       "roam_og_mou_7           2687\n",
       "roam_og_mou_8           3703\n",
       "loc_og_t2t_mou_6        2768\n",
       "loc_og_t2t_mou_7        2687\n",
       "loc_og_t2t_mou_8        3703\n",
       "loc_og_t2m_mou_6        2768\n",
       "loc_og_t2m_mou_7        2687\n",
       "loc_og_t2m_mou_8        3703\n",
       "loc_og_t2f_mou_6        2768\n",
       "loc_og_t2f_mou_7        2687\n",
       "loc_og_t2f_mou_8        3703\n",
       "loc_og_t2c_mou_6        2768\n",
       "loc_og_t2c_mou_7        2687\n",
       "loc_og_t2c_mou_8        3703\n",
       "loc_og_mou_6            2768\n",
       "loc_og_mou_7            2687\n",
       "loc_og_mou_8            3703\n",
       "std_og_t2t_mou_6        2768\n",
       "std_og_t2t_mou_7        2687\n",
       "std_og_t2t_mou_8        3703\n",
       "std_og_t2m_mou_6        2768\n",
       "std_og_t2m_mou_7        2687\n",
       "std_og_t2m_mou_8        3703\n",
       "std_og_t2f_mou_6        2768\n",
       "std_og_t2f_mou_7        2687\n",
       "std_og_t2f_mou_8        3703\n",
       "std_og_t2c_mou_6        2768\n",
       "std_og_t2c_mou_7        2687\n",
       "std_og_t2c_mou_8        3703\n",
       "std_og_mou_6            2768\n",
       "std_og_mou_7            2687\n",
       "std_og_mou_8            3703\n",
       "isd_og_mou_6            2768\n",
       "isd_og_mou_7            2687\n",
       "isd_og_mou_8            3703\n",
       "spl_og_mou_6            2768\n",
       "spl_og_mou_7            2687\n",
       "spl_og_mou_8            3703\n",
       "og_others_6             2768\n",
       "og_others_7             2687\n",
       "og_others_8             3703\n",
       "total_og_mou_6             0\n",
       "total_og_mou_7             0\n",
       "total_og_mou_8             0\n",
       "loc_ic_t2t_mou_6        2768\n",
       "loc_ic_t2t_mou_7        2687\n",
       "loc_ic_t2t_mou_8        3703\n",
       "loc_ic_t2m_mou_6        2768\n",
       "loc_ic_t2m_mou_7        2687\n",
       "loc_ic_t2m_mou_8        3703\n",
       "loc_ic_t2f_mou_6        2768\n",
       "loc_ic_t2f_mou_7        2687\n",
       "loc_ic_t2f_mou_8        3703\n",
       "loc_ic_mou_6            2768\n",
       "loc_ic_mou_7            2687\n",
       "loc_ic_mou_8            3703\n",
       "std_ic_t2t_mou_6        2768\n",
       "std_ic_t2t_mou_7        2687\n",
       "std_ic_t2t_mou_8        3703\n",
       "std_ic_t2m_mou_6        2768\n",
       "std_ic_t2m_mou_7        2687\n",
       "std_ic_t2m_mou_8        3703\n",
       "std_ic_t2f_mou_6        2768\n",
       "std_ic_t2f_mou_7        2687\n",
       "std_ic_t2f_mou_8        3703\n",
       "std_ic_t2o_mou_6        2768\n",
       "std_ic_t2o_mou_7        2687\n",
       "std_ic_t2o_mou_8        3703\n",
       "std_ic_mou_6            2768\n",
       "std_ic_mou_7            2687\n",
       "std_ic_mou_8            3703\n",
       "total_ic_mou_6             0\n",
       "total_ic_mou_7             0\n",
       "total_ic_mou_8             0\n",
       "spl_ic_mou_6            2768\n",
       "spl_ic_mou_7            2687\n",
       "spl_ic_mou_8            3703\n",
       "isd_ic_mou_6            2768\n",
       "isd_ic_mou_7            2687\n",
       "isd_ic_mou_8            3703\n",
       "ic_others_6             2768\n",
       "ic_others_7             2687\n",
       "ic_others_8             3703\n",
       "total_rech_num_6           0\n",
       "total_rech_num_7           0\n",
       "total_rech_num_8           0\n",
       "total_rech_amt_6           0\n",
       "total_rech_amt_7           0\n",
       "total_rech_amt_8           0\n",
       "max_rech_amt_6             0\n",
       "max_rech_amt_7             0\n",
       "max_rech_amt_8             0\n",
       "date_of_last_rech_6     1101\n",
       "date_of_last_rech_7     1234\n",
       "date_of_last_rech_8     2461\n",
       "last_day_rch_amt_6         0\n",
       "last_day_rch_amt_7         0\n",
       "last_day_rch_amt_8         0\n",
       "vol_2g_mb_6                0\n",
       "vol_2g_mb_7                0\n",
       "vol_2g_mb_8                0\n",
       "vol_3g_mb_6                0\n",
       "vol_3g_mb_7                0\n",
       "vol_3g_mb_8                0\n",
       "monthly_2g_6               0\n",
       "monthly_2g_7               0\n",
       "monthly_2g_8               0\n",
       "sachet_2g_6                0\n",
       "sachet_2g_7                0\n",
       "sachet_2g_8                0\n",
       "monthly_3g_6               0\n",
       "monthly_3g_7               0\n",
       "monthly_3g_8               0\n",
       "sachet_3g_6                0\n",
       "sachet_3g_7                0\n",
       "sachet_3g_8                0\n",
       "aon                        0\n",
       "aug_vbc_3g                 0\n",
       "jul_vbc_3g                 0\n",
       "jun_vbc_3g                 0\n",
       "churn_probability          0\n",
       "dtype: int64"
      ]
     },
     "execution_count": 11,
     "metadata": {},
     "output_type": "execute_result"
    }
   ],
   "source": [
    "df.isnull().sum()"
   ]
  },
  {
   "cell_type": "markdown",
   "id": "910b3b09",
   "metadata": {},
   "source": [
    "The missing data accounts for about 5% of the total dataset "
   ]
  },
  {
   "cell_type": "code",
   "execution_count": 12,
   "id": "5dfe5b10",
   "metadata": {},
   "outputs": [
    {
     "data": {
      "text/plain": [
       "10.188716981671167"
      ]
     },
     "execution_count": 12,
     "metadata": {},
     "output_type": "execute_result"
    }
   ],
   "source": [
    "df.churn_probability.sum() * 100 / 69999"
   ]
  },
  {
   "cell_type": "markdown",
   "id": "ba6423a7",
   "metadata": {},
   "source": [
    "About 10% of the total provided data has the churn label. \n",
    "\n",
    "And a max of 5.7% data is missing from an individual varible."
   ]
  },
  {
   "cell_type": "code",
   "execution_count": 13,
   "id": "79408bba",
   "metadata": {},
   "outputs": [],
   "source": [
    "df_churn = df[df.churn_probability == 1]"
   ]
  },
  {
   "cell_type": "code",
   "execution_count": 14,
   "id": "e67568bb",
   "metadata": {},
   "outputs": [
    {
     "name": "stdout",
     "output_type": "stream",
     "text": [
      "(7132, 142)\n"
     ]
    }
   ],
   "source": [
    "print(df_churn.shape)"
   ]
  },
  {
   "cell_type": "code",
   "execution_count": 15,
   "id": "95e3ba52",
   "metadata": {},
   "outputs": [
    {
     "data": {
      "text/plain": [
       "58.38145430091807"
      ]
     },
     "execution_count": 15,
     "metadata": {},
     "output_type": "execute_result"
    }
   ],
   "source": [
    "df_churn.isnull().sum().sum() * 100 / df.isnull().sum().sum()"
   ]
  },
  {
   "cell_type": "code",
   "execution_count": 19,
   "id": "2ccc6022",
   "metadata": {},
   "outputs": [
    {
     "data": {
      "text/plain": [
       "(7132, 142)"
      ]
     },
     "execution_count": 19,
     "metadata": {},
     "output_type": "execute_result"
    }
   ],
   "source": [
    "df_churn.shape\n"
   ]
  },
  {
   "cell_type": "code",
   "execution_count": 22,
   "id": "e3c9f8b7",
   "metadata": {},
   "outputs": [
    {
     "data": {
      "text/plain": [
       "41.236679753224905"
      ]
     },
     "execution_count": 22,
     "metadata": {},
     "output_type": "execute_result"
    }
   ],
   "source": [
    "df_churn.isnull().sum().max() * 100 / 7132"
   ]
  },
  {
   "cell_type": "markdown",
   "id": "2b2a93c9",
   "metadata": {},
   "source": [
    "However, about 58% of the missing data belongs to the churned category. Thus, dropping null values would result in loss of valuable information in this case.\n",
    "\n",
    "And the maximum number of rows (entries) that we would have to delete / use manipulated variables would account for nearly 41% of the total entries in the churn section.\n",
    "\n",
    "\n",
    "We can assume the behaviour of churning clients is the same and replace all the null values with the mode value of that variable / column. \n",
    "\n",
    "OR\n",
    "\n",
    "We could replace them with the mean of that column.\n",
    "\n",
    "\n",
    "### Message for study partner ->\n",
    "For some reason my laptop freezes everytime I try to dropna(). I couldn't figure out the issue and it is persistent. \n",
    "\n",
    "As a result I couldn't drop any of the null values. I've tried it after defragmenting the drive but to no success. \n"
   ]
  },
  {
   "cell_type": "code",
   "execution_count": 27,
   "id": "e62671e9",
   "metadata": {},
   "outputs": [
    {
     "data": {
      "text/plain": [
       "count    69999.0\n",
       "mean       109.0\n",
       "std          0.0\n",
       "min        109.0\n",
       "25%        109.0\n",
       "50%        109.0\n",
       "75%        109.0\n",
       "max        109.0\n",
       "Name: circle_id, dtype: float64"
      ]
     },
     "execution_count": 27,
     "metadata": {},
     "output_type": "execute_result"
    }
   ],
   "source": [
    "df['circle_id'].describe()"
   ]
  },
  {
   "cell_type": "code",
   "execution_count": 28,
   "id": "db75e365",
   "metadata": {},
   "outputs": [
    {
     "data": {
      "text/plain": [
       "count    69297.0\n",
       "mean         0.0\n",
       "std          0.0\n",
       "min          0.0\n",
       "25%          0.0\n",
       "50%          0.0\n",
       "75%          0.0\n",
       "max          0.0\n",
       "Name: loc_og_t2o_mou, dtype: float64"
      ]
     },
     "execution_count": 28,
     "metadata": {},
     "output_type": "execute_result"
    }
   ],
   "source": [
    "df['loc_og_t2o_mou'].describe()"
   ]
  },
  {
   "cell_type": "code",
   "execution_count": 29,
   "id": "85387a00",
   "metadata": {},
   "outputs": [
    {
     "data": {
      "text/plain": [
       "count    69297.0\n",
       "mean         0.0\n",
       "std          0.0\n",
       "min          0.0\n",
       "25%          0.0\n",
       "50%          0.0\n",
       "75%          0.0\n",
       "max          0.0\n",
       "Name: std_og_t2o_mou, dtype: float64"
      ]
     },
     "execution_count": 29,
     "metadata": {},
     "output_type": "execute_result"
    }
   ],
   "source": [
    "df['std_og_t2o_mou'].describe()"
   ]
  },
  {
   "cell_type": "code",
   "execution_count": 30,
   "id": "d0846b16",
   "metadata": {
    "scrolled": true
   },
   "outputs": [
    {
     "data": {
      "text/plain": [
       "count    69297.0\n",
       "mean         0.0\n",
       "std          0.0\n",
       "min          0.0\n",
       "25%          0.0\n",
       "50%          0.0\n",
       "75%          0.0\n",
       "max          0.0\n",
       "Name: loc_ic_t2o_mou, dtype: float64"
      ]
     },
     "execution_count": 30,
     "metadata": {},
     "output_type": "execute_result"
    }
   ],
   "source": [
    "df['loc_ic_t2o_mou'].describe()"
   ]
  },
  {
   "cell_type": "code",
   "execution_count": 31,
   "id": "e081f83f",
   "metadata": {},
   "outputs": [],
   "source": [
    "df = df.drop(['loc_ic_t2o_mou','std_og_t2o_mou','loc_og_t2o_mou','circle_id'], axis = 1)"
   ]
  },
  {
   "cell_type": "markdown",
   "id": "7031e86f",
   "metadata": {},
   "source": [
    "Total monthly reacharge per month"
   ]
  },
  {
   "cell_type": "code",
   "execution_count": 32,
   "id": "c09fee3f",
   "metadata": {},
   "outputs": [],
   "source": [
    "df['TotMnth_6'] = df.monthly_2g_6 + df.monthly_3g_6\n",
    "df['TotMnth_7'] = df.monthly_2g_7 + df.monthly_3g_7\n",
    "df['TotMnth_8'] = df.monthly_2g_8 + df.monthly_3g_8"
   ]
  },
  {
   "cell_type": "code",
   "execution_count": 33,
   "id": "1856abcc",
   "metadata": {},
   "outputs": [],
   "source": [
    "df['TotSac_6'] = df.sachet_3g_6 + df.sachet_2g_6\n",
    "df['TotSac_7'] = df.sachet_3g_7 + df.sachet_2g_7\n",
    "df['TotSac_8'] = df.sachet_3g_8 + df.sachet_2g_8"
   ]
  },
  {
   "cell_type": "markdown",
   "id": "9b339d73",
   "metadata": {},
   "source": [
    "Attempting to identify the increasing or decreasing trends in recharge frequency between months"
   ]
  },
  {
   "cell_type": "code",
   "execution_count": 34,
   "id": "0e428ed1",
   "metadata": {},
   "outputs": [],
   "source": [
    "df['Mnth_6-7'] = (df.TotMnth_6 - df.TotMnth_7)\n",
    "df['Mnth_7-8'] = (df.TotMnth_7 - df.TotMnth_8)\n",
    "df['Mnth_6-8'] = (df.TotMnth_6 - df.TotMnth_8)\n",
    "df['Sac_6-7'] = (df.TotSac_6 - df.TotSac_7)\n",
    "df['Sac_7-8'] = (df.TotSac_7 - df.TotSac_8)\n",
    "df['Sac_6-8'] = (df.TotSac_6 - df.TotSac_8)"
   ]
  },
  {
   "cell_type": "markdown",
   "id": "76b522f8",
   "metadata": {},
   "source": [
    "Trend analysis for data volume on a monthly basis"
   ]
  },
  {
   "cell_type": "code",
   "execution_count": 35,
   "id": "02ba9c8e",
   "metadata": {},
   "outputs": [],
   "source": [
    "df['TotData_6'] = df.vol_2g_mb_6 + df.vol_3g_mb_6\n",
    "df['TotData_7'] = df.vol_2g_mb_7 + df.vol_3g_mb_7\n",
    "df['TotData_8'] = df.vol_2g_mb_8 + df.vol_3g_mb_8\n",
    "\n",
    "df['DataChange6-7'] = (df.TotData_6 - df.TotData_7)\n",
    "df['DataChange7-8'] = (df.TotData_7 - df.TotData_8)\n",
    "df['DataChange6-8'] = (df.TotData_6 - df.TotData_8)"
   ]
  },
  {
   "cell_type": "markdown",
   "id": "58c263be",
   "metadata": {},
   "source": [
    "Trend Analysis on Recharge Amount."
   ]
  },
  {
   "cell_type": "code",
   "execution_count": 36,
   "id": "95766132",
   "metadata": {},
   "outputs": [],
   "source": [
    "df['RechChange_6-7'] = df.last_day_rch_amt_6 - df.last_day_rch_amt_7\n",
    "df['RechChange_7-8'] = df.last_day_rch_amt_7 - df.last_day_rch_amt_8\n",
    "df['RechChange_6-8'] = df.last_day_rch_amt_6 - df.last_day_rch_amt_8"
   ]
  },
  {
   "cell_type": "markdown",
   "id": "c5f51d4f",
   "metadata": {},
   "source": [
    "Analysisng trends in total minutes of usage on monthly basis for both incoming and outgoing call"
   ]
  },
  {
   "cell_type": "code",
   "execution_count": 37,
   "id": "8595868d",
   "metadata": {},
   "outputs": [],
   "source": [
    "df['TotIC_mou_Chng_6-7'] = df.total_ic_mou_6 - df.total_ic_mou_7\n",
    "df['TotIC_mou_Chng_7-8'] = df.total_ic_mou_7 - df.total_ic_mou_8\n",
    "df['TotIC_mou_Chng_6-8'] = df.total_ic_mou_6 - df.total_ic_mou_8\n",
    "\n",
    "df['TotOG_mou_Chng_6-7'] = df.total_og_mou_6 - df.total_og_mou_7\n",
    "df['TotOG_mou_Chng_7-8'] = df.total_og_mou_7 - df.total_og_mou_8\n",
    "df['TotOG_mou_Chng_6-8'] = df.total_og_mou_6 - df.total_og_mou_8"
   ]
  },
  {
   "cell_type": "markdown",
   "id": "ddb5e782",
   "metadata": {},
   "source": [
    "The Data doesn't have any direct varible mentionig customer staisfaction / feedback.\n",
    "\n",
    "But the calls made to customer care may / may not be reflect the feedback report.\n",
    "\n",
    "The increasing number of calls (Time spent on calls) may indicate increasing complaints."
   ]
  },
  {
   "cell_type": "code",
   "execution_count": 38,
   "id": "2c68bb25",
   "metadata": {},
   "outputs": [
    {
     "data": {
      "text/plain": [
       "(69999,)"
      ]
     },
     "execution_count": 38,
     "metadata": {},
     "output_type": "execute_result"
    }
   ],
   "source": [
    "df.loc_og_t2c_mou_8.shape"
   ]
  },
  {
   "cell_type": "code",
   "execution_count": 39,
   "id": "71970ffd",
   "metadata": {},
   "outputs": [
    {
     "name": "stderr",
     "output_type": "stream",
     "text": [
      "C:\\Users\\Public\\Documents\\Wondershare\\CreatorTemp\\ipykernel_18784\\3810143424.py:7: SettingWithCopyWarning: \n",
      "A value is trying to be set on a copy of a slice from a DataFrame\n",
      "\n",
      "See the caveats in the documentation: https://pandas.pydata.org/pandas-docs/stable/user_guide/indexing.html#returning-a-view-versus-a-copy\n",
      "  df.loc_og_t2c_mou_6[i] = 0\n",
      "C:\\Users\\Public\\Documents\\Wondershare\\CreatorTemp\\ipykernel_18784\\3810143424.py:11: SettingWithCopyWarning: \n",
      "A value is trying to be set on a copy of a slice from a DataFrame\n",
      "\n",
      "See the caveats in the documentation: https://pandas.pydata.org/pandas-docs/stable/user_guide/indexing.html#returning-a-view-versus-a-copy\n",
      "  df.loc_og_t2c_mou_7[i] = 0\n",
      "C:\\Users\\Public\\Documents\\Wondershare\\CreatorTemp\\ipykernel_18784\\3810143424.py:15: SettingWithCopyWarning: \n",
      "A value is trying to be set on a copy of a slice from a DataFrame\n",
      "\n",
      "See the caveats in the documentation: https://pandas.pydata.org/pandas-docs/stable/user_guide/indexing.html#returning-a-view-versus-a-copy\n",
      "  df.loc_og_t2c_mou_8[i] = 0\n"
     ]
    },
    {
     "name": "stdout",
     "output_type": "stream",
     "text": [
      "2768 2687 3703\n"
     ]
    }
   ],
   "source": [
    "p = 0\n",
    "q = 0\n",
    "r = 0\n",
    "\n",
    "for i in range(0,69999):\n",
    "    if pd.isna(df.loc_og_t2c_mou_6[i]):\n",
    "        df.loc_og_t2c_mou_6[i] = 0\n",
    "        p = p + 1\n",
    "for i in range(0,69999):\n",
    "    if pd.isna(df.loc_og_t2c_mou_7[i]):\n",
    "        df.loc_og_t2c_mou_7[i] = 0\n",
    "        q = q + 1\n",
    "for i in range(0,69999):\n",
    "    if pd.isna(df.loc_og_t2c_mou_8[i]):\n",
    "        df.loc_og_t2c_mou_8[i] = 0\n",
    "        r = r + 1\n",
    "        \n",
    "print(p,q,r)"
   ]
  },
  {
   "cell_type": "code",
   "execution_count": 40,
   "id": "60040134",
   "metadata": {},
   "outputs": [],
   "source": [
    "df['CustCall_6-7'] = df.loc_og_t2c_mou_6 - df.loc_og_t2c_mou_7\n",
    "df['CustCall_7-8'] = df.loc_og_t2c_mou_7 - df.loc_og_t2c_mou_8\n",
    "df['CustCall_6-8'] = df.loc_og_t2c_mou_6 - df.loc_og_t2c_mou_8"
   ]
  },
  {
   "cell_type": "code",
   "execution_count": 41,
   "id": "c6e650a6",
   "metadata": {
    "scrolled": false
   },
   "outputs": [
    {
     "data": {
      "text/plain": [
       "0     0.00\n",
       "1   -29.79\n",
       "2     2.14\n",
       "3    -8.03\n",
       "4     0.00\n",
       "5    11.50\n",
       "6     0.00\n",
       "7     0.00\n",
       "8     0.00\n",
       "9     0.00\n",
       "Name: CustCall_6-8, dtype: float64"
      ]
     },
     "execution_count": 41,
     "metadata": {},
     "output_type": "execute_result"
    }
   ],
   "source": [
    "df['CustCall_6-8'].head(10)"
   ]
  },
  {
   "cell_type": "markdown",
   "id": "328c3380",
   "metadata": {},
   "source": [
    "Average Revenue per user trend"
   ]
  },
  {
   "cell_type": "code",
   "execution_count": 42,
   "id": "c810721e",
   "metadata": {},
   "outputs": [],
   "source": [
    "df['Rev_Chng_6-7'] = df.arpu_6 - df.arpu_7\n",
    "df['Rev_Chng_7-8'] = df.arpu_7 - df.arpu_8\n",
    "df['Rev_Chng_6-8'] = df.arpu_6 - df.arpu_8\n"
   ]
  },
  {
   "cell_type": "markdown",
   "id": "e783c284",
   "metadata": {},
   "source": [
    "We could've substituted the orignal changed values to dummy variables for eg; \n",
    "1. A increase in values could be denoted by +1\n",
    "2. A decrease in values could be denoted by -1\n",
    "3. No net change could be denoted by 0\n",
    "\n",
    "But this might not be so effective as an increment or decrement may not necessarily denote the probability to churn. But the actual values might provide some insight on the same."
   ]
  },
  {
   "cell_type": "code",
   "execution_count": 43,
   "id": "6cda3e87",
   "metadata": {},
   "outputs": [],
   "source": [
    "df = df.drop(['last_date_of_month_6','last_date_of_month_7','last_date_of_month_8'], axis = 1)"
   ]
  },
  {
   "cell_type": "markdown",
   "id": "07b6f77c",
   "metadata": {},
   "source": [
    "# Model Building"
   ]
  },
  {
   "cell_type": "markdown",
   "id": "649d45fc",
   "metadata": {},
   "source": [
    "Decision trees are rhobust and can worrk along with the outliers."
   ]
  }
 ],
 "metadata": {
  "kernelspec": {
   "display_name": "Python 3 (ipykernel)",
   "language": "python",
   "name": "python3"
  },
  "language_info": {
   "codemirror_mode": {
    "name": "ipython",
    "version": 3
   },
   "file_extension": ".py",
   "mimetype": "text/x-python",
   "name": "python",
   "nbconvert_exporter": "python",
   "pygments_lexer": "ipython3",
   "version": "3.10.9"
  }
 },
 "nbformat": 4,
 "nbformat_minor": 5
}
