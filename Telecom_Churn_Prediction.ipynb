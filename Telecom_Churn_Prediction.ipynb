{
  "cells": [
    {
      "cell_type": "markdown",
      "metadata": {
        "id": "view-in-github",
        "colab_type": "text"
      },
      "source": [
        "<a href=\"https://colab.research.google.com/github/Vivek-Hiremath55/Telecom_Churn_Pred-Half-/blob/main/Telecom_Churn_Prediction.ipynb\" target=\"_parent\"><img src=\"https://colab.research.google.com/assets/colab-badge.svg\" alt=\"Open In Colab\"/></a>"
      ]
    },
    {
      "cell_type": "code",
      "execution_count": 3,
      "id": "7d9cdb77",
      "metadata": {
        "id": "7d9cdb77"
      },
      "outputs": [],
      "source": [
        "import pandas as pd, matplotlib.pyplot as plt, seaborn as sns, numpy as np"
      ]
    },
    {
      "cell_type": "code",
      "source": [
        "from google.colab import files"
      ],
      "metadata": {
        "id": "tADMnwPd8pjg"
      },
      "id": "tADMnwPd8pjg",
      "execution_count": 5,
      "outputs": []
    },
    {
      "cell_type": "code",
      "source": [
        "upload = files.upload()"
      ],
      "metadata": {
        "colab": {
          "base_uri": "https://localhost:8080/",
          "height": 73
        },
        "id": "1qmjVGEZ8u-Z",
        "outputId": "de9066c7-b285-4142-e76c-cc3773ed68d9"
      },
      "id": "1qmjVGEZ8u-Z",
      "execution_count": 6,
      "outputs": [
        {
          "output_type": "display_data",
          "data": {
            "text/plain": [
              "<IPython.core.display.HTML object>"
            ],
            "text/html": [
              "\n",
              "     <input type=\"file\" id=\"files-3095f6bf-96e6-4bcb-83b8-52b3b527c872\" name=\"files[]\" multiple disabled\n",
              "        style=\"border:none\" />\n",
              "     <output id=\"result-3095f6bf-96e6-4bcb-83b8-52b3b527c872\">\n",
              "      Upload widget is only available when the cell has been executed in the\n",
              "      current browser session. Please rerun this cell to enable.\n",
              "      </output>\n",
              "      <script>// Copyright 2017 Google LLC\n",
              "//\n",
              "// Licensed under the Apache License, Version 2.0 (the \"License\");\n",
              "// you may not use this file except in compliance with the License.\n",
              "// You may obtain a copy of the License at\n",
              "//\n",
              "//      http://www.apache.org/licenses/LICENSE-2.0\n",
              "//\n",
              "// Unless required by applicable law or agreed to in writing, software\n",
              "// distributed under the License is distributed on an \"AS IS\" BASIS,\n",
              "// WITHOUT WARRANTIES OR CONDITIONS OF ANY KIND, either express or implied.\n",
              "// See the License for the specific language governing permissions and\n",
              "// limitations under the License.\n",
              "\n",
              "/**\n",
              " * @fileoverview Helpers for google.colab Python module.\n",
              " */\n",
              "(function(scope) {\n",
              "function span(text, styleAttributes = {}) {\n",
              "  const element = document.createElement('span');\n",
              "  element.textContent = text;\n",
              "  for (const key of Object.keys(styleAttributes)) {\n",
              "    element.style[key] = styleAttributes[key];\n",
              "  }\n",
              "  return element;\n",
              "}\n",
              "\n",
              "// Max number of bytes which will be uploaded at a time.\n",
              "const MAX_PAYLOAD_SIZE = 100 * 1024;\n",
              "\n",
              "function _uploadFiles(inputId, outputId) {\n",
              "  const steps = uploadFilesStep(inputId, outputId);\n",
              "  const outputElement = document.getElementById(outputId);\n",
              "  // Cache steps on the outputElement to make it available for the next call\n",
              "  // to uploadFilesContinue from Python.\n",
              "  outputElement.steps = steps;\n",
              "\n",
              "  return _uploadFilesContinue(outputId);\n",
              "}\n",
              "\n",
              "// This is roughly an async generator (not supported in the browser yet),\n",
              "// where there are multiple asynchronous steps and the Python side is going\n",
              "// to poll for completion of each step.\n",
              "// This uses a Promise to block the python side on completion of each step,\n",
              "// then passes the result of the previous step as the input to the next step.\n",
              "function _uploadFilesContinue(outputId) {\n",
              "  const outputElement = document.getElementById(outputId);\n",
              "  const steps = outputElement.steps;\n",
              "\n",
              "  const next = steps.next(outputElement.lastPromiseValue);\n",
              "  return Promise.resolve(next.value.promise).then((value) => {\n",
              "    // Cache the last promise value to make it available to the next\n",
              "    // step of the generator.\n",
              "    outputElement.lastPromiseValue = value;\n",
              "    return next.value.response;\n",
              "  });\n",
              "}\n",
              "\n",
              "/**\n",
              " * Generator function which is called between each async step of the upload\n",
              " * process.\n",
              " * @param {string} inputId Element ID of the input file picker element.\n",
              " * @param {string} outputId Element ID of the output display.\n",
              " * @return {!Iterable<!Object>} Iterable of next steps.\n",
              " */\n",
              "function* uploadFilesStep(inputId, outputId) {\n",
              "  const inputElement = document.getElementById(inputId);\n",
              "  inputElement.disabled = false;\n",
              "\n",
              "  const outputElement = document.getElementById(outputId);\n",
              "  outputElement.innerHTML = '';\n",
              "\n",
              "  const pickedPromise = new Promise((resolve) => {\n",
              "    inputElement.addEventListener('change', (e) => {\n",
              "      resolve(e.target.files);\n",
              "    });\n",
              "  });\n",
              "\n",
              "  const cancel = document.createElement('button');\n",
              "  inputElement.parentElement.appendChild(cancel);\n",
              "  cancel.textContent = 'Cancel upload';\n",
              "  const cancelPromise = new Promise((resolve) => {\n",
              "    cancel.onclick = () => {\n",
              "      resolve(null);\n",
              "    };\n",
              "  });\n",
              "\n",
              "  // Wait for the user to pick the files.\n",
              "  const files = yield {\n",
              "    promise: Promise.race([pickedPromise, cancelPromise]),\n",
              "    response: {\n",
              "      action: 'starting',\n",
              "    }\n",
              "  };\n",
              "\n",
              "  cancel.remove();\n",
              "\n",
              "  // Disable the input element since further picks are not allowed.\n",
              "  inputElement.disabled = true;\n",
              "\n",
              "  if (!files) {\n",
              "    return {\n",
              "      response: {\n",
              "        action: 'complete',\n",
              "      }\n",
              "    };\n",
              "  }\n",
              "\n",
              "  for (const file of files) {\n",
              "    const li = document.createElement('li');\n",
              "    li.append(span(file.name, {fontWeight: 'bold'}));\n",
              "    li.append(span(\n",
              "        `(${file.type || 'n/a'}) - ${file.size} bytes, ` +\n",
              "        `last modified: ${\n",
              "            file.lastModifiedDate ? file.lastModifiedDate.toLocaleDateString() :\n",
              "                                    'n/a'} - `));\n",
              "    const percent = span('0% done');\n",
              "    li.appendChild(percent);\n",
              "\n",
              "    outputElement.appendChild(li);\n",
              "\n",
              "    const fileDataPromise = new Promise((resolve) => {\n",
              "      const reader = new FileReader();\n",
              "      reader.onload = (e) => {\n",
              "        resolve(e.target.result);\n",
              "      };\n",
              "      reader.readAsArrayBuffer(file);\n",
              "    });\n",
              "    // Wait for the data to be ready.\n",
              "    let fileData = yield {\n",
              "      promise: fileDataPromise,\n",
              "      response: {\n",
              "        action: 'continue',\n",
              "      }\n",
              "    };\n",
              "\n",
              "    // Use a chunked sending to avoid message size limits. See b/62115660.\n",
              "    let position = 0;\n",
              "    do {\n",
              "      const length = Math.min(fileData.byteLength - position, MAX_PAYLOAD_SIZE);\n",
              "      const chunk = new Uint8Array(fileData, position, length);\n",
              "      position += length;\n",
              "\n",
              "      const base64 = btoa(String.fromCharCode.apply(null, chunk));\n",
              "      yield {\n",
              "        response: {\n",
              "          action: 'append',\n",
              "          file: file.name,\n",
              "          data: base64,\n",
              "        },\n",
              "      };\n",
              "\n",
              "      let percentDone = fileData.byteLength === 0 ?\n",
              "          100 :\n",
              "          Math.round((position / fileData.byteLength) * 100);\n",
              "      percent.textContent = `${percentDone}% done`;\n",
              "\n",
              "    } while (position < fileData.byteLength);\n",
              "  }\n",
              "\n",
              "  // All done.\n",
              "  yield {\n",
              "    response: {\n",
              "      action: 'complete',\n",
              "    }\n",
              "  };\n",
              "}\n",
              "\n",
              "scope.google = scope.google || {};\n",
              "scope.google.colab = scope.google.colab || {};\n",
              "scope.google.colab._files = {\n",
              "  _uploadFiles,\n",
              "  _uploadFilesContinue,\n",
              "};\n",
              "})(self);\n",
              "</script> "
            ]
          },
          "metadata": {}
        },
        {
          "output_type": "stream",
          "name": "stdout",
          "text": [
            "Saving train.csv to train.csv\n"
          ]
        }
      ]
    },
    {
      "cell_type": "code",
      "execution_count": 259,
      "id": "ebcf1fb1",
      "metadata": {
        "id": "ebcf1fb1"
      },
      "outputs": [],
      "source": [
        "df = pd.read_csv('train.csv')"
      ]
    },
    {
      "cell_type": "markdown",
      "id": "79c22b90",
      "metadata": {
        "id": "79c22b90"
      },
      "source": [
        "# EDA"
      ]
    },
    {
      "cell_type": "code",
      "execution_count": 260,
      "id": "d23b8f9b",
      "metadata": {
        "colab": {
          "base_uri": "https://localhost:8080/",
          "height": 255
        },
        "id": "d23b8f9b",
        "outputId": "1a6a9cc8-6342-4a08-b0cf-32bc82380a5c"
      },
      "outputs": [
        {
          "output_type": "execute_result",
          "data": {
            "text/plain": [
              "   id  circle_id  loc_og_t2o_mou  std_og_t2o_mou  loc_ic_t2o_mou  \\\n",
              "0   0        109             0.0             0.0             0.0   \n",
              "1   1        109             0.0             0.0             0.0   \n",
              "2   2        109             0.0             0.0             0.0   \n",
              "3   3        109             0.0             0.0             0.0   \n",
              "4   4        109             0.0             0.0             0.0   \n",
              "\n",
              "  last_date_of_month_6 last_date_of_month_7 last_date_of_month_8   arpu_6  \\\n",
              "0            6/30/2014            7/31/2014            8/31/2014   31.277   \n",
              "1            6/30/2014            7/31/2014            8/31/2014    0.000   \n",
              "2            6/30/2014            7/31/2014            8/31/2014   60.806   \n",
              "3            6/30/2014            7/31/2014            8/31/2014  156.362   \n",
              "4            6/30/2014            7/31/2014            8/31/2014  240.708   \n",
              "\n",
              "    arpu_7  ...  sachet_3g_7  sachet_3g_8  fb_user_6  fb_user_7  fb_user_8  \\\n",
              "0   87.009  ...            0            0        NaN        NaN        NaN   \n",
              "1  122.787  ...            0            0        NaN        1.0        NaN   \n",
              "2  103.176  ...            0            0        NaN        NaN        NaN   \n",
              "3  205.260  ...            0            0        NaN        NaN        NaN   \n",
              "4  128.191  ...            1            0        1.0        1.0        1.0   \n",
              "\n",
              "    aon  aug_vbc_3g  jul_vbc_3g  jun_vbc_3g  churn_probability  \n",
              "0  1958         0.0         0.0         0.0                  0  \n",
              "1   710         0.0         0.0         0.0                  0  \n",
              "2   882         0.0         0.0         0.0                  0  \n",
              "3   982         0.0         0.0         0.0                  0  \n",
              "4   647         0.0         0.0         0.0                  0  \n",
              "\n",
              "[5 rows x 172 columns]"
            ],
            "text/html": [
              "\n",
              "  <div id=\"df-f2fb5620-2735-41bc-a398-535c754e3464\" class=\"colab-df-container\">\n",
              "    <div>\n",
              "<style scoped>\n",
              "    .dataframe tbody tr th:only-of-type {\n",
              "        vertical-align: middle;\n",
              "    }\n",
              "\n",
              "    .dataframe tbody tr th {\n",
              "        vertical-align: top;\n",
              "    }\n",
              "\n",
              "    .dataframe thead th {\n",
              "        text-align: right;\n",
              "    }\n",
              "</style>\n",
              "<table border=\"1\" class=\"dataframe\">\n",
              "  <thead>\n",
              "    <tr style=\"text-align: right;\">\n",
              "      <th></th>\n",
              "      <th>id</th>\n",
              "      <th>circle_id</th>\n",
              "      <th>loc_og_t2o_mou</th>\n",
              "      <th>std_og_t2o_mou</th>\n",
              "      <th>loc_ic_t2o_mou</th>\n",
              "      <th>last_date_of_month_6</th>\n",
              "      <th>last_date_of_month_7</th>\n",
              "      <th>last_date_of_month_8</th>\n",
              "      <th>arpu_6</th>\n",
              "      <th>arpu_7</th>\n",
              "      <th>...</th>\n",
              "      <th>sachet_3g_7</th>\n",
              "      <th>sachet_3g_8</th>\n",
              "      <th>fb_user_6</th>\n",
              "      <th>fb_user_7</th>\n",
              "      <th>fb_user_8</th>\n",
              "      <th>aon</th>\n",
              "      <th>aug_vbc_3g</th>\n",
              "      <th>jul_vbc_3g</th>\n",
              "      <th>jun_vbc_3g</th>\n",
              "      <th>churn_probability</th>\n",
              "    </tr>\n",
              "  </thead>\n",
              "  <tbody>\n",
              "    <tr>\n",
              "      <th>0</th>\n",
              "      <td>0</td>\n",
              "      <td>109</td>\n",
              "      <td>0.0</td>\n",
              "      <td>0.0</td>\n",
              "      <td>0.0</td>\n",
              "      <td>6/30/2014</td>\n",
              "      <td>7/31/2014</td>\n",
              "      <td>8/31/2014</td>\n",
              "      <td>31.277</td>\n",
              "      <td>87.009</td>\n",
              "      <td>...</td>\n",
              "      <td>0</td>\n",
              "      <td>0</td>\n",
              "      <td>NaN</td>\n",
              "      <td>NaN</td>\n",
              "      <td>NaN</td>\n",
              "      <td>1958</td>\n",
              "      <td>0.0</td>\n",
              "      <td>0.0</td>\n",
              "      <td>0.0</td>\n",
              "      <td>0</td>\n",
              "    </tr>\n",
              "    <tr>\n",
              "      <th>1</th>\n",
              "      <td>1</td>\n",
              "      <td>109</td>\n",
              "      <td>0.0</td>\n",
              "      <td>0.0</td>\n",
              "      <td>0.0</td>\n",
              "      <td>6/30/2014</td>\n",
              "      <td>7/31/2014</td>\n",
              "      <td>8/31/2014</td>\n",
              "      <td>0.000</td>\n",
              "      <td>122.787</td>\n",
              "      <td>...</td>\n",
              "      <td>0</td>\n",
              "      <td>0</td>\n",
              "      <td>NaN</td>\n",
              "      <td>1.0</td>\n",
              "      <td>NaN</td>\n",
              "      <td>710</td>\n",
              "      <td>0.0</td>\n",
              "      <td>0.0</td>\n",
              "      <td>0.0</td>\n",
              "      <td>0</td>\n",
              "    </tr>\n",
              "    <tr>\n",
              "      <th>2</th>\n",
              "      <td>2</td>\n",
              "      <td>109</td>\n",
              "      <td>0.0</td>\n",
              "      <td>0.0</td>\n",
              "      <td>0.0</td>\n",
              "      <td>6/30/2014</td>\n",
              "      <td>7/31/2014</td>\n",
              "      <td>8/31/2014</td>\n",
              "      <td>60.806</td>\n",
              "      <td>103.176</td>\n",
              "      <td>...</td>\n",
              "      <td>0</td>\n",
              "      <td>0</td>\n",
              "      <td>NaN</td>\n",
              "      <td>NaN</td>\n",
              "      <td>NaN</td>\n",
              "      <td>882</td>\n",
              "      <td>0.0</td>\n",
              "      <td>0.0</td>\n",
              "      <td>0.0</td>\n",
              "      <td>0</td>\n",
              "    </tr>\n",
              "    <tr>\n",
              "      <th>3</th>\n",
              "      <td>3</td>\n",
              "      <td>109</td>\n",
              "      <td>0.0</td>\n",
              "      <td>0.0</td>\n",
              "      <td>0.0</td>\n",
              "      <td>6/30/2014</td>\n",
              "      <td>7/31/2014</td>\n",
              "      <td>8/31/2014</td>\n",
              "      <td>156.362</td>\n",
              "      <td>205.260</td>\n",
              "      <td>...</td>\n",
              "      <td>0</td>\n",
              "      <td>0</td>\n",
              "      <td>NaN</td>\n",
              "      <td>NaN</td>\n",
              "      <td>NaN</td>\n",
              "      <td>982</td>\n",
              "      <td>0.0</td>\n",
              "      <td>0.0</td>\n",
              "      <td>0.0</td>\n",
              "      <td>0</td>\n",
              "    </tr>\n",
              "    <tr>\n",
              "      <th>4</th>\n",
              "      <td>4</td>\n",
              "      <td>109</td>\n",
              "      <td>0.0</td>\n",
              "      <td>0.0</td>\n",
              "      <td>0.0</td>\n",
              "      <td>6/30/2014</td>\n",
              "      <td>7/31/2014</td>\n",
              "      <td>8/31/2014</td>\n",
              "      <td>240.708</td>\n",
              "      <td>128.191</td>\n",
              "      <td>...</td>\n",
              "      <td>1</td>\n",
              "      <td>0</td>\n",
              "      <td>1.0</td>\n",
              "      <td>1.0</td>\n",
              "      <td>1.0</td>\n",
              "      <td>647</td>\n",
              "      <td>0.0</td>\n",
              "      <td>0.0</td>\n",
              "      <td>0.0</td>\n",
              "      <td>0</td>\n",
              "    </tr>\n",
              "  </tbody>\n",
              "</table>\n",
              "<p>5 rows × 172 columns</p>\n",
              "</div>\n",
              "    <div class=\"colab-df-buttons\">\n",
              "\n",
              "  <div class=\"colab-df-container\">\n",
              "    <button class=\"colab-df-convert\" onclick=\"convertToInteractive('df-f2fb5620-2735-41bc-a398-535c754e3464')\"\n",
              "            title=\"Convert this dataframe to an interactive table.\"\n",
              "            style=\"display:none;\">\n",
              "\n",
              "  <svg xmlns=\"http://www.w3.org/2000/svg\" height=\"24px\" viewBox=\"0 -960 960 960\">\n",
              "    <path d=\"M120-120v-720h720v720H120Zm60-500h600v-160H180v160Zm220 220h160v-160H400v160Zm0 220h160v-160H400v160ZM180-400h160v-160H180v160Zm440 0h160v-160H620v160ZM180-180h160v-160H180v160Zm440 0h160v-160H620v160Z\"/>\n",
              "  </svg>\n",
              "    </button>\n",
              "\n",
              "  <style>\n",
              "    .colab-df-container {\n",
              "      display:flex;\n",
              "      gap: 12px;\n",
              "    }\n",
              "\n",
              "    .colab-df-convert {\n",
              "      background-color: #E8F0FE;\n",
              "      border: none;\n",
              "      border-radius: 50%;\n",
              "      cursor: pointer;\n",
              "      display: none;\n",
              "      fill: #1967D2;\n",
              "      height: 32px;\n",
              "      padding: 0 0 0 0;\n",
              "      width: 32px;\n",
              "    }\n",
              "\n",
              "    .colab-df-convert:hover {\n",
              "      background-color: #E2EBFA;\n",
              "      box-shadow: 0px 1px 2px rgba(60, 64, 67, 0.3), 0px 1px 3px 1px rgba(60, 64, 67, 0.15);\n",
              "      fill: #174EA6;\n",
              "    }\n",
              "\n",
              "    .colab-df-buttons div {\n",
              "      margin-bottom: 4px;\n",
              "    }\n",
              "\n",
              "    [theme=dark] .colab-df-convert {\n",
              "      background-color: #3B4455;\n",
              "      fill: #D2E3FC;\n",
              "    }\n",
              "\n",
              "    [theme=dark] .colab-df-convert:hover {\n",
              "      background-color: #434B5C;\n",
              "      box-shadow: 0px 1px 3px 1px rgba(0, 0, 0, 0.15);\n",
              "      filter: drop-shadow(0px 1px 2px rgba(0, 0, 0, 0.3));\n",
              "      fill: #FFFFFF;\n",
              "    }\n",
              "  </style>\n",
              "\n",
              "    <script>\n",
              "      const buttonEl =\n",
              "        document.querySelector('#df-f2fb5620-2735-41bc-a398-535c754e3464 button.colab-df-convert');\n",
              "      buttonEl.style.display =\n",
              "        google.colab.kernel.accessAllowed ? 'block' : 'none';\n",
              "\n",
              "      async function convertToInteractive(key) {\n",
              "        const element = document.querySelector('#df-f2fb5620-2735-41bc-a398-535c754e3464');\n",
              "        const dataTable =\n",
              "          await google.colab.kernel.invokeFunction('convertToInteractive',\n",
              "                                                    [key], {});\n",
              "        if (!dataTable) return;\n",
              "\n",
              "        const docLinkHtml = 'Like what you see? Visit the ' +\n",
              "          '<a target=\"_blank\" href=https://colab.research.google.com/notebooks/data_table.ipynb>data table notebook</a>'\n",
              "          + ' to learn more about interactive tables.';\n",
              "        element.innerHTML = '';\n",
              "        dataTable['output_type'] = 'display_data';\n",
              "        await google.colab.output.renderOutput(dataTable, element);\n",
              "        const docLink = document.createElement('div');\n",
              "        docLink.innerHTML = docLinkHtml;\n",
              "        element.appendChild(docLink);\n",
              "      }\n",
              "    </script>\n",
              "  </div>\n",
              "\n",
              "\n",
              "<div id=\"df-70e1ec48-e09a-458c-b966-26b53d9bb832\">\n",
              "  <button class=\"colab-df-quickchart\" onclick=\"quickchart('df-70e1ec48-e09a-458c-b966-26b53d9bb832')\"\n",
              "            title=\"Suggest charts.\"\n",
              "            style=\"display:none;\">\n",
              "\n",
              "<svg xmlns=\"http://www.w3.org/2000/svg\" height=\"24px\"viewBox=\"0 0 24 24\"\n",
              "     width=\"24px\">\n",
              "    <g>\n",
              "        <path d=\"M19 3H5c-1.1 0-2 .9-2 2v14c0 1.1.9 2 2 2h14c1.1 0 2-.9 2-2V5c0-1.1-.9-2-2-2zM9 17H7v-7h2v7zm4 0h-2V7h2v10zm4 0h-2v-4h2v4z\"/>\n",
              "    </g>\n",
              "</svg>\n",
              "  </button>\n",
              "\n",
              "<style>\n",
              "  .colab-df-quickchart {\n",
              "      --bg-color: #E8F0FE;\n",
              "      --fill-color: #1967D2;\n",
              "      --hover-bg-color: #E2EBFA;\n",
              "      --hover-fill-color: #174EA6;\n",
              "      --disabled-fill-color: #AAA;\n",
              "      --disabled-bg-color: #DDD;\n",
              "  }\n",
              "\n",
              "  [theme=dark] .colab-df-quickchart {\n",
              "      --bg-color: #3B4455;\n",
              "      --fill-color: #D2E3FC;\n",
              "      --hover-bg-color: #434B5C;\n",
              "      --hover-fill-color: #FFFFFF;\n",
              "      --disabled-bg-color: #3B4455;\n",
              "      --disabled-fill-color: #666;\n",
              "  }\n",
              "\n",
              "  .colab-df-quickchart {\n",
              "    background-color: var(--bg-color);\n",
              "    border: none;\n",
              "    border-radius: 50%;\n",
              "    cursor: pointer;\n",
              "    display: none;\n",
              "    fill: var(--fill-color);\n",
              "    height: 32px;\n",
              "    padding: 0;\n",
              "    width: 32px;\n",
              "  }\n",
              "\n",
              "  .colab-df-quickchart:hover {\n",
              "    background-color: var(--hover-bg-color);\n",
              "    box-shadow: 0 1px 2px rgba(60, 64, 67, 0.3), 0 1px 3px 1px rgba(60, 64, 67, 0.15);\n",
              "    fill: var(--button-hover-fill-color);\n",
              "  }\n",
              "\n",
              "  .colab-df-quickchart-complete:disabled,\n",
              "  .colab-df-quickchart-complete:disabled:hover {\n",
              "    background-color: var(--disabled-bg-color);\n",
              "    fill: var(--disabled-fill-color);\n",
              "    box-shadow: none;\n",
              "  }\n",
              "\n",
              "  .colab-df-spinner {\n",
              "    border: 2px solid var(--fill-color);\n",
              "    border-color: transparent;\n",
              "    border-bottom-color: var(--fill-color);\n",
              "    animation:\n",
              "      spin 1s steps(1) infinite;\n",
              "  }\n",
              "\n",
              "  @keyframes spin {\n",
              "    0% {\n",
              "      border-color: transparent;\n",
              "      border-bottom-color: var(--fill-color);\n",
              "      border-left-color: var(--fill-color);\n",
              "    }\n",
              "    20% {\n",
              "      border-color: transparent;\n",
              "      border-left-color: var(--fill-color);\n",
              "      border-top-color: var(--fill-color);\n",
              "    }\n",
              "    30% {\n",
              "      border-color: transparent;\n",
              "      border-left-color: var(--fill-color);\n",
              "      border-top-color: var(--fill-color);\n",
              "      border-right-color: var(--fill-color);\n",
              "    }\n",
              "    40% {\n",
              "      border-color: transparent;\n",
              "      border-right-color: var(--fill-color);\n",
              "      border-top-color: var(--fill-color);\n",
              "    }\n",
              "    60% {\n",
              "      border-color: transparent;\n",
              "      border-right-color: var(--fill-color);\n",
              "    }\n",
              "    80% {\n",
              "      border-color: transparent;\n",
              "      border-right-color: var(--fill-color);\n",
              "      border-bottom-color: var(--fill-color);\n",
              "    }\n",
              "    90% {\n",
              "      border-color: transparent;\n",
              "      border-bottom-color: var(--fill-color);\n",
              "    }\n",
              "  }\n",
              "</style>\n",
              "\n",
              "  <script>\n",
              "    async function quickchart(key) {\n",
              "      const quickchartButtonEl =\n",
              "        document.querySelector('#' + key + ' button');\n",
              "      quickchartButtonEl.disabled = true;  // To prevent multiple clicks.\n",
              "      quickchartButtonEl.classList.add('colab-df-spinner');\n",
              "      try {\n",
              "        const charts = await google.colab.kernel.invokeFunction(\n",
              "            'suggestCharts', [key], {});\n",
              "      } catch (error) {\n",
              "        console.error('Error during call to suggestCharts:', error);\n",
              "      }\n",
              "      quickchartButtonEl.classList.remove('colab-df-spinner');\n",
              "      quickchartButtonEl.classList.add('colab-df-quickchart-complete');\n",
              "    }\n",
              "    (() => {\n",
              "      let quickchartButtonEl =\n",
              "        document.querySelector('#df-70e1ec48-e09a-458c-b966-26b53d9bb832 button');\n",
              "      quickchartButtonEl.style.display =\n",
              "        google.colab.kernel.accessAllowed ? 'block' : 'none';\n",
              "    })();\n",
              "  </script>\n",
              "</div>\n",
              "    </div>\n",
              "  </div>\n"
            ]
          },
          "metadata": {},
          "execution_count": 260
        }
      ],
      "source": [
        "df.head()"
      ]
    },
    {
      "cell_type": "code",
      "execution_count": 261,
      "id": "78e4c42c",
      "metadata": {
        "colab": {
          "base_uri": "https://localhost:8080/",
          "height": 349
        },
        "id": "78e4c42c",
        "outputId": "db4bce1b-fa28-401b-e65e-ffd6a54d595e"
      },
      "outputs": [
        {
          "output_type": "execute_result",
          "data": {
            "text/plain": [
              "                 id  circle_id  loc_og_t2o_mou  std_og_t2o_mou  \\\n",
              "count  69999.000000    69999.0         69297.0         69297.0   \n",
              "mean   34999.000000      109.0             0.0             0.0   \n",
              "std    20207.115084        0.0             0.0             0.0   \n",
              "min        0.000000      109.0             0.0             0.0   \n",
              "25%    17499.500000      109.0             0.0             0.0   \n",
              "50%    34999.000000      109.0             0.0             0.0   \n",
              "75%    52498.500000      109.0             0.0             0.0   \n",
              "max    69998.000000      109.0             0.0             0.0   \n",
              "\n",
              "       loc_ic_t2o_mou        arpu_6        arpu_7        arpu_8   onnet_mou_6  \\\n",
              "count         69297.0  69999.000000  69999.000000  69999.000000  67231.000000   \n",
              "mean              0.0    283.134365    278.185912    278.858826    133.153275   \n",
              "std               0.0    334.213918    344.366927    351.924315    299.963093   \n",
              "min               0.0  -2258.709000  -1289.715000   -945.808000      0.000000   \n",
              "25%               0.0     93.581000     86.714000     84.095000      7.410000   \n",
              "50%               0.0    197.484000    191.588000    192.234000     34.110000   \n",
              "75%               0.0    370.791000    365.369500    369.909000    119.390000   \n",
              "max               0.0  27731.088000  35145.834000  33543.624000   7376.710000   \n",
              "\n",
              "        onnet_mou_7  ...   sachet_3g_7   sachet_3g_8     fb_user_6  \\\n",
              "count  67312.000000  ...  69999.000000  69999.000000  17568.000000   \n",
              "mean     133.894438  ...      0.081444      0.085487      0.916325   \n",
              "std      311.277193  ...      0.634547      0.680035      0.276907   \n",
              "min        0.000000  ...      0.000000      0.000000      0.000000   \n",
              "25%        6.675000  ...      0.000000      0.000000      1.000000   \n",
              "50%       32.280000  ...      0.000000      0.000000      1.000000   \n",
              "75%      115.837500  ...      0.000000      0.000000      1.000000   \n",
              "max     8157.780000  ...     33.000000     41.000000      1.000000   \n",
              "\n",
              "          fb_user_7     fb_user_8           aon    aug_vbc_3g    jul_vbc_3g  \\\n",
              "count  17865.000000  18417.000000  69999.000000  69999.000000  69999.000000   \n",
              "mean       0.909544      0.890319   1220.639709     68.108597     65.935830   \n",
              "std        0.286842      0.312501    952.426321    269.328659    267.899034   \n",
              "min        0.000000      0.000000    180.000000      0.000000      0.000000   \n",
              "25%        1.000000      1.000000    468.000000      0.000000      0.000000   \n",
              "50%        1.000000      1.000000    868.000000      0.000000      0.000000   \n",
              "75%        1.000000      1.000000   1813.000000      0.000000      0.000000   \n",
              "max        1.000000      1.000000   4337.000000  12916.220000   9165.600000   \n",
              "\n",
              "        jun_vbc_3g  churn_probability  \n",
              "count  69999.00000       69999.000000  \n",
              "mean      60.07674           0.101887  \n",
              "std      257.22681           0.302502  \n",
              "min        0.00000           0.000000  \n",
              "25%        0.00000           0.000000  \n",
              "50%        0.00000           0.000000  \n",
              "75%        0.00000           0.000000  \n",
              "max    11166.21000           1.000000  \n",
              "\n",
              "[8 rows x 163 columns]"
            ],
            "text/html": [
              "\n",
              "  <div id=\"df-a6475af9-daf5-4423-9537-d7841a0acb14\" class=\"colab-df-container\">\n",
              "    <div>\n",
              "<style scoped>\n",
              "    .dataframe tbody tr th:only-of-type {\n",
              "        vertical-align: middle;\n",
              "    }\n",
              "\n",
              "    .dataframe tbody tr th {\n",
              "        vertical-align: top;\n",
              "    }\n",
              "\n",
              "    .dataframe thead th {\n",
              "        text-align: right;\n",
              "    }\n",
              "</style>\n",
              "<table border=\"1\" class=\"dataframe\">\n",
              "  <thead>\n",
              "    <tr style=\"text-align: right;\">\n",
              "      <th></th>\n",
              "      <th>id</th>\n",
              "      <th>circle_id</th>\n",
              "      <th>loc_og_t2o_mou</th>\n",
              "      <th>std_og_t2o_mou</th>\n",
              "      <th>loc_ic_t2o_mou</th>\n",
              "      <th>arpu_6</th>\n",
              "      <th>arpu_7</th>\n",
              "      <th>arpu_8</th>\n",
              "      <th>onnet_mou_6</th>\n",
              "      <th>onnet_mou_7</th>\n",
              "      <th>...</th>\n",
              "      <th>sachet_3g_7</th>\n",
              "      <th>sachet_3g_8</th>\n",
              "      <th>fb_user_6</th>\n",
              "      <th>fb_user_7</th>\n",
              "      <th>fb_user_8</th>\n",
              "      <th>aon</th>\n",
              "      <th>aug_vbc_3g</th>\n",
              "      <th>jul_vbc_3g</th>\n",
              "      <th>jun_vbc_3g</th>\n",
              "      <th>churn_probability</th>\n",
              "    </tr>\n",
              "  </thead>\n",
              "  <tbody>\n",
              "    <tr>\n",
              "      <th>count</th>\n",
              "      <td>69999.000000</td>\n",
              "      <td>69999.0</td>\n",
              "      <td>69297.0</td>\n",
              "      <td>69297.0</td>\n",
              "      <td>69297.0</td>\n",
              "      <td>69999.000000</td>\n",
              "      <td>69999.000000</td>\n",
              "      <td>69999.000000</td>\n",
              "      <td>67231.000000</td>\n",
              "      <td>67312.000000</td>\n",
              "      <td>...</td>\n",
              "      <td>69999.000000</td>\n",
              "      <td>69999.000000</td>\n",
              "      <td>17568.000000</td>\n",
              "      <td>17865.000000</td>\n",
              "      <td>18417.000000</td>\n",
              "      <td>69999.000000</td>\n",
              "      <td>69999.000000</td>\n",
              "      <td>69999.000000</td>\n",
              "      <td>69999.00000</td>\n",
              "      <td>69999.000000</td>\n",
              "    </tr>\n",
              "    <tr>\n",
              "      <th>mean</th>\n",
              "      <td>34999.000000</td>\n",
              "      <td>109.0</td>\n",
              "      <td>0.0</td>\n",
              "      <td>0.0</td>\n",
              "      <td>0.0</td>\n",
              "      <td>283.134365</td>\n",
              "      <td>278.185912</td>\n",
              "      <td>278.858826</td>\n",
              "      <td>133.153275</td>\n",
              "      <td>133.894438</td>\n",
              "      <td>...</td>\n",
              "      <td>0.081444</td>\n",
              "      <td>0.085487</td>\n",
              "      <td>0.916325</td>\n",
              "      <td>0.909544</td>\n",
              "      <td>0.890319</td>\n",
              "      <td>1220.639709</td>\n",
              "      <td>68.108597</td>\n",
              "      <td>65.935830</td>\n",
              "      <td>60.07674</td>\n",
              "      <td>0.101887</td>\n",
              "    </tr>\n",
              "    <tr>\n",
              "      <th>std</th>\n",
              "      <td>20207.115084</td>\n",
              "      <td>0.0</td>\n",
              "      <td>0.0</td>\n",
              "      <td>0.0</td>\n",
              "      <td>0.0</td>\n",
              "      <td>334.213918</td>\n",
              "      <td>344.366927</td>\n",
              "      <td>351.924315</td>\n",
              "      <td>299.963093</td>\n",
              "      <td>311.277193</td>\n",
              "      <td>...</td>\n",
              "      <td>0.634547</td>\n",
              "      <td>0.680035</td>\n",
              "      <td>0.276907</td>\n",
              "      <td>0.286842</td>\n",
              "      <td>0.312501</td>\n",
              "      <td>952.426321</td>\n",
              "      <td>269.328659</td>\n",
              "      <td>267.899034</td>\n",
              "      <td>257.22681</td>\n",
              "      <td>0.302502</td>\n",
              "    </tr>\n",
              "    <tr>\n",
              "      <th>min</th>\n",
              "      <td>0.000000</td>\n",
              "      <td>109.0</td>\n",
              "      <td>0.0</td>\n",
              "      <td>0.0</td>\n",
              "      <td>0.0</td>\n",
              "      <td>-2258.709000</td>\n",
              "      <td>-1289.715000</td>\n",
              "      <td>-945.808000</td>\n",
              "      <td>0.000000</td>\n",
              "      <td>0.000000</td>\n",
              "      <td>...</td>\n",
              "      <td>0.000000</td>\n",
              "      <td>0.000000</td>\n",
              "      <td>0.000000</td>\n",
              "      <td>0.000000</td>\n",
              "      <td>0.000000</td>\n",
              "      <td>180.000000</td>\n",
              "      <td>0.000000</td>\n",
              "      <td>0.000000</td>\n",
              "      <td>0.00000</td>\n",
              "      <td>0.000000</td>\n",
              "    </tr>\n",
              "    <tr>\n",
              "      <th>25%</th>\n",
              "      <td>17499.500000</td>\n",
              "      <td>109.0</td>\n",
              "      <td>0.0</td>\n",
              "      <td>0.0</td>\n",
              "      <td>0.0</td>\n",
              "      <td>93.581000</td>\n",
              "      <td>86.714000</td>\n",
              "      <td>84.095000</td>\n",
              "      <td>7.410000</td>\n",
              "      <td>6.675000</td>\n",
              "      <td>...</td>\n",
              "      <td>0.000000</td>\n",
              "      <td>0.000000</td>\n",
              "      <td>1.000000</td>\n",
              "      <td>1.000000</td>\n",
              "      <td>1.000000</td>\n",
              "      <td>468.000000</td>\n",
              "      <td>0.000000</td>\n",
              "      <td>0.000000</td>\n",
              "      <td>0.00000</td>\n",
              "      <td>0.000000</td>\n",
              "    </tr>\n",
              "    <tr>\n",
              "      <th>50%</th>\n",
              "      <td>34999.000000</td>\n",
              "      <td>109.0</td>\n",
              "      <td>0.0</td>\n",
              "      <td>0.0</td>\n",
              "      <td>0.0</td>\n",
              "      <td>197.484000</td>\n",
              "      <td>191.588000</td>\n",
              "      <td>192.234000</td>\n",
              "      <td>34.110000</td>\n",
              "      <td>32.280000</td>\n",
              "      <td>...</td>\n",
              "      <td>0.000000</td>\n",
              "      <td>0.000000</td>\n",
              "      <td>1.000000</td>\n",
              "      <td>1.000000</td>\n",
              "      <td>1.000000</td>\n",
              "      <td>868.000000</td>\n",
              "      <td>0.000000</td>\n",
              "      <td>0.000000</td>\n",
              "      <td>0.00000</td>\n",
              "      <td>0.000000</td>\n",
              "    </tr>\n",
              "    <tr>\n",
              "      <th>75%</th>\n",
              "      <td>52498.500000</td>\n",
              "      <td>109.0</td>\n",
              "      <td>0.0</td>\n",
              "      <td>0.0</td>\n",
              "      <td>0.0</td>\n",
              "      <td>370.791000</td>\n",
              "      <td>365.369500</td>\n",
              "      <td>369.909000</td>\n",
              "      <td>119.390000</td>\n",
              "      <td>115.837500</td>\n",
              "      <td>...</td>\n",
              "      <td>0.000000</td>\n",
              "      <td>0.000000</td>\n",
              "      <td>1.000000</td>\n",
              "      <td>1.000000</td>\n",
              "      <td>1.000000</td>\n",
              "      <td>1813.000000</td>\n",
              "      <td>0.000000</td>\n",
              "      <td>0.000000</td>\n",
              "      <td>0.00000</td>\n",
              "      <td>0.000000</td>\n",
              "    </tr>\n",
              "    <tr>\n",
              "      <th>max</th>\n",
              "      <td>69998.000000</td>\n",
              "      <td>109.0</td>\n",
              "      <td>0.0</td>\n",
              "      <td>0.0</td>\n",
              "      <td>0.0</td>\n",
              "      <td>27731.088000</td>\n",
              "      <td>35145.834000</td>\n",
              "      <td>33543.624000</td>\n",
              "      <td>7376.710000</td>\n",
              "      <td>8157.780000</td>\n",
              "      <td>...</td>\n",
              "      <td>33.000000</td>\n",
              "      <td>41.000000</td>\n",
              "      <td>1.000000</td>\n",
              "      <td>1.000000</td>\n",
              "      <td>1.000000</td>\n",
              "      <td>4337.000000</td>\n",
              "      <td>12916.220000</td>\n",
              "      <td>9165.600000</td>\n",
              "      <td>11166.21000</td>\n",
              "      <td>1.000000</td>\n",
              "    </tr>\n",
              "  </tbody>\n",
              "</table>\n",
              "<p>8 rows × 163 columns</p>\n",
              "</div>\n",
              "    <div class=\"colab-df-buttons\">\n",
              "\n",
              "  <div class=\"colab-df-container\">\n",
              "    <button class=\"colab-df-convert\" onclick=\"convertToInteractive('df-a6475af9-daf5-4423-9537-d7841a0acb14')\"\n",
              "            title=\"Convert this dataframe to an interactive table.\"\n",
              "            style=\"display:none;\">\n",
              "\n",
              "  <svg xmlns=\"http://www.w3.org/2000/svg\" height=\"24px\" viewBox=\"0 -960 960 960\">\n",
              "    <path d=\"M120-120v-720h720v720H120Zm60-500h600v-160H180v160Zm220 220h160v-160H400v160Zm0 220h160v-160H400v160ZM180-400h160v-160H180v160Zm440 0h160v-160H620v160ZM180-180h160v-160H180v160Zm440 0h160v-160H620v160Z\"/>\n",
              "  </svg>\n",
              "    </button>\n",
              "\n",
              "  <style>\n",
              "    .colab-df-container {\n",
              "      display:flex;\n",
              "      gap: 12px;\n",
              "    }\n",
              "\n",
              "    .colab-df-convert {\n",
              "      background-color: #E8F0FE;\n",
              "      border: none;\n",
              "      border-radius: 50%;\n",
              "      cursor: pointer;\n",
              "      display: none;\n",
              "      fill: #1967D2;\n",
              "      height: 32px;\n",
              "      padding: 0 0 0 0;\n",
              "      width: 32px;\n",
              "    }\n",
              "\n",
              "    .colab-df-convert:hover {\n",
              "      background-color: #E2EBFA;\n",
              "      box-shadow: 0px 1px 2px rgba(60, 64, 67, 0.3), 0px 1px 3px 1px rgba(60, 64, 67, 0.15);\n",
              "      fill: #174EA6;\n",
              "    }\n",
              "\n",
              "    .colab-df-buttons div {\n",
              "      margin-bottom: 4px;\n",
              "    }\n",
              "\n",
              "    [theme=dark] .colab-df-convert {\n",
              "      background-color: #3B4455;\n",
              "      fill: #D2E3FC;\n",
              "    }\n",
              "\n",
              "    [theme=dark] .colab-df-convert:hover {\n",
              "      background-color: #434B5C;\n",
              "      box-shadow: 0px 1px 3px 1px rgba(0, 0, 0, 0.15);\n",
              "      filter: drop-shadow(0px 1px 2px rgba(0, 0, 0, 0.3));\n",
              "      fill: #FFFFFF;\n",
              "    }\n",
              "  </style>\n",
              "\n",
              "    <script>\n",
              "      const buttonEl =\n",
              "        document.querySelector('#df-a6475af9-daf5-4423-9537-d7841a0acb14 button.colab-df-convert');\n",
              "      buttonEl.style.display =\n",
              "        google.colab.kernel.accessAllowed ? 'block' : 'none';\n",
              "\n",
              "      async function convertToInteractive(key) {\n",
              "        const element = document.querySelector('#df-a6475af9-daf5-4423-9537-d7841a0acb14');\n",
              "        const dataTable =\n",
              "          await google.colab.kernel.invokeFunction('convertToInteractive',\n",
              "                                                    [key], {});\n",
              "        if (!dataTable) return;\n",
              "\n",
              "        const docLinkHtml = 'Like what you see? Visit the ' +\n",
              "          '<a target=\"_blank\" href=https://colab.research.google.com/notebooks/data_table.ipynb>data table notebook</a>'\n",
              "          + ' to learn more about interactive tables.';\n",
              "        element.innerHTML = '';\n",
              "        dataTable['output_type'] = 'display_data';\n",
              "        await google.colab.output.renderOutput(dataTable, element);\n",
              "        const docLink = document.createElement('div');\n",
              "        docLink.innerHTML = docLinkHtml;\n",
              "        element.appendChild(docLink);\n",
              "      }\n",
              "    </script>\n",
              "  </div>\n",
              "\n",
              "\n",
              "<div id=\"df-01e01c46-783c-4264-9085-5fe414e08148\">\n",
              "  <button class=\"colab-df-quickchart\" onclick=\"quickchart('df-01e01c46-783c-4264-9085-5fe414e08148')\"\n",
              "            title=\"Suggest charts.\"\n",
              "            style=\"display:none;\">\n",
              "\n",
              "<svg xmlns=\"http://www.w3.org/2000/svg\" height=\"24px\"viewBox=\"0 0 24 24\"\n",
              "     width=\"24px\">\n",
              "    <g>\n",
              "        <path d=\"M19 3H5c-1.1 0-2 .9-2 2v14c0 1.1.9 2 2 2h14c1.1 0 2-.9 2-2V5c0-1.1-.9-2-2-2zM9 17H7v-7h2v7zm4 0h-2V7h2v10zm4 0h-2v-4h2v4z\"/>\n",
              "    </g>\n",
              "</svg>\n",
              "  </button>\n",
              "\n",
              "<style>\n",
              "  .colab-df-quickchart {\n",
              "      --bg-color: #E8F0FE;\n",
              "      --fill-color: #1967D2;\n",
              "      --hover-bg-color: #E2EBFA;\n",
              "      --hover-fill-color: #174EA6;\n",
              "      --disabled-fill-color: #AAA;\n",
              "      --disabled-bg-color: #DDD;\n",
              "  }\n",
              "\n",
              "  [theme=dark] .colab-df-quickchart {\n",
              "      --bg-color: #3B4455;\n",
              "      --fill-color: #D2E3FC;\n",
              "      --hover-bg-color: #434B5C;\n",
              "      --hover-fill-color: #FFFFFF;\n",
              "      --disabled-bg-color: #3B4455;\n",
              "      --disabled-fill-color: #666;\n",
              "  }\n",
              "\n",
              "  .colab-df-quickchart {\n",
              "    background-color: var(--bg-color);\n",
              "    border: none;\n",
              "    border-radius: 50%;\n",
              "    cursor: pointer;\n",
              "    display: none;\n",
              "    fill: var(--fill-color);\n",
              "    height: 32px;\n",
              "    padding: 0;\n",
              "    width: 32px;\n",
              "  }\n",
              "\n",
              "  .colab-df-quickchart:hover {\n",
              "    background-color: var(--hover-bg-color);\n",
              "    box-shadow: 0 1px 2px rgba(60, 64, 67, 0.3), 0 1px 3px 1px rgba(60, 64, 67, 0.15);\n",
              "    fill: var(--button-hover-fill-color);\n",
              "  }\n",
              "\n",
              "  .colab-df-quickchart-complete:disabled,\n",
              "  .colab-df-quickchart-complete:disabled:hover {\n",
              "    background-color: var(--disabled-bg-color);\n",
              "    fill: var(--disabled-fill-color);\n",
              "    box-shadow: none;\n",
              "  }\n",
              "\n",
              "  .colab-df-spinner {\n",
              "    border: 2px solid var(--fill-color);\n",
              "    border-color: transparent;\n",
              "    border-bottom-color: var(--fill-color);\n",
              "    animation:\n",
              "      spin 1s steps(1) infinite;\n",
              "  }\n",
              "\n",
              "  @keyframes spin {\n",
              "    0% {\n",
              "      border-color: transparent;\n",
              "      border-bottom-color: var(--fill-color);\n",
              "      border-left-color: var(--fill-color);\n",
              "    }\n",
              "    20% {\n",
              "      border-color: transparent;\n",
              "      border-left-color: var(--fill-color);\n",
              "      border-top-color: var(--fill-color);\n",
              "    }\n",
              "    30% {\n",
              "      border-color: transparent;\n",
              "      border-left-color: var(--fill-color);\n",
              "      border-top-color: var(--fill-color);\n",
              "      border-right-color: var(--fill-color);\n",
              "    }\n",
              "    40% {\n",
              "      border-color: transparent;\n",
              "      border-right-color: var(--fill-color);\n",
              "      border-top-color: var(--fill-color);\n",
              "    }\n",
              "    60% {\n",
              "      border-color: transparent;\n",
              "      border-right-color: var(--fill-color);\n",
              "    }\n",
              "    80% {\n",
              "      border-color: transparent;\n",
              "      border-right-color: var(--fill-color);\n",
              "      border-bottom-color: var(--fill-color);\n",
              "    }\n",
              "    90% {\n",
              "      border-color: transparent;\n",
              "      border-bottom-color: var(--fill-color);\n",
              "    }\n",
              "  }\n",
              "</style>\n",
              "\n",
              "  <script>\n",
              "    async function quickchart(key) {\n",
              "      const quickchartButtonEl =\n",
              "        document.querySelector('#' + key + ' button');\n",
              "      quickchartButtonEl.disabled = true;  // To prevent multiple clicks.\n",
              "      quickchartButtonEl.classList.add('colab-df-spinner');\n",
              "      try {\n",
              "        const charts = await google.colab.kernel.invokeFunction(\n",
              "            'suggestCharts', [key], {});\n",
              "      } catch (error) {\n",
              "        console.error('Error during call to suggestCharts:', error);\n",
              "      }\n",
              "      quickchartButtonEl.classList.remove('colab-df-spinner');\n",
              "      quickchartButtonEl.classList.add('colab-df-quickchart-complete');\n",
              "    }\n",
              "    (() => {\n",
              "      let quickchartButtonEl =\n",
              "        document.querySelector('#df-01e01c46-783c-4264-9085-5fe414e08148 button');\n",
              "      quickchartButtonEl.style.display =\n",
              "        google.colab.kernel.accessAllowed ? 'block' : 'none';\n",
              "    })();\n",
              "  </script>\n",
              "</div>\n",
              "    </div>\n",
              "  </div>\n"
            ]
          },
          "metadata": {},
          "execution_count": 261
        }
      ],
      "source": [
        "df.describe()"
      ]
    },
    {
      "cell_type": "code",
      "execution_count": 262,
      "id": "63215a30",
      "metadata": {
        "scrolled": true,
        "colab": {
          "base_uri": "https://localhost:8080/"
        },
        "id": "63215a30",
        "outputId": "b814e7d5-ddd7-45bd-d2d7-305876b33ed7"
      },
      "outputs": [
        {
          "output_type": "execute_result",
          "data": {
            "text/plain": [
              "id                              0\n",
              "circle_id                       0\n",
              "loc_og_t2o_mou                702\n",
              "std_og_t2o_mou                702\n",
              "loc_ic_t2o_mou                702\n",
              "last_date_of_month_6            0\n",
              "last_date_of_month_7          399\n",
              "last_date_of_month_8          733\n",
              "arpu_6                          0\n",
              "arpu_7                          0\n",
              "arpu_8                          0\n",
              "onnet_mou_6                  2768\n",
              "onnet_mou_7                  2687\n",
              "onnet_mou_8                  3703\n",
              "offnet_mou_6                 2768\n",
              "offnet_mou_7                 2687\n",
              "offnet_mou_8                 3703\n",
              "roam_ic_mou_6                2768\n",
              "roam_ic_mou_7                2687\n",
              "roam_ic_mou_8                3703\n",
              "roam_og_mou_6                2768\n",
              "roam_og_mou_7                2687\n",
              "roam_og_mou_8                3703\n",
              "loc_og_t2t_mou_6             2768\n",
              "loc_og_t2t_mou_7             2687\n",
              "loc_og_t2t_mou_8             3703\n",
              "loc_og_t2m_mou_6             2768\n",
              "loc_og_t2m_mou_7             2687\n",
              "loc_og_t2m_mou_8             3703\n",
              "loc_og_t2f_mou_6             2768\n",
              "loc_og_t2f_mou_7             2687\n",
              "loc_og_t2f_mou_8             3703\n",
              "loc_og_t2c_mou_6             2768\n",
              "loc_og_t2c_mou_7             2687\n",
              "loc_og_t2c_mou_8             3703\n",
              "loc_og_mou_6                 2768\n",
              "loc_og_mou_7                 2687\n",
              "loc_og_mou_8                 3703\n",
              "std_og_t2t_mou_6             2768\n",
              "std_og_t2t_mou_7             2687\n",
              "std_og_t2t_mou_8             3703\n",
              "std_og_t2m_mou_6             2768\n",
              "std_og_t2m_mou_7             2687\n",
              "std_og_t2m_mou_8             3703\n",
              "std_og_t2f_mou_6             2768\n",
              "std_og_t2f_mou_7             2687\n",
              "std_og_t2f_mou_8             3703\n",
              "std_og_t2c_mou_6             2768\n",
              "std_og_t2c_mou_7             2687\n",
              "std_og_t2c_mou_8             3703\n",
              "std_og_mou_6                 2768\n",
              "std_og_mou_7                 2687\n",
              "std_og_mou_8                 3703\n",
              "isd_og_mou_6                 2768\n",
              "isd_og_mou_7                 2687\n",
              "isd_og_mou_8                 3703\n",
              "spl_og_mou_6                 2768\n",
              "spl_og_mou_7                 2687\n",
              "spl_og_mou_8                 3703\n",
              "og_others_6                  2768\n",
              "og_others_7                  2687\n",
              "og_others_8                  3703\n",
              "total_og_mou_6                  0\n",
              "total_og_mou_7                  0\n",
              "total_og_mou_8                  0\n",
              "loc_ic_t2t_mou_6             2768\n",
              "loc_ic_t2t_mou_7             2687\n",
              "loc_ic_t2t_mou_8             3703\n",
              "loc_ic_t2m_mou_6             2768\n",
              "loc_ic_t2m_mou_7             2687\n",
              "loc_ic_t2m_mou_8             3703\n",
              "loc_ic_t2f_mou_6             2768\n",
              "loc_ic_t2f_mou_7             2687\n",
              "loc_ic_t2f_mou_8             3703\n",
              "loc_ic_mou_6                 2768\n",
              "loc_ic_mou_7                 2687\n",
              "loc_ic_mou_8                 3703\n",
              "std_ic_t2t_mou_6             2768\n",
              "std_ic_t2t_mou_7             2687\n",
              "std_ic_t2t_mou_8             3703\n",
              "std_ic_t2m_mou_6             2768\n",
              "std_ic_t2m_mou_7             2687\n",
              "std_ic_t2m_mou_8             3703\n",
              "std_ic_t2f_mou_6             2768\n",
              "std_ic_t2f_mou_7             2687\n",
              "std_ic_t2f_mou_8             3703\n",
              "std_ic_t2o_mou_6             2768\n",
              "std_ic_t2o_mou_7             2687\n",
              "std_ic_t2o_mou_8             3703\n",
              "std_ic_mou_6                 2768\n",
              "std_ic_mou_7                 2687\n",
              "std_ic_mou_8                 3703\n",
              "total_ic_mou_6                  0\n",
              "total_ic_mou_7                  0\n",
              "total_ic_mou_8                  0\n",
              "spl_ic_mou_6                 2768\n",
              "spl_ic_mou_7                 2687\n",
              "spl_ic_mou_8                 3703\n",
              "isd_ic_mou_6                 2768\n",
              "isd_ic_mou_7                 2687\n",
              "isd_ic_mou_8                 3703\n",
              "ic_others_6                  2768\n",
              "ic_others_7                  2687\n",
              "ic_others_8                  3703\n",
              "total_rech_num_6                0\n",
              "total_rech_num_7                0\n",
              "total_rech_num_8                0\n",
              "total_rech_amt_6                0\n",
              "total_rech_amt_7                0\n",
              "total_rech_amt_8                0\n",
              "max_rech_amt_6                  0\n",
              "max_rech_amt_7                  0\n",
              "max_rech_amt_8                  0\n",
              "date_of_last_rech_6          1101\n",
              "date_of_last_rech_7          1234\n",
              "date_of_last_rech_8          2461\n",
              "last_day_rch_amt_6              0\n",
              "last_day_rch_amt_7              0\n",
              "last_day_rch_amt_8              0\n",
              "date_of_last_rech_data_6    52431\n",
              "date_of_last_rech_data_7    52134\n",
              "date_of_last_rech_data_8    51582\n",
              "total_rech_data_6           52431\n",
              "total_rech_data_7           52134\n",
              "total_rech_data_8           51582\n",
              "max_rech_data_6             52431\n",
              "max_rech_data_7             52134\n",
              "max_rech_data_8             51582\n",
              "count_rech_2g_6             52431\n",
              "count_rech_2g_7             52134\n",
              "count_rech_2g_8             51582\n",
              "count_rech_3g_6             52431\n",
              "count_rech_3g_7             52134\n",
              "count_rech_3g_8             51582\n",
              "av_rech_amt_data_6          52431\n",
              "av_rech_amt_data_7          52134\n",
              "av_rech_amt_data_8          51582\n",
              "vol_2g_mb_6                     0\n",
              "vol_2g_mb_7                     0\n",
              "vol_2g_mb_8                     0\n",
              "vol_3g_mb_6                     0\n",
              "vol_3g_mb_7                     0\n",
              "vol_3g_mb_8                     0\n",
              "arpu_3g_6                   52431\n",
              "arpu_3g_7                   52134\n",
              "arpu_3g_8                   51582\n",
              "arpu_2g_6                   52431\n",
              "arpu_2g_7                   52134\n",
              "arpu_2g_8                   51582\n",
              "night_pck_user_6            52431\n",
              "night_pck_user_7            52134\n",
              "night_pck_user_8            51582\n",
              "monthly_2g_6                    0\n",
              "monthly_2g_7                    0\n",
              "monthly_2g_8                    0\n",
              "sachet_2g_6                     0\n",
              "sachet_2g_7                     0\n",
              "sachet_2g_8                     0\n",
              "monthly_3g_6                    0\n",
              "monthly_3g_7                    0\n",
              "monthly_3g_8                    0\n",
              "sachet_3g_6                     0\n",
              "sachet_3g_7                     0\n",
              "sachet_3g_8                     0\n",
              "fb_user_6                   52431\n",
              "fb_user_7                   52134\n",
              "fb_user_8                   51582\n",
              "aon                             0\n",
              "aug_vbc_3g                      0\n",
              "jul_vbc_3g                      0\n",
              "jun_vbc_3g                      0\n",
              "churn_probability               0\n",
              "dtype: int64"
            ]
          },
          "metadata": {},
          "execution_count": 262
        }
      ],
      "source": [
        "pd.set_option('display.max_rows', None)\n",
        "df.isnull().sum()"
      ]
    },
    {
      "cell_type": "code",
      "execution_count": 263,
      "id": "1529f5ac",
      "metadata": {
        "colab": {
          "base_uri": "https://localhost:8080/"
        },
        "id": "1529f5ac",
        "outputId": "ea817cbf-8744-4c8e-98f9-1017091243c1"
      },
      "outputs": [
        {
          "output_type": "execute_result",
          "data": {
            "text/plain": [
              "(69999, 172)"
            ]
          },
          "metadata": {},
          "execution_count": 263
        }
      ],
      "source": [
        "df.shape"
      ]
    },
    {
      "cell_type": "code",
      "execution_count": 264,
      "id": "89d082aa",
      "metadata": {
        "scrolled": true,
        "colab": {
          "base_uri": "https://localhost:8080/"
        },
        "id": "89d082aa",
        "outputId": "0cd5ce74-25a4-490a-bf52-f66ea91b355c"
      },
      "outputs": [
        {
          "output_type": "stream",
          "name": "stdout",
          "text": [
            "5.714367348104973\n",
            "74.28677552536465\n"
          ]
        }
      ],
      "source": [
        "print(4000 * 100 / 69999)\n",
        "print(52000 * 100 / 69999)"
      ]
    },
    {
      "cell_type": "markdown",
      "id": "e490fdf4",
      "metadata": {
        "id": "e490fdf4"
      },
      "source": [
        "A few columns have about 74% of their data missing. Thus, eliminating these columns."
      ]
    },
    {
      "cell_type": "code",
      "execution_count": 265,
      "id": "e37a9eab",
      "metadata": {
        "colab": {
          "base_uri": "https://localhost:8080/"
        },
        "id": "e37a9eab",
        "outputId": "50faff2e-0622-46d8-f63b-c9c9640e822f"
      },
      "outputs": [
        {
          "output_type": "stream",
          "name": "stdout",
          "text": [
            "30\n"
          ]
        }
      ],
      "source": [
        "i = 0\n",
        "for col in df.columns:\n",
        "    if df[col].isnull().sum() >= 4000:\n",
        "        df = df.drop(col, axis = 1)\n",
        "        i = i + 1\n",
        "print(i)"
      ]
    },
    {
      "cell_type": "code",
      "execution_count": 266,
      "id": "b2cf2f45",
      "metadata": {
        "colab": {
          "base_uri": "https://localhost:8080/"
        },
        "id": "b2cf2f45",
        "outputId": "4cd90b00-ac9a-40d3-db50-10fb9286f7bf"
      },
      "outputs": [
        {
          "output_type": "execute_result",
          "data": {
            "text/plain": [
              "(69999, 142)"
            ]
          },
          "metadata": {},
          "execution_count": 266
        }
      ],
      "source": [
        "df.shape"
      ]
    },
    {
      "cell_type": "code",
      "execution_count": 267,
      "id": "be6f47c8",
      "metadata": {
        "colab": {
          "base_uri": "https://localhost:8080/"
        },
        "id": "be6f47c8",
        "outputId": "fb8684fa-676a-48aa-de00-50f590b43aaf"
      },
      "outputs": [
        {
          "output_type": "execute_result",
          "data": {
            "text/plain": [
              "id                         0\n",
              "circle_id                  0\n",
              "loc_og_t2o_mou           702\n",
              "std_og_t2o_mou           702\n",
              "loc_ic_t2o_mou           702\n",
              "last_date_of_month_6       0\n",
              "last_date_of_month_7     399\n",
              "last_date_of_month_8     733\n",
              "arpu_6                     0\n",
              "arpu_7                     0\n",
              "arpu_8                     0\n",
              "onnet_mou_6             2768\n",
              "onnet_mou_7             2687\n",
              "onnet_mou_8             3703\n",
              "offnet_mou_6            2768\n",
              "offnet_mou_7            2687\n",
              "offnet_mou_8            3703\n",
              "roam_ic_mou_6           2768\n",
              "roam_ic_mou_7           2687\n",
              "roam_ic_mou_8           3703\n",
              "roam_og_mou_6           2768\n",
              "roam_og_mou_7           2687\n",
              "roam_og_mou_8           3703\n",
              "loc_og_t2t_mou_6        2768\n",
              "loc_og_t2t_mou_7        2687\n",
              "loc_og_t2t_mou_8        3703\n",
              "loc_og_t2m_mou_6        2768\n",
              "loc_og_t2m_mou_7        2687\n",
              "loc_og_t2m_mou_8        3703\n",
              "loc_og_t2f_mou_6        2768\n",
              "loc_og_t2f_mou_7        2687\n",
              "loc_og_t2f_mou_8        3703\n",
              "loc_og_t2c_mou_6        2768\n",
              "loc_og_t2c_mou_7        2687\n",
              "loc_og_t2c_mou_8        3703\n",
              "loc_og_mou_6            2768\n",
              "loc_og_mou_7            2687\n",
              "loc_og_mou_8            3703\n",
              "std_og_t2t_mou_6        2768\n",
              "std_og_t2t_mou_7        2687\n",
              "std_og_t2t_mou_8        3703\n",
              "std_og_t2m_mou_6        2768\n",
              "std_og_t2m_mou_7        2687\n",
              "std_og_t2m_mou_8        3703\n",
              "std_og_t2f_mou_6        2768\n",
              "std_og_t2f_mou_7        2687\n",
              "std_og_t2f_mou_8        3703\n",
              "std_og_t2c_mou_6        2768\n",
              "std_og_t2c_mou_7        2687\n",
              "std_og_t2c_mou_8        3703\n",
              "std_og_mou_6            2768\n",
              "std_og_mou_7            2687\n",
              "std_og_mou_8            3703\n",
              "isd_og_mou_6            2768\n",
              "isd_og_mou_7            2687\n",
              "isd_og_mou_8            3703\n",
              "spl_og_mou_6            2768\n",
              "spl_og_mou_7            2687\n",
              "spl_og_mou_8            3703\n",
              "og_others_6             2768\n",
              "og_others_7             2687\n",
              "og_others_8             3703\n",
              "total_og_mou_6             0\n",
              "total_og_mou_7             0\n",
              "total_og_mou_8             0\n",
              "loc_ic_t2t_mou_6        2768\n",
              "loc_ic_t2t_mou_7        2687\n",
              "loc_ic_t2t_mou_8        3703\n",
              "loc_ic_t2m_mou_6        2768\n",
              "loc_ic_t2m_mou_7        2687\n",
              "loc_ic_t2m_mou_8        3703\n",
              "loc_ic_t2f_mou_6        2768\n",
              "loc_ic_t2f_mou_7        2687\n",
              "loc_ic_t2f_mou_8        3703\n",
              "loc_ic_mou_6            2768\n",
              "loc_ic_mou_7            2687\n",
              "loc_ic_mou_8            3703\n",
              "std_ic_t2t_mou_6        2768\n",
              "std_ic_t2t_mou_7        2687\n",
              "std_ic_t2t_mou_8        3703\n",
              "std_ic_t2m_mou_6        2768\n",
              "std_ic_t2m_mou_7        2687\n",
              "std_ic_t2m_mou_8        3703\n",
              "std_ic_t2f_mou_6        2768\n",
              "std_ic_t2f_mou_7        2687\n",
              "std_ic_t2f_mou_8        3703\n",
              "std_ic_t2o_mou_6        2768\n",
              "std_ic_t2o_mou_7        2687\n",
              "std_ic_t2o_mou_8        3703\n",
              "std_ic_mou_6            2768\n",
              "std_ic_mou_7            2687\n",
              "std_ic_mou_8            3703\n",
              "total_ic_mou_6             0\n",
              "total_ic_mou_7             0\n",
              "total_ic_mou_8             0\n",
              "spl_ic_mou_6            2768\n",
              "spl_ic_mou_7            2687\n",
              "spl_ic_mou_8            3703\n",
              "isd_ic_mou_6            2768\n",
              "isd_ic_mou_7            2687\n",
              "isd_ic_mou_8            3703\n",
              "ic_others_6             2768\n",
              "ic_others_7             2687\n",
              "ic_others_8             3703\n",
              "total_rech_num_6           0\n",
              "total_rech_num_7           0\n",
              "total_rech_num_8           0\n",
              "total_rech_amt_6           0\n",
              "total_rech_amt_7           0\n",
              "total_rech_amt_8           0\n",
              "max_rech_amt_6             0\n",
              "max_rech_amt_7             0\n",
              "max_rech_amt_8             0\n",
              "date_of_last_rech_6     1101\n",
              "date_of_last_rech_7     1234\n",
              "date_of_last_rech_8     2461\n",
              "last_day_rch_amt_6         0\n",
              "last_day_rch_amt_7         0\n",
              "last_day_rch_amt_8         0\n",
              "vol_2g_mb_6                0\n",
              "vol_2g_mb_7                0\n",
              "vol_2g_mb_8                0\n",
              "vol_3g_mb_6                0\n",
              "vol_3g_mb_7                0\n",
              "vol_3g_mb_8                0\n",
              "monthly_2g_6               0\n",
              "monthly_2g_7               0\n",
              "monthly_2g_8               0\n",
              "sachet_2g_6                0\n",
              "sachet_2g_7                0\n",
              "sachet_2g_8                0\n",
              "monthly_3g_6               0\n",
              "monthly_3g_7               0\n",
              "monthly_3g_8               0\n",
              "sachet_3g_6                0\n",
              "sachet_3g_7                0\n",
              "sachet_3g_8                0\n",
              "aon                        0\n",
              "aug_vbc_3g                 0\n",
              "jul_vbc_3g                 0\n",
              "jun_vbc_3g                 0\n",
              "churn_probability          0\n",
              "dtype: int64"
            ]
          },
          "metadata": {},
          "execution_count": 267
        }
      ],
      "source": [
        "df.isnull().sum()"
      ]
    },
    {
      "cell_type": "markdown",
      "id": "910b3b09",
      "metadata": {
        "id": "910b3b09"
      },
      "source": [
        "The missing data accounts for about 5% of the total dataset"
      ]
    },
    {
      "cell_type": "code",
      "execution_count": 268,
      "id": "5dfe5b10",
      "metadata": {
        "colab": {
          "base_uri": "https://localhost:8080/"
        },
        "id": "5dfe5b10",
        "outputId": "b0037a5a-bbd6-4319-abfc-38fe34e361ae"
      },
      "outputs": [
        {
          "output_type": "execute_result",
          "data": {
            "text/plain": [
              "10.188716981671167"
            ]
          },
          "metadata": {},
          "execution_count": 268
        }
      ],
      "source": [
        "df.churn_probability.sum() * 100 / 69999"
      ]
    },
    {
      "cell_type": "markdown",
      "id": "ba6423a7",
      "metadata": {
        "id": "ba6423a7"
      },
      "source": [
        "About 10% of the total provided data has the churn label.\n",
        "\n",
        "And a max of 5.7% data is missing from an individual varible."
      ]
    },
    {
      "cell_type": "code",
      "execution_count": 269,
      "id": "79408bba",
      "metadata": {
        "id": "79408bba"
      },
      "outputs": [],
      "source": [
        "df_churn = df[df.churn_probability == 1]"
      ]
    },
    {
      "cell_type": "code",
      "execution_count": 270,
      "id": "e67568bb",
      "metadata": {
        "colab": {
          "base_uri": "https://localhost:8080/"
        },
        "id": "e67568bb",
        "outputId": "c9579180-367d-4ea9-dd60-96da91795cc2"
      },
      "outputs": [
        {
          "output_type": "stream",
          "name": "stdout",
          "text": [
            "(7132, 142)\n"
          ]
        }
      ],
      "source": [
        "print(df_churn.shape)"
      ]
    },
    {
      "cell_type": "code",
      "execution_count": 271,
      "id": "95e3ba52",
      "metadata": {
        "colab": {
          "base_uri": "https://localhost:8080/"
        },
        "id": "95e3ba52",
        "outputId": "18123a8e-4fac-4070-a0b6-a09131470b91"
      },
      "outputs": [
        {
          "output_type": "execute_result",
          "data": {
            "text/plain": [
              "58.38145430091807"
            ]
          },
          "metadata": {},
          "execution_count": 271
        }
      ],
      "source": [
        "df_churn.isnull().sum().sum() * 100 / df.isnull().sum().sum()"
      ]
    },
    {
      "cell_type": "code",
      "execution_count": 272,
      "id": "baab75ec",
      "metadata": {
        "colab": {
          "base_uri": "https://localhost:8080/"
        },
        "id": "baab75ec",
        "outputId": "e227aac0-fef5-45a5-911e-82c89fb2197a"
      },
      "outputs": [
        {
          "output_type": "execute_result",
          "data": {
            "text/plain": [
              "(7132, 142)"
            ]
          },
          "metadata": {},
          "execution_count": 272
        }
      ],
      "source": [
        "df_churn.shape\n"
      ]
    },
    {
      "cell_type": "code",
      "execution_count": 273,
      "id": "5d683fb9",
      "metadata": {
        "colab": {
          "base_uri": "https://localhost:8080/"
        },
        "id": "5d683fb9",
        "outputId": "881c6455-d235-45d0-f54f-e17e0b87eb9b"
      },
      "outputs": [
        {
          "output_type": "execute_result",
          "data": {
            "text/plain": [
              "41.236679753224905"
            ]
          },
          "metadata": {},
          "execution_count": 273
        }
      ],
      "source": [
        "df_churn.isnull().sum().max() * 100 / 7132"
      ]
    },
    {
      "cell_type": "markdown",
      "id": "2b2a93c9",
      "metadata": {
        "id": "2b2a93c9"
      },
      "source": [
        "However, about 58% of the missing data belongs to the churned category. Thus, dropping null values would result in loss of valuable information in this case.\n",
        "\n",
        "And the maximum number of rows (entries) that we would have to delete / use manipulated variables would account for nearly 41% of the total entries in the churn section.\n",
        "\n",
        "\n",
        "We can assume the behaviour of churning clients is the same and replace all the null values with the mode value of that variable / column.\n",
        "\n",
        "OR\n",
        "\n",
        "We could replace them with the mean of that column.\n",
        "\n",
        "\n",
        "### Message for study partner ->\n",
        "For some reason my laptop freezes everytime I try to dropna(). I couldn't figure out the issue and it is persistent.\n",
        "\n",
        "As a result I couldn't drop any of the null values. I've tried it after defragmenting the drive but to no success.\n"
      ]
    },
    {
      "cell_type": "code",
      "execution_count": 274,
      "id": "e62671e9",
      "metadata": {
        "colab": {
          "base_uri": "https://localhost:8080/"
        },
        "id": "e62671e9",
        "outputId": "c95c87cd-95ea-4031-8e36-077e484cd25d"
      },
      "outputs": [
        {
          "output_type": "execute_result",
          "data": {
            "text/plain": [
              "count    69999.0\n",
              "mean       109.0\n",
              "std          0.0\n",
              "min        109.0\n",
              "25%        109.0\n",
              "50%        109.0\n",
              "75%        109.0\n",
              "max        109.0\n",
              "Name: circle_id, dtype: float64"
            ]
          },
          "metadata": {},
          "execution_count": 274
        }
      ],
      "source": [
        "df['circle_id'].describe()"
      ]
    },
    {
      "cell_type": "code",
      "execution_count": 275,
      "id": "db75e365",
      "metadata": {
        "colab": {
          "base_uri": "https://localhost:8080/"
        },
        "id": "db75e365",
        "outputId": "9efa4841-0ddf-4385-a9dd-049c36b9ed15"
      },
      "outputs": [
        {
          "output_type": "execute_result",
          "data": {
            "text/plain": [
              "count    69297.0\n",
              "mean         0.0\n",
              "std          0.0\n",
              "min          0.0\n",
              "25%          0.0\n",
              "50%          0.0\n",
              "75%          0.0\n",
              "max          0.0\n",
              "Name: loc_og_t2o_mou, dtype: float64"
            ]
          },
          "metadata": {},
          "execution_count": 275
        }
      ],
      "source": [
        "df['loc_og_t2o_mou'].describe()"
      ]
    },
    {
      "cell_type": "code",
      "execution_count": 276,
      "id": "85387a00",
      "metadata": {
        "colab": {
          "base_uri": "https://localhost:8080/"
        },
        "id": "85387a00",
        "outputId": "0273cebe-36ef-4e6d-8c46-c3c3e6f8233e"
      },
      "outputs": [
        {
          "output_type": "execute_result",
          "data": {
            "text/plain": [
              "count    69297.0\n",
              "mean         0.0\n",
              "std          0.0\n",
              "min          0.0\n",
              "25%          0.0\n",
              "50%          0.0\n",
              "75%          0.0\n",
              "max          0.0\n",
              "Name: std_og_t2o_mou, dtype: float64"
            ]
          },
          "metadata": {},
          "execution_count": 276
        }
      ],
      "source": [
        "df['std_og_t2o_mou'].describe()"
      ]
    },
    {
      "cell_type": "code",
      "execution_count": 277,
      "id": "d0846b16",
      "metadata": {
        "scrolled": true,
        "colab": {
          "base_uri": "https://localhost:8080/"
        },
        "id": "d0846b16",
        "outputId": "52f64a1e-ec70-42d5-ef5a-3ff449184687"
      },
      "outputs": [
        {
          "output_type": "execute_result",
          "data": {
            "text/plain": [
              "count    69297.0\n",
              "mean         0.0\n",
              "std          0.0\n",
              "min          0.0\n",
              "25%          0.0\n",
              "50%          0.0\n",
              "75%          0.0\n",
              "max          0.0\n",
              "Name: loc_ic_t2o_mou, dtype: float64"
            ]
          },
          "metadata": {},
          "execution_count": 277
        }
      ],
      "source": [
        "df['loc_ic_t2o_mou'].describe()"
      ]
    },
    {
      "cell_type": "code",
      "execution_count": 278,
      "id": "e081f83f",
      "metadata": {
        "id": "e081f83f"
      },
      "outputs": [],
      "source": [
        "df = df.drop(['loc_ic_t2o_mou','std_og_t2o_mou','loc_og_t2o_mou','circle_id'], axis = 1)"
      ]
    },
    {
      "cell_type": "markdown",
      "id": "7031e86f",
      "metadata": {
        "id": "7031e86f"
      },
      "source": [
        "Total monthly reacharge per month"
      ]
    },
    {
      "cell_type": "code",
      "execution_count": 279,
      "id": "c09fee3f",
      "metadata": {
        "id": "c09fee3f"
      },
      "outputs": [],
      "source": [
        "df['TotMnth_6'] = df.monthly_2g_6 + df.monthly_3g_6\n",
        "df['TotMnth_7'] = df.monthly_2g_7 + df.monthly_3g_7\n",
        "df['TotMnth_8'] = df.monthly_2g_8 + df.monthly_3g_8"
      ]
    },
    {
      "cell_type": "code",
      "execution_count": 280,
      "id": "1856abcc",
      "metadata": {
        "id": "1856abcc"
      },
      "outputs": [],
      "source": [
        "df['TotSac_6'] = df.sachet_3g_6 + df.sachet_2g_6\n",
        "df['TotSac_7'] = df.sachet_3g_7 + df.sachet_2g_7\n",
        "df['TotSac_8'] = df.sachet_3g_8 + df.sachet_2g_8"
      ]
    },
    {
      "cell_type": "markdown",
      "id": "9b339d73",
      "metadata": {
        "id": "9b339d73"
      },
      "source": [
        "Attempting to identify the increasing or decreasing trends in recharge frequency between months"
      ]
    },
    {
      "cell_type": "code",
      "execution_count": 281,
      "id": "0e428ed1",
      "metadata": {
        "id": "0e428ed1"
      },
      "outputs": [],
      "source": [
        "df['Mnth_6-7'] = (df.TotMnth_7 - df.TotMnth_6)\n",
        "df['Mnth_7-8'] = (df.TotMnth_8 - df.TotMnth_7)\n",
        "df['Mnth_6-8'] = (df.TotMnth_8 - df.TotMnth_6)\n",
        "df['Sac_6-7'] = (df.TotSac_7 - df.TotSac_6)\n",
        "df['Sac_7-8'] = (df.TotSac_8 - df.TotSac_7)\n",
        "df['Sac_6-8'] = (df.TotSac_8 - df.TotSac_6)"
      ]
    },
    {
      "cell_type": "markdown",
      "id": "76b522f8",
      "metadata": {
        "id": "76b522f8"
      },
      "source": [
        "Trend analysis for data volume on a monthly basis"
      ]
    },
    {
      "cell_type": "code",
      "execution_count": 282,
      "id": "02ba9c8e",
      "metadata": {
        "id": "02ba9c8e"
      },
      "outputs": [],
      "source": [
        "df['TotData_6'] = df.vol_2g_mb_6 + df.vol_3g_mb_6\n",
        "df['TotData_7'] = df.vol_2g_mb_7 + df.vol_3g_mb_7\n",
        "df['TotData_8'] = df.vol_2g_mb_8 + df.vol_3g_mb_8\n",
        "\n",
        "df['DataChange6-7'] = (df.TotData_7 - df.TotData_6)\n",
        "df['DataChange7-8'] = (df.TotData_8 - df.TotData_7)\n",
        "df['DataChange6-8'] = (df.TotData_8 - df.TotData_6)"
      ]
    },
    {
      "cell_type": "markdown",
      "id": "58c263be",
      "metadata": {
        "id": "58c263be"
      },
      "source": [
        "Trend Analysis on Recharge Amount."
      ]
    },
    {
      "cell_type": "code",
      "execution_count": 283,
      "id": "95766132",
      "metadata": {
        "id": "95766132"
      },
      "outputs": [],
      "source": [
        "df['RechChange_6-7'] = df.last_day_rch_amt_7 - df.last_day_rch_amt_6\n",
        "df['RechChange_7-8'] = df.last_day_rch_amt_8 - df.last_day_rch_amt_7\n",
        "df['RechChange_6-8'] = df.last_day_rch_amt_8 - df.last_day_rch_amt_6"
      ]
    },
    {
      "cell_type": "markdown",
      "id": "c5f51d4f",
      "metadata": {
        "id": "c5f51d4f"
      },
      "source": [
        "Analysisng trends in total minutes of usage on monthly basis for both incoming and outgoing call"
      ]
    },
    {
      "cell_type": "code",
      "execution_count": 284,
      "id": "8595868d",
      "metadata": {
        "id": "8595868d"
      },
      "outputs": [],
      "source": [
        "df['TotIC_mou_Chng_6-7'] = df.total_ic_mou_7 - df.total_ic_mou_6\n",
        "df['TotIC_mou_Chng_7-8'] = df.total_ic_mou_8 - df.total_ic_mou_7\n",
        "df['TotIC_mou_Chng_6-8'] = df.total_ic_mou_8 - df.total_ic_mou_6\n",
        "\n",
        "df['TotOG_mou_Chng_6-7'] = df.total_og_mou_7 - df.total_og_mou_6\n",
        "df['TotOG_mou_Chng_7-8'] = df.total_og_mou_8 - df.total_og_mou_7\n",
        "df['TotOG_mou_Chng_6-8'] = df.total_og_mou_8 - df.total_og_mou_6"
      ]
    },
    {
      "cell_type": "markdown",
      "id": "ddb5e782",
      "metadata": {
        "id": "ddb5e782"
      },
      "source": [
        "The Data doesn't have any direct varible mentionig customer staisfaction / feedback.\n",
        "\n",
        "But the calls made to customer care may / may not be reflect the feedback report.\n",
        "\n",
        "The increasing number of calls (Time spent on calls) may indicate increasing complaints."
      ]
    },
    {
      "cell_type": "code",
      "execution_count": 285,
      "id": "2c68bb25",
      "metadata": {
        "colab": {
          "base_uri": "https://localhost:8080/"
        },
        "id": "2c68bb25",
        "outputId": "20ee6232-ae47-4a6c-a4a1-b5e85fdf3ad4"
      },
      "outputs": [
        {
          "output_type": "execute_result",
          "data": {
            "text/plain": [
              "(69999,)"
            ]
          },
          "metadata": {},
          "execution_count": 285
        }
      ],
      "source": [
        "df.loc_og_t2c_mou_8.shape"
      ]
    },
    {
      "cell_type": "code",
      "execution_count": 286,
      "id": "71970ffd",
      "metadata": {
        "colab": {
          "base_uri": "https://localhost:8080/"
        },
        "id": "71970ffd",
        "outputId": "7c53c661-6080-415a-a33e-08753d05a993"
      },
      "outputs": [
        {
          "output_type": "stream",
          "name": "stderr",
          "text": [
            "<ipython-input-286-39e14a4af97d>:7: SettingWithCopyWarning: \n",
            "A value is trying to be set on a copy of a slice from a DataFrame\n",
            "\n",
            "See the caveats in the documentation: https://pandas.pydata.org/pandas-docs/stable/user_guide/indexing.html#returning-a-view-versus-a-copy\n",
            "  df.loc_og_t2c_mou_6[i] = 0\n",
            "<ipython-input-286-39e14a4af97d>:11: SettingWithCopyWarning: \n",
            "A value is trying to be set on a copy of a slice from a DataFrame\n",
            "\n",
            "See the caveats in the documentation: https://pandas.pydata.org/pandas-docs/stable/user_guide/indexing.html#returning-a-view-versus-a-copy\n",
            "  df.loc_og_t2c_mou_7[i] = 0\n",
            "<ipython-input-286-39e14a4af97d>:15: SettingWithCopyWarning: \n",
            "A value is trying to be set on a copy of a slice from a DataFrame\n",
            "\n",
            "See the caveats in the documentation: https://pandas.pydata.org/pandas-docs/stable/user_guide/indexing.html#returning-a-view-versus-a-copy\n",
            "  df.loc_og_t2c_mou_8[i] = 0\n"
          ]
        },
        {
          "output_type": "stream",
          "name": "stdout",
          "text": [
            "2768 2687 3703\n"
          ]
        }
      ],
      "source": [
        "p = 0\n",
        "q = 0\n",
        "r = 0\n",
        "\n",
        "for i in range(0,69999):\n",
        "    if pd.isna(df.loc_og_t2c_mou_6[i]):\n",
        "        df.loc_og_t2c_mou_6[i] = 0\n",
        "        p = p + 1\n",
        "for i in range(0,69999):\n",
        "    if pd.isna(df.loc_og_t2c_mou_7[i]):\n",
        "        df.loc_og_t2c_mou_7[i] = 0\n",
        "        q = q + 1\n",
        "for i in range(0,69999):\n",
        "    if pd.isna(df.loc_og_t2c_mou_8[i]):\n",
        "        df.loc_og_t2c_mou_8[i] = 0\n",
        "        r = r + 1\n",
        "\n",
        "print(p,q,r)"
      ]
    },
    {
      "cell_type": "code",
      "execution_count": 287,
      "id": "60040134",
      "metadata": {
        "id": "60040134"
      },
      "outputs": [],
      "source": [
        "df['CustCall_6-7'] = df.loc_og_t2c_mou_7 - df.loc_og_t2c_mou_6\n",
        "df['CustCall_7-8'] = df.loc_og_t2c_mou_8 - df.loc_og_t2c_mou_7\n",
        "df['CustCall_6-8'] = df.loc_og_t2c_mou_8 - df.loc_og_t2c_mou_6"
      ]
    },
    {
      "cell_type": "code",
      "execution_count": 288,
      "id": "c6e650a6",
      "metadata": {
        "scrolled": false,
        "colab": {
          "base_uri": "https://localhost:8080/"
        },
        "id": "c6e650a6",
        "outputId": "a208cc1e-4ba0-4da4-cc58-2a8a4d0e3fe1"
      },
      "outputs": [
        {
          "output_type": "execute_result",
          "data": {
            "text/plain": [
              "0     0.00\n",
              "1    29.79\n",
              "2    -2.14\n",
              "3     8.03\n",
              "4     0.00\n",
              "5   -11.50\n",
              "6     0.00\n",
              "7     0.00\n",
              "8     0.00\n",
              "9     0.00\n",
              "Name: CustCall_6-8, dtype: float64"
            ]
          },
          "metadata": {},
          "execution_count": 288
        }
      ],
      "source": [
        "df['CustCall_6-8'].head(10)"
      ]
    },
    {
      "cell_type": "markdown",
      "id": "328c3380",
      "metadata": {
        "id": "328c3380"
      },
      "source": [
        "Average Revenue per user trend"
      ]
    },
    {
      "cell_type": "code",
      "execution_count": 289,
      "id": "c810721e",
      "metadata": {
        "id": "c810721e"
      },
      "outputs": [],
      "source": [
        "df['Rev_Chng_6-7'] = df.arpu_7 - df.arpu_6\n",
        "df['Rev_Chng_7-8'] = df.arpu_8 - df.arpu_7\n",
        "df['Rev_Chng_6-8'] = df.arpu_8 - df.arpu_6\n"
      ]
    },
    {
      "cell_type": "markdown",
      "id": "e783c284",
      "metadata": {
        "id": "e783c284"
      },
      "source": [
        "We could've substituted the orignal changed values to dummy variables for eg;\n",
        "1. A increase in values could be denoted by +1\n",
        "2. A decrease in values could be denoted by -1\n",
        "3. No net change could be denoted by 0\n",
        "\n",
        "But this might not be so effective as an increment or decrement may not necessarily denote the probability to churn. But the actual values might provide some insight on the same."
      ]
    },
    {
      "cell_type": "code",
      "execution_count": 290,
      "id": "6cda3e87",
      "metadata": {
        "id": "6cda3e87"
      },
      "outputs": [],
      "source": [
        "df = df.drop(['last_date_of_month_6','last_date_of_month_7','last_date_of_month_8'], axis = 1)"
      ]
    },
    {
      "cell_type": "markdown",
      "source": [
        "A lot of the missing information belongs to the entries with churn label. And using manipulated values for the same would result in incorrect predictions.\n",
        "\n",
        "Thus, droping all the null values in the dataframe."
      ],
      "metadata": {
        "id": "rBaVpJluCF8Z"
      },
      "id": "rBaVpJluCF8Z"
    },
    {
      "cell_type": "code",
      "source": [
        "df_3 = df_2.drop(['last_day_rch_amt_8','last_day_rch_amt_7','last_day_rch_amt_6','date_of_last_rech_8','date_of_last_rech_7','date_of_last_rech_6'], axis = 1)"
      ],
      "metadata": {
        "id": "e9bdKqNcKJ-Z"
      },
      "id": "e9bdKqNcKJ-Z",
      "execution_count": 291,
      "outputs": []
    },
    {
      "cell_type": "code",
      "source": [
        "df_2 = df.dropna()\n",
        "\n",
        "print(df_2.shape)"
      ],
      "metadata": {
        "colab": {
          "base_uri": "https://localhost:8080/"
        },
        "id": "AsKtxHCPC5d5",
        "outputId": "ceccc396-02c7-447c-e7e3-b0aa3ffad80b"
      },
      "id": "AsKtxHCPC5d5",
      "execution_count": 292,
      "outputs": [
        {
          "output_type": "stream",
          "name": "stdout",
          "text": [
            "(61895, 168)\n"
          ]
        }
      ]
    },
    {
      "cell_type": "code",
      "source": [
        "df_2.isnull().sum().sum()"
      ],
      "metadata": {
        "colab": {
          "base_uri": "https://localhost:8080/"
        },
        "id": "YRyJpnFKHPUC",
        "outputId": "bf1f1eb3-d4ad-4593-ebc1-a508e4fdea73"
      },
      "id": "YRyJpnFKHPUC",
      "execution_count": 293,
      "outputs": [
        {
          "output_type": "execute_result",
          "data": {
            "text/plain": [
              "0"
            ]
          },
          "metadata": {},
          "execution_count": 293
        }
      ]
    },
    {
      "cell_type": "markdown",
      "id": "07b6f77c",
      "metadata": {
        "id": "07b6f77c"
      },
      "source": [
        "# Model Building"
      ]
    },
    {
      "cell_type": "markdown",
      "source": [
        "Using PCA to reduce the dimesionality of this huge chunk of data"
      ],
      "metadata": {
        "id": "GUs9yiaIIpUh"
      },
      "id": "GUs9yiaIIpUh"
    },
    {
      "cell_type": "code",
      "source": [
        "y = df_2.pop('churn_probability')"
      ],
      "metadata": {
        "id": "qK2SapbzKD0S"
      },
      "id": "qK2SapbzKD0S",
      "execution_count": 294,
      "outputs": []
    },
    {
      "cell_type": "code",
      "source": [
        "from sklearn.preprocessing import StandardScaler"
      ],
      "metadata": {
        "id": "tgYA8kVIIhQo"
      },
      "id": "tgYA8kVIIhQo",
      "execution_count": 295,
      "outputs": []
    },
    {
      "cell_type": "code",
      "source": [
        "scaler = StandardScaler()"
      ],
      "metadata": {
        "id": "J5ahghx4JI77"
      },
      "id": "J5ahghx4JI77",
      "execution_count": 296,
      "outputs": []
    },
    {
      "cell_type": "code",
      "source": [
        "df_3.head()"
      ],
      "metadata": {
        "colab": {
          "base_uri": "https://localhost:8080/",
          "height": 272
        },
        "id": "eJkqadaMKu78",
        "outputId": "764fbd0d-f199-4113-ca2d-cc2ed27c0b01"
      },
      "id": "eJkqadaMKu78",
      "execution_count": 297,
      "outputs": [
        {
          "output_type": "execute_result",
          "data": {
            "text/plain": [
              "   id   arpu_6   arpu_7   arpu_8  onnet_mou_6  onnet_mou_7  onnet_mou_8  \\\n",
              "0   0   31.277   87.009    7.527        48.58       124.38         1.29   \n",
              "1   1    0.000  122.787   42.953         0.00         0.00         0.00   \n",
              "2   2   60.806  103.176    0.000         0.53        15.93         0.00   \n",
              "3   3  156.362  205.260  111.095         7.26        16.01         0.00   \n",
              "4   4  240.708  128.191  101.565        21.28         4.83         6.13   \n",
              "\n",
              "   offnet_mou_6  offnet_mou_7  offnet_mou_8  ...  TotIC_mou_Chng_6-8  \\\n",
              "0         32.24         96.68          2.33  ...               28.72   \n",
              "1          0.00         25.99         30.89  ...               21.60   \n",
              "2         53.99         82.05          0.00  ...              -87.65   \n",
              "3         68.76         78.48         50.23  ...              -11.27   \n",
              "4         56.99         38.11          9.63  ...                6.77   \n",
              "\n",
              "   TotOG_mou_Chng_6-7  TotOG_mou_Chng_7-8  TotOG_mou_Chng_6-8  CustCall_6-7  \\\n",
              "0              140.47             -218.05              -77.58          0.00   \n",
              "1               30.73                0.93               31.66         22.01   \n",
              "2               42.87              -99.36              -56.49         -2.14   \n",
              "3               19.95              -42.14              -22.19          0.00   \n",
              "4              -20.32              -27.18              -47.50          9.85   \n",
              "\n",
              "   CustCall_7-8  CustCall_6-8  Rev_Chng_6-7  Rev_Chng_7-8  Rev_Chng_6-8  \n",
              "0          0.00          0.00        55.732       -79.482       -23.750  \n",
              "1          7.78         29.79       122.787       -79.834        42.953  \n",
              "2          0.00         -2.14        42.370      -103.176       -60.806  \n",
              "3          8.03          8.03        48.898       -94.165       -45.267  \n",
              "4         -9.85          0.00      -112.517       -26.626      -139.143  \n",
              "\n",
              "[5 rows x 161 columns]"
            ],
            "text/html": [
              "\n",
              "  <div id=\"df-57e00827-17f1-4fc4-834d-b7f2f8fdf04f\" class=\"colab-df-container\">\n",
              "    <div>\n",
              "<style scoped>\n",
              "    .dataframe tbody tr th:only-of-type {\n",
              "        vertical-align: middle;\n",
              "    }\n",
              "\n",
              "    .dataframe tbody tr th {\n",
              "        vertical-align: top;\n",
              "    }\n",
              "\n",
              "    .dataframe thead th {\n",
              "        text-align: right;\n",
              "    }\n",
              "</style>\n",
              "<table border=\"1\" class=\"dataframe\">\n",
              "  <thead>\n",
              "    <tr style=\"text-align: right;\">\n",
              "      <th></th>\n",
              "      <th>id</th>\n",
              "      <th>arpu_6</th>\n",
              "      <th>arpu_7</th>\n",
              "      <th>arpu_8</th>\n",
              "      <th>onnet_mou_6</th>\n",
              "      <th>onnet_mou_7</th>\n",
              "      <th>onnet_mou_8</th>\n",
              "      <th>offnet_mou_6</th>\n",
              "      <th>offnet_mou_7</th>\n",
              "      <th>offnet_mou_8</th>\n",
              "      <th>...</th>\n",
              "      <th>TotIC_mou_Chng_6-8</th>\n",
              "      <th>TotOG_mou_Chng_6-7</th>\n",
              "      <th>TotOG_mou_Chng_7-8</th>\n",
              "      <th>TotOG_mou_Chng_6-8</th>\n",
              "      <th>CustCall_6-7</th>\n",
              "      <th>CustCall_7-8</th>\n",
              "      <th>CustCall_6-8</th>\n",
              "      <th>Rev_Chng_6-7</th>\n",
              "      <th>Rev_Chng_7-8</th>\n",
              "      <th>Rev_Chng_6-8</th>\n",
              "    </tr>\n",
              "  </thead>\n",
              "  <tbody>\n",
              "    <tr>\n",
              "      <th>0</th>\n",
              "      <td>0</td>\n",
              "      <td>31.277</td>\n",
              "      <td>87.009</td>\n",
              "      <td>7.527</td>\n",
              "      <td>48.58</td>\n",
              "      <td>124.38</td>\n",
              "      <td>1.29</td>\n",
              "      <td>32.24</td>\n",
              "      <td>96.68</td>\n",
              "      <td>2.33</td>\n",
              "      <td>...</td>\n",
              "      <td>28.72</td>\n",
              "      <td>140.47</td>\n",
              "      <td>-218.05</td>\n",
              "      <td>-77.58</td>\n",
              "      <td>0.00</td>\n",
              "      <td>0.00</td>\n",
              "      <td>0.00</td>\n",
              "      <td>55.732</td>\n",
              "      <td>-79.482</td>\n",
              "      <td>-23.750</td>\n",
              "    </tr>\n",
              "    <tr>\n",
              "      <th>1</th>\n",
              "      <td>1</td>\n",
              "      <td>0.000</td>\n",
              "      <td>122.787</td>\n",
              "      <td>42.953</td>\n",
              "      <td>0.00</td>\n",
              "      <td>0.00</td>\n",
              "      <td>0.00</td>\n",
              "      <td>0.00</td>\n",
              "      <td>25.99</td>\n",
              "      <td>30.89</td>\n",
              "      <td>...</td>\n",
              "      <td>21.60</td>\n",
              "      <td>30.73</td>\n",
              "      <td>0.93</td>\n",
              "      <td>31.66</td>\n",
              "      <td>22.01</td>\n",
              "      <td>7.78</td>\n",
              "      <td>29.79</td>\n",
              "      <td>122.787</td>\n",
              "      <td>-79.834</td>\n",
              "      <td>42.953</td>\n",
              "    </tr>\n",
              "    <tr>\n",
              "      <th>2</th>\n",
              "      <td>2</td>\n",
              "      <td>60.806</td>\n",
              "      <td>103.176</td>\n",
              "      <td>0.000</td>\n",
              "      <td>0.53</td>\n",
              "      <td>15.93</td>\n",
              "      <td>0.00</td>\n",
              "      <td>53.99</td>\n",
              "      <td>82.05</td>\n",
              "      <td>0.00</td>\n",
              "      <td>...</td>\n",
              "      <td>-87.65</td>\n",
              "      <td>42.87</td>\n",
              "      <td>-99.36</td>\n",
              "      <td>-56.49</td>\n",
              "      <td>-2.14</td>\n",
              "      <td>0.00</td>\n",
              "      <td>-2.14</td>\n",
              "      <td>42.370</td>\n",
              "      <td>-103.176</td>\n",
              "      <td>-60.806</td>\n",
              "    </tr>\n",
              "    <tr>\n",
              "      <th>3</th>\n",
              "      <td>3</td>\n",
              "      <td>156.362</td>\n",
              "      <td>205.260</td>\n",
              "      <td>111.095</td>\n",
              "      <td>7.26</td>\n",
              "      <td>16.01</td>\n",
              "      <td>0.00</td>\n",
              "      <td>68.76</td>\n",
              "      <td>78.48</td>\n",
              "      <td>50.23</td>\n",
              "      <td>...</td>\n",
              "      <td>-11.27</td>\n",
              "      <td>19.95</td>\n",
              "      <td>-42.14</td>\n",
              "      <td>-22.19</td>\n",
              "      <td>0.00</td>\n",
              "      <td>8.03</td>\n",
              "      <td>8.03</td>\n",
              "      <td>48.898</td>\n",
              "      <td>-94.165</td>\n",
              "      <td>-45.267</td>\n",
              "    </tr>\n",
              "    <tr>\n",
              "      <th>4</th>\n",
              "      <td>4</td>\n",
              "      <td>240.708</td>\n",
              "      <td>128.191</td>\n",
              "      <td>101.565</td>\n",
              "      <td>21.28</td>\n",
              "      <td>4.83</td>\n",
              "      <td>6.13</td>\n",
              "      <td>56.99</td>\n",
              "      <td>38.11</td>\n",
              "      <td>9.63</td>\n",
              "      <td>...</td>\n",
              "      <td>6.77</td>\n",
              "      <td>-20.32</td>\n",
              "      <td>-27.18</td>\n",
              "      <td>-47.50</td>\n",
              "      <td>9.85</td>\n",
              "      <td>-9.85</td>\n",
              "      <td>0.00</td>\n",
              "      <td>-112.517</td>\n",
              "      <td>-26.626</td>\n",
              "      <td>-139.143</td>\n",
              "    </tr>\n",
              "  </tbody>\n",
              "</table>\n",
              "<p>5 rows × 161 columns</p>\n",
              "</div>\n",
              "    <div class=\"colab-df-buttons\">\n",
              "\n",
              "  <div class=\"colab-df-container\">\n",
              "    <button class=\"colab-df-convert\" onclick=\"convertToInteractive('df-57e00827-17f1-4fc4-834d-b7f2f8fdf04f')\"\n",
              "            title=\"Convert this dataframe to an interactive table.\"\n",
              "            style=\"display:none;\">\n",
              "\n",
              "  <svg xmlns=\"http://www.w3.org/2000/svg\" height=\"24px\" viewBox=\"0 -960 960 960\">\n",
              "    <path d=\"M120-120v-720h720v720H120Zm60-500h600v-160H180v160Zm220 220h160v-160H400v160Zm0 220h160v-160H400v160ZM180-400h160v-160H180v160Zm440 0h160v-160H620v160ZM180-180h160v-160H180v160Zm440 0h160v-160H620v160Z\"/>\n",
              "  </svg>\n",
              "    </button>\n",
              "\n",
              "  <style>\n",
              "    .colab-df-container {\n",
              "      display:flex;\n",
              "      gap: 12px;\n",
              "    }\n",
              "\n",
              "    .colab-df-convert {\n",
              "      background-color: #E8F0FE;\n",
              "      border: none;\n",
              "      border-radius: 50%;\n",
              "      cursor: pointer;\n",
              "      display: none;\n",
              "      fill: #1967D2;\n",
              "      height: 32px;\n",
              "      padding: 0 0 0 0;\n",
              "      width: 32px;\n",
              "    }\n",
              "\n",
              "    .colab-df-convert:hover {\n",
              "      background-color: #E2EBFA;\n",
              "      box-shadow: 0px 1px 2px rgba(60, 64, 67, 0.3), 0px 1px 3px 1px rgba(60, 64, 67, 0.15);\n",
              "      fill: #174EA6;\n",
              "    }\n",
              "\n",
              "    .colab-df-buttons div {\n",
              "      margin-bottom: 4px;\n",
              "    }\n",
              "\n",
              "    [theme=dark] .colab-df-convert {\n",
              "      background-color: #3B4455;\n",
              "      fill: #D2E3FC;\n",
              "    }\n",
              "\n",
              "    [theme=dark] .colab-df-convert:hover {\n",
              "      background-color: #434B5C;\n",
              "      box-shadow: 0px 1px 3px 1px rgba(0, 0, 0, 0.15);\n",
              "      filter: drop-shadow(0px 1px 2px rgba(0, 0, 0, 0.3));\n",
              "      fill: #FFFFFF;\n",
              "    }\n",
              "  </style>\n",
              "\n",
              "    <script>\n",
              "      const buttonEl =\n",
              "        document.querySelector('#df-57e00827-17f1-4fc4-834d-b7f2f8fdf04f button.colab-df-convert');\n",
              "      buttonEl.style.display =\n",
              "        google.colab.kernel.accessAllowed ? 'block' : 'none';\n",
              "\n",
              "      async function convertToInteractive(key) {\n",
              "        const element = document.querySelector('#df-57e00827-17f1-4fc4-834d-b7f2f8fdf04f');\n",
              "        const dataTable =\n",
              "          await google.colab.kernel.invokeFunction('convertToInteractive',\n",
              "                                                    [key], {});\n",
              "        if (!dataTable) return;\n",
              "\n",
              "        const docLinkHtml = 'Like what you see? Visit the ' +\n",
              "          '<a target=\"_blank\" href=https://colab.research.google.com/notebooks/data_table.ipynb>data table notebook</a>'\n",
              "          + ' to learn more about interactive tables.';\n",
              "        element.innerHTML = '';\n",
              "        dataTable['output_type'] = 'display_data';\n",
              "        await google.colab.output.renderOutput(dataTable, element);\n",
              "        const docLink = document.createElement('div');\n",
              "        docLink.innerHTML = docLinkHtml;\n",
              "        element.appendChild(docLink);\n",
              "      }\n",
              "    </script>\n",
              "  </div>\n",
              "\n",
              "\n",
              "<div id=\"df-2d283655-424d-4148-b7eb-41c9f56dd940\">\n",
              "  <button class=\"colab-df-quickchart\" onclick=\"quickchart('df-2d283655-424d-4148-b7eb-41c9f56dd940')\"\n",
              "            title=\"Suggest charts.\"\n",
              "            style=\"display:none;\">\n",
              "\n",
              "<svg xmlns=\"http://www.w3.org/2000/svg\" height=\"24px\"viewBox=\"0 0 24 24\"\n",
              "     width=\"24px\">\n",
              "    <g>\n",
              "        <path d=\"M19 3H5c-1.1 0-2 .9-2 2v14c0 1.1.9 2 2 2h14c1.1 0 2-.9 2-2V5c0-1.1-.9-2-2-2zM9 17H7v-7h2v7zm4 0h-2V7h2v10zm4 0h-2v-4h2v4z\"/>\n",
              "    </g>\n",
              "</svg>\n",
              "  </button>\n",
              "\n",
              "<style>\n",
              "  .colab-df-quickchart {\n",
              "      --bg-color: #E8F0FE;\n",
              "      --fill-color: #1967D2;\n",
              "      --hover-bg-color: #E2EBFA;\n",
              "      --hover-fill-color: #174EA6;\n",
              "      --disabled-fill-color: #AAA;\n",
              "      --disabled-bg-color: #DDD;\n",
              "  }\n",
              "\n",
              "  [theme=dark] .colab-df-quickchart {\n",
              "      --bg-color: #3B4455;\n",
              "      --fill-color: #D2E3FC;\n",
              "      --hover-bg-color: #434B5C;\n",
              "      --hover-fill-color: #FFFFFF;\n",
              "      --disabled-bg-color: #3B4455;\n",
              "      --disabled-fill-color: #666;\n",
              "  }\n",
              "\n",
              "  .colab-df-quickchart {\n",
              "    background-color: var(--bg-color);\n",
              "    border: none;\n",
              "    border-radius: 50%;\n",
              "    cursor: pointer;\n",
              "    display: none;\n",
              "    fill: var(--fill-color);\n",
              "    height: 32px;\n",
              "    padding: 0;\n",
              "    width: 32px;\n",
              "  }\n",
              "\n",
              "  .colab-df-quickchart:hover {\n",
              "    background-color: var(--hover-bg-color);\n",
              "    box-shadow: 0 1px 2px rgba(60, 64, 67, 0.3), 0 1px 3px 1px rgba(60, 64, 67, 0.15);\n",
              "    fill: var(--button-hover-fill-color);\n",
              "  }\n",
              "\n",
              "  .colab-df-quickchart-complete:disabled,\n",
              "  .colab-df-quickchart-complete:disabled:hover {\n",
              "    background-color: var(--disabled-bg-color);\n",
              "    fill: var(--disabled-fill-color);\n",
              "    box-shadow: none;\n",
              "  }\n",
              "\n",
              "  .colab-df-spinner {\n",
              "    border: 2px solid var(--fill-color);\n",
              "    border-color: transparent;\n",
              "    border-bottom-color: var(--fill-color);\n",
              "    animation:\n",
              "      spin 1s steps(1) infinite;\n",
              "  }\n",
              "\n",
              "  @keyframes spin {\n",
              "    0% {\n",
              "      border-color: transparent;\n",
              "      border-bottom-color: var(--fill-color);\n",
              "      border-left-color: var(--fill-color);\n",
              "    }\n",
              "    20% {\n",
              "      border-color: transparent;\n",
              "      border-left-color: var(--fill-color);\n",
              "      border-top-color: var(--fill-color);\n",
              "    }\n",
              "    30% {\n",
              "      border-color: transparent;\n",
              "      border-left-color: var(--fill-color);\n",
              "      border-top-color: var(--fill-color);\n",
              "      border-right-color: var(--fill-color);\n",
              "    }\n",
              "    40% {\n",
              "      border-color: transparent;\n",
              "      border-right-color: var(--fill-color);\n",
              "      border-top-color: var(--fill-color);\n",
              "    }\n",
              "    60% {\n",
              "      border-color: transparent;\n",
              "      border-right-color: var(--fill-color);\n",
              "    }\n",
              "    80% {\n",
              "      border-color: transparent;\n",
              "      border-right-color: var(--fill-color);\n",
              "      border-bottom-color: var(--fill-color);\n",
              "    }\n",
              "    90% {\n",
              "      border-color: transparent;\n",
              "      border-bottom-color: var(--fill-color);\n",
              "    }\n",
              "  }\n",
              "</style>\n",
              "\n",
              "  <script>\n",
              "    async function quickchart(key) {\n",
              "      const quickchartButtonEl =\n",
              "        document.querySelector('#' + key + ' button');\n",
              "      quickchartButtonEl.disabled = true;  // To prevent multiple clicks.\n",
              "      quickchartButtonEl.classList.add('colab-df-spinner');\n",
              "      try {\n",
              "        const charts = await google.colab.kernel.invokeFunction(\n",
              "            'suggestCharts', [key], {});\n",
              "      } catch (error) {\n",
              "        console.error('Error during call to suggestCharts:', error);\n",
              "      }\n",
              "      quickchartButtonEl.classList.remove('colab-df-spinner');\n",
              "      quickchartButtonEl.classList.add('colab-df-quickchart-complete');\n",
              "    }\n",
              "    (() => {\n",
              "      let quickchartButtonEl =\n",
              "        document.querySelector('#df-2d283655-424d-4148-b7eb-41c9f56dd940 button');\n",
              "      quickchartButtonEl.style.display =\n",
              "        google.colab.kernel.accessAllowed ? 'block' : 'none';\n",
              "    })();\n",
              "  </script>\n",
              "</div>\n",
              "    </div>\n",
              "  </div>\n"
            ]
          },
          "metadata": {},
          "execution_count": 297
        }
      ]
    },
    {
      "cell_type": "code",
      "source": [
        "#df_3 = df_3.drop(['date_of_last_rech_data_6','date_of_last_rech_data_7','date_of_last_rech_data_8'], axis = 1)\n"
      ],
      "metadata": {
        "id": "5g2VmQi9oYPE"
      },
      "id": "5g2VmQi9oYPE",
      "execution_count": 299,
      "outputs": []
    },
    {
      "cell_type": "code",
      "source": [
        "for col in df_3.columns:\n",
        "  df_3[col] = df_3[col].astype(float)"
      ],
      "metadata": {
        "id": "7AS1GclcMRE6"
      },
      "id": "7AS1GclcMRE6",
      "execution_count": 300,
      "outputs": []
    },
    {
      "cell_type": "code",
      "source": [
        "X = df_3"
      ],
      "metadata": {
        "id": "0gAK9MHVMrQK"
      },
      "id": "0gAK9MHVMrQK",
      "execution_count": 301,
      "outputs": []
    },
    {
      "cell_type": "code",
      "source": [
        "X = scaler.fit_transform(X)"
      ],
      "metadata": {
        "id": "vwltWYjoMtxf"
      },
      "id": "vwltWYjoMtxf",
      "execution_count": 302,
      "outputs": []
    },
    {
      "cell_type": "code",
      "source": [
        "X"
      ],
      "metadata": {
        "colab": {
          "base_uri": "https://localhost:8080/"
        },
        "id": "Bnb2P3aZMxLH",
        "outputId": "0d2f8756-faa6-4b15-eb00-37654108a359"
      },
      "id": "Bnb2P3aZMxLH",
      "execution_count": 303,
      "outputs": [
        {
          "output_type": "execute_result",
          "data": {
            "text/plain": [
              "array([[-1.73499954, -0.78585745, -0.5956595 , ...,  0.24392987,\n",
              "        -0.36847353, -0.10368762],\n",
              "       [-1.73495001, -0.87956173, -0.49374009, ...,  0.551357  ,\n",
              "        -0.37008449,  0.14958467],\n",
              "       [-1.73490049, -0.69739008, -0.54960519, ...,  0.18266909,\n",
              "        -0.47691103, -0.24438981],\n",
              "       ...,\n",
              "       [ 1.7313795 ,  0.2351948 , -0.10749861, ..., -0.53292941,\n",
              "         0.09325767, -0.36399578],\n",
              "       [ 1.73142903, -0.16480329, -0.14441727, ...,  0.01977007,\n",
              "        -0.46398676, -0.36857878],\n",
              "       [ 1.73147855, -0.37543645, -0.72155325, ..., -0.5867538 ,\n",
              "         0.56802296, -0.01467799]])"
            ]
          },
          "metadata": {},
          "execution_count": 303
        }
      ]
    },
    {
      "cell_type": "code",
      "source": [
        "from sklearn.model_selection import train_test_split\n",
        "from sklearn.metrics import mean_squared_error"
      ],
      "metadata": {
        "id": "YbM4s3sOZ507"
      },
      "id": "YbM4s3sOZ507",
      "execution_count": 304,
      "outputs": []
    },
    {
      "cell_type": "code",
      "source": [
        "X_train, X_test, y_train, y_test = train_test_split(X, y, test_size = 0.3, random_state = 50)"
      ],
      "metadata": {
        "id": "RCqtSS5Gabmt"
      },
      "id": "RCqtSS5Gabmt",
      "execution_count": 305,
      "outputs": []
    },
    {
      "cell_type": "code",
      "source": [
        "from sklearn.decomposition import PCA"
      ],
      "metadata": {
        "id": "Kz7B_W9zOUV0"
      },
      "id": "Kz7B_W9zOUV0",
      "execution_count": 306,
      "outputs": []
    },
    {
      "cell_type": "code",
      "source": [
        "pca = PCA(random_state = 42)"
      ],
      "metadata": {
        "id": "DXXiZ8hMOhRG"
      },
      "id": "DXXiZ8hMOhRG",
      "execution_count": 307,
      "outputs": []
    },
    {
      "cell_type": "code",
      "source": [
        "pca.fit(X_train)"
      ],
      "metadata": {
        "colab": {
          "base_uri": "https://localhost:8080/",
          "height": 74
        },
        "id": "qlA7_b-GOid6",
        "outputId": "7b6fc0e5-f7c7-486f-ac3c-b9dde4b59aca"
      },
      "id": "qlA7_b-GOid6",
      "execution_count": 308,
      "outputs": [
        {
          "output_type": "execute_result",
          "data": {
            "text/plain": [
              "PCA(random_state=42)"
            ],
            "text/html": [
              "<style>#sk-container-id-3 {color: black;background-color: white;}#sk-container-id-3 pre{padding: 0;}#sk-container-id-3 div.sk-toggleable {background-color: white;}#sk-container-id-3 label.sk-toggleable__label {cursor: pointer;display: block;width: 100%;margin-bottom: 0;padding: 0.3em;box-sizing: border-box;text-align: center;}#sk-container-id-3 label.sk-toggleable__label-arrow:before {content: \"▸\";float: left;margin-right: 0.25em;color: #696969;}#sk-container-id-3 label.sk-toggleable__label-arrow:hover:before {color: black;}#sk-container-id-3 div.sk-estimator:hover label.sk-toggleable__label-arrow:before {color: black;}#sk-container-id-3 div.sk-toggleable__content {max-height: 0;max-width: 0;overflow: hidden;text-align: left;background-color: #f0f8ff;}#sk-container-id-3 div.sk-toggleable__content pre {margin: 0.2em;color: black;border-radius: 0.25em;background-color: #f0f8ff;}#sk-container-id-3 input.sk-toggleable__control:checked~div.sk-toggleable__content {max-height: 200px;max-width: 100%;overflow: auto;}#sk-container-id-3 input.sk-toggleable__control:checked~label.sk-toggleable__label-arrow:before {content: \"▾\";}#sk-container-id-3 div.sk-estimator input.sk-toggleable__control:checked~label.sk-toggleable__label {background-color: #d4ebff;}#sk-container-id-3 div.sk-label input.sk-toggleable__control:checked~label.sk-toggleable__label {background-color: #d4ebff;}#sk-container-id-3 input.sk-hidden--visually {border: 0;clip: rect(1px 1px 1px 1px);clip: rect(1px, 1px, 1px, 1px);height: 1px;margin: -1px;overflow: hidden;padding: 0;position: absolute;width: 1px;}#sk-container-id-3 div.sk-estimator {font-family: monospace;background-color: #f0f8ff;border: 1px dotted black;border-radius: 0.25em;box-sizing: border-box;margin-bottom: 0.5em;}#sk-container-id-3 div.sk-estimator:hover {background-color: #d4ebff;}#sk-container-id-3 div.sk-parallel-item::after {content: \"\";width: 100%;border-bottom: 1px solid gray;flex-grow: 1;}#sk-container-id-3 div.sk-label:hover label.sk-toggleable__label {background-color: #d4ebff;}#sk-container-id-3 div.sk-serial::before {content: \"\";position: absolute;border-left: 1px solid gray;box-sizing: border-box;top: 0;bottom: 0;left: 50%;z-index: 0;}#sk-container-id-3 div.sk-serial {display: flex;flex-direction: column;align-items: center;background-color: white;padding-right: 0.2em;padding-left: 0.2em;position: relative;}#sk-container-id-3 div.sk-item {position: relative;z-index: 1;}#sk-container-id-3 div.sk-parallel {display: flex;align-items: stretch;justify-content: center;background-color: white;position: relative;}#sk-container-id-3 div.sk-item::before, #sk-container-id-3 div.sk-parallel-item::before {content: \"\";position: absolute;border-left: 1px solid gray;box-sizing: border-box;top: 0;bottom: 0;left: 50%;z-index: -1;}#sk-container-id-3 div.sk-parallel-item {display: flex;flex-direction: column;z-index: 1;position: relative;background-color: white;}#sk-container-id-3 div.sk-parallel-item:first-child::after {align-self: flex-end;width: 50%;}#sk-container-id-3 div.sk-parallel-item:last-child::after {align-self: flex-start;width: 50%;}#sk-container-id-3 div.sk-parallel-item:only-child::after {width: 0;}#sk-container-id-3 div.sk-dashed-wrapped {border: 1px dashed gray;margin: 0 0.4em 0.5em 0.4em;box-sizing: border-box;padding-bottom: 0.4em;background-color: white;}#sk-container-id-3 div.sk-label label {font-family: monospace;font-weight: bold;display: inline-block;line-height: 1.2em;}#sk-container-id-3 div.sk-label-container {text-align: center;}#sk-container-id-3 div.sk-container {/* jupyter's `normalize.less` sets `[hidden] { display: none; }` but bootstrap.min.css set `[hidden] { display: none !important; }` so we also need the `!important` here to be able to override the default hidden behavior on the sphinx rendered scikit-learn.org. See: https://github.com/scikit-learn/scikit-learn/issues/21755 */display: inline-block !important;position: relative;}#sk-container-id-3 div.sk-text-repr-fallback {display: none;}</style><div id=\"sk-container-id-3\" class=\"sk-top-container\"><div class=\"sk-text-repr-fallback\"><pre>PCA(random_state=42)</pre><b>In a Jupyter environment, please rerun this cell to show the HTML representation or trust the notebook. <br />On GitHub, the HTML representation is unable to render, please try loading this page with nbviewer.org.</b></div><div class=\"sk-container\" hidden><div class=\"sk-item\"><div class=\"sk-estimator sk-toggleable\"><input class=\"sk-toggleable__control sk-hidden--visually\" id=\"sk-estimator-id-3\" type=\"checkbox\" checked><label for=\"sk-estimator-id-3\" class=\"sk-toggleable__label sk-toggleable__label-arrow\">PCA</label><div class=\"sk-toggleable__content\"><pre>PCA(random_state=42)</pre></div></div></div></div></div>"
            ]
          },
          "metadata": {},
          "execution_count": 308
        }
      ]
    },
    {
      "cell_type": "code",
      "source": [
        "pca.components_"
      ],
      "metadata": {
        "colab": {
          "base_uri": "https://localhost:8080/"
        },
        "id": "AW7ScI51OwT5",
        "outputId": "45ba9c28-6848-4813-b615-0f058f456e9e"
      },
      "id": "AW7ScI51OwT5",
      "execution_count": 309,
      "outputs": [
        {
          "output_type": "execute_result",
          "data": {
            "text/plain": [
              "array([[ 0.00130169,  0.17807671,  0.18163984, ...,  0.01982447,\n",
              "        -0.00286186,  0.0140441 ],\n",
              "       [ 0.00181797, -0.01175542, -0.01642166, ..., -0.00844007,\n",
              "         0.00778453, -0.00053147],\n",
              "       [-0.00039621, -0.04395081, -0.0708199 , ..., -0.04672124,\n",
              "        -0.00432261, -0.04228048],\n",
              "       ...,\n",
              "       [-0.        ,  0.03831204,  0.03218109, ..., -0.1159975 ,\n",
              "        -0.09617243,  0.17029029],\n",
              "       [ 0.        , -0.09722935, -0.08158261, ...,  0.02011726,\n",
              "        -0.03062759, -0.10100717],\n",
              "       [ 0.        , -0.02691939, -0.02580464, ..., -0.11622287,\n",
              "        -0.13249102,  0.11909303]])"
            ]
          },
          "metadata": {},
          "execution_count": 309
        }
      ]
    },
    {
      "cell_type": "code",
      "source": [
        "pca.explained_variance_ratio_"
      ],
      "metadata": {
        "colab": {
          "base_uri": "https://localhost:8080/"
        },
        "id": "9vv2HxZoO3pG",
        "outputId": "7d0c3a18-4c93-42f6-964c-33a6edc2f058"
      },
      "id": "9vv2HxZoO3pG",
      "execution_count": 310,
      "outputs": [
        {
          "output_type": "execute_result",
          "data": {
            "text/plain": [
              "array([1.06391819e-01, 6.84448622e-02, 6.05549736e-02, 3.95493468e-02,\n",
              "       3.92123535e-02, 3.83924235e-02, 2.76180151e-02, 2.55997831e-02,\n",
              "       2.43976303e-02, 2.37177179e-02, 2.16054886e-02, 2.12379609e-02,\n",
              "       2.05429534e-02, 1.96287448e-02, 1.94462493e-02, 1.85450821e-02,\n",
              "       1.72309442e-02, 1.70255813e-02, 1.63580855e-02, 1.47340126e-02,\n",
              "       1.44465186e-02, 1.41743918e-02, 1.36890683e-02, 1.30066023e-02,\n",
              "       1.22827987e-02, 1.19468404e-02, 1.16189549e-02, 1.15023243e-02,\n",
              "       1.08703761e-02, 1.06604765e-02, 1.04448775e-02, 1.00008477e-02,\n",
              "       9.80102485e-03, 9.72655824e-03, 8.67413801e-03, 8.13018073e-03,\n",
              "       7.51242229e-03, 7.45810048e-03, 7.18415744e-03, 6.55283675e-03,\n",
              "       6.46568438e-03, 6.32766079e-03, 6.28043673e-03, 6.10203428e-03,\n",
              "       5.52733211e-03, 5.34285649e-03, 5.19165344e-03, 5.03493156e-03,\n",
              "       4.86401172e-03, 4.56479186e-03, 4.39733297e-03, 4.16500102e-03,\n",
              "       3.93887419e-03, 3.71169289e-03, 3.48598988e-03, 3.23550994e-03,\n",
              "       3.06300963e-03, 3.01123787e-03, 2.95325167e-03, 2.89708869e-03,\n",
              "       2.72818019e-03, 2.58133081e-03, 2.49105699e-03, 2.42918553e-03,\n",
              "       2.35236218e-03, 2.28093169e-03, 2.25150319e-03, 2.12170783e-03,\n",
              "       2.08769331e-03, 2.04935826e-03, 1.99460188e-03, 1.97597758e-03,\n",
              "       1.86240966e-03, 1.80326253e-03, 1.78911013e-03, 1.73997046e-03,\n",
              "       1.69779980e-03, 1.66495478e-03, 1.60403917e-03, 1.51889937e-03,\n",
              "       1.48496069e-03, 1.46625901e-03, 1.41842008e-03, 1.34234389e-03,\n",
              "       1.29811759e-03, 1.25779949e-03, 1.17580255e-03, 1.14067581e-03,\n",
              "       1.12174577e-03, 1.09007086e-03, 1.06430011e-03, 1.01113503e-03,\n",
              "       9.53645548e-04, 8.23351379e-04, 7.48732929e-04, 2.68663879e-04,\n",
              "       2.46470290e-04, 2.05082720e-04, 1.77044007e-04, 1.32514960e-04,\n",
              "       4.09155890e-05, 1.77486350e-05, 8.51208685e-06, 2.34071642e-06,\n",
              "       6.76054709e-07, 4.28895874e-07, 1.13436420e-11, 6.88045942e-12,\n",
              "       5.86105749e-12, 4.88630191e-12, 3.86475299e-12, 3.33177145e-12,\n",
              "       2.55083505e-12, 2.35085233e-12, 2.18829382e-12, 1.66653045e-12,\n",
              "       1.38743951e-12, 1.32487618e-12, 1.10133924e-12, 1.00878259e-12,\n",
              "       9.92378089e-13, 3.55485926e-13, 2.66169041e-13, 2.45392023e-13,\n",
              "       3.14767546e-31, 2.09820867e-32, 4.25597384e-33, 2.84947792e-33,\n",
              "       2.36913980e-33, 2.01514123e-33, 1.76598801e-33, 1.72494540e-33,\n",
              "       1.67816650e-33, 1.52989144e-33, 1.36975139e-33, 1.20400858e-33,\n",
              "       1.08182957e-33, 1.07631500e-33, 1.00514426e-33, 9.40571366e-34,\n",
              "       8.85973035e-34, 8.21403063e-34, 8.09437251e-34, 8.00667168e-34,\n",
              "       7.84066061e-34, 7.10913122e-34, 6.78214081e-34, 6.30922951e-34,\n",
              "       6.26453029e-34, 5.79419233e-34, 5.22946345e-34, 5.05531824e-34,\n",
              "       4.31280250e-34, 2.53729178e-34, 1.61399568e-34, 1.21578988e-34,\n",
              "       1.12118887e-34, 5.80833074e-35, 5.71777901e-35, 4.37205096e-35,\n",
              "       2.88358464e-35])"
            ]
          },
          "metadata": {},
          "execution_count": 310
        }
      ]
    },
    {
      "cell_type": "code",
      "source": [
        "import matplotlib.pyplot as plt"
      ],
      "metadata": {
        "id": "tbaWrlTkPGat"
      },
      "id": "tbaWrlTkPGat",
      "execution_count": 311,
      "outputs": []
    },
    {
      "cell_type": "code",
      "source": [
        "plt.bar(range(1,len(pca.explained_variance_ratio_)+1), pca.explained_variance_ratio_)"
      ],
      "metadata": {
        "colab": {
          "base_uri": "https://localhost:8080/",
          "height": 448
        },
        "id": "9CO-v2oWPNWo",
        "outputId": "3d4219cd-384a-44f5-c21c-b05695fd6d4a"
      },
      "id": "9CO-v2oWPNWo",
      "execution_count": 312,
      "outputs": [
        {
          "output_type": "execute_result",
          "data": {
            "text/plain": [
              "<BarContainer object of 161 artists>"
            ]
          },
          "metadata": {},
          "execution_count": 312
        },
        {
          "output_type": "display_data",
          "data": {
            "text/plain": [
              "<Figure size 640x480 with 1 Axes>"
            ],
            "image/png": "[encoded data removed]"
          },
          "metadata": {}
        }
      ]
    },
    {
      "cell_type": "code",
      "source": [
        "var_cum = np.cumsum(pca.explained_variance_ratio_)"
      ],
      "metadata": {
        "id": "4eWHRb-jPu2i"
      },
      "id": "4eWHRb-jPu2i",
      "execution_count": 313,
      "outputs": []
    },
    {
      "cell_type": "code",
      "source": [
        "plt.plot(range(1,len(pca.explained_variance_ratio_)+1), var_cum)"
      ],
      "metadata": {
        "colab": {
          "base_uri": "https://localhost:8080/",
          "height": 448
        },
        "id": "djuvPez7Pa45",
        "outputId": "35379869-a4f5-4226-9e12-d2b446611db8"
      },
      "id": "djuvPez7Pa45",
      "execution_count": 314,
      "outputs": [
        {
          "output_type": "execute_result",
          "data": {
            "text/plain": [
              "[<matplotlib.lines.Line2D at 0x7bb4c53382e0>]"
            ]
          },
          "metadata": {},
          "execution_count": 314
        },
        {
          "output_type": "display_data",
          "data": {
            "text/plain": [
              "<Figure size 640x480 with 1 Axes>"
            ],
            "image/png": "[encoded data removed]"
          },
          "metadata": {}
        }
      ]
    },
    {
      "cell_type": "code",
      "source": [
        "pca_2 = PCA(0.9)"
      ],
      "metadata": {
        "id": "SEwHyJ1fTXF9"
      },
      "id": "SEwHyJ1fTXF9",
      "execution_count": 315,
      "outputs": []
    },
    {
      "cell_type": "code",
      "source": [
        "pca_trained = pca_2.fit_transform(X_train)"
      ],
      "metadata": {
        "id": "b5hmL7nITadJ"
      },
      "id": "b5hmL7nITadJ",
      "execution_count": 316,
      "outputs": []
    },
    {
      "cell_type": "code",
      "source": [
        "pca_trained.shape"
      ],
      "metadata": {
        "colab": {
          "base_uri": "https://localhost:8080/"
        },
        "id": "vbviePqaUzfj",
        "outputId": "09c6cfb8-bf00-41e6-89bb-b4cdd6e57eb4"
      },
      "id": "vbviePqaUzfj",
      "execution_count": 317,
      "outputs": [
        {
          "output_type": "execute_result",
          "data": {
            "text/plain": [
              "(43326, 49)"
            ]
          },
          "metadata": {},
          "execution_count": 317
        }
      ]
    },
    {
      "cell_type": "code",
      "source": [
        "from sklearn.linear_model import LogisticRegression"
      ],
      "metadata": {
        "id": "WoBt5JgDVBrV"
      },
      "id": "WoBt5JgDVBrV",
      "execution_count": 318,
      "outputs": []
    },
    {
      "cell_type": "code",
      "source": [
        "log_reg = LogisticRegression()"
      ],
      "metadata": {
        "id": "TnytfxXDVZog"
      },
      "id": "TnytfxXDVZog",
      "execution_count": 319,
      "outputs": []
    },
    {
      "cell_type": "code",
      "source": [
        "model = log_reg.fit(pca_trained, y_train)"
      ],
      "metadata": {
        "id": "NQNUAoqMVcq-"
      },
      "id": "NQNUAoqMVcq-",
      "execution_count": 320,
      "outputs": []
    },
    {
      "cell_type": "code",
      "source": [
        "pca_test = pca_2.transform(X_test)"
      ],
      "metadata": {
        "id": "Li2Qt1EdbJfU"
      },
      "id": "Li2Qt1EdbJfU",
      "execution_count": 321,
      "outputs": []
    },
    {
      "cell_type": "code",
      "source": [
        "pred = model.predict_proba(pca_test)"
      ],
      "metadata": {
        "id": "CobOUz6hVnpL"
      },
      "id": "CobOUz6hVnpL",
      "execution_count": 322,
      "outputs": []
    },
    {
      "cell_type": "code",
      "source": [
        "pred_df = pd.DataFrame(pred)"
      ],
      "metadata": {
        "id": "LQ9uSAw8c-Ts"
      },
      "id": "LQ9uSAw8c-Ts",
      "execution_count": 323,
      "outputs": []
    },
    {
      "cell_type": "code",
      "source": [
        "pred_1 = pred_df.iloc[:,[1]]\n",
        "pred_1.head()"
      ],
      "metadata": {
        "colab": {
          "base_uri": "https://localhost:8080/",
          "height": 206
        },
        "id": "w6gyLs_CdeR6",
        "outputId": "20660d5f-21ad-40ec-9fc3-152146099331"
      },
      "id": "w6gyLs_CdeR6",
      "execution_count": 324,
      "outputs": [
        {
          "output_type": "execute_result",
          "data": {
            "text/plain": [
              "          1\n",
              "0  0.128557\n",
              "1  0.003253\n",
              "2  0.126756\n",
              "3  0.136705\n",
              "4  0.006789"
            ],
            "text/html": [
              "\n",
              "  <div id=\"df-f19ed15b-fde7-47de-84d8-fbad7ce04168\" class=\"colab-df-container\">\n",
              "    <div>\n",
              "<style scoped>\n",
              "    .dataframe tbody tr th:only-of-type {\n",
              "        vertical-align: middle;\n",
              "    }\n",
              "\n",
              "    .dataframe tbody tr th {\n",
              "        vertical-align: top;\n",
              "    }\n",
              "\n",
              "    .dataframe thead th {\n",
              "        text-align: right;\n",
              "    }\n",
              "</style>\n",
              "<table border=\"1\" class=\"dataframe\">\n",
              "  <thead>\n",
              "    <tr style=\"text-align: right;\">\n",
              "      <th></th>\n",
              "      <th>1</th>\n",
              "    </tr>\n",
              "  </thead>\n",
              "  <tbody>\n",
              "    <tr>\n",
              "      <th>0</th>\n",
              "      <td>0.128557</td>\n",
              "    </tr>\n",
              "    <tr>\n",
              "      <th>1</th>\n",
              "      <td>0.003253</td>\n",
              "    </tr>\n",
              "    <tr>\n",
              "      <th>2</th>\n",
              "      <td>0.126756</td>\n",
              "    </tr>\n",
              "    <tr>\n",
              "      <th>3</th>\n",
              "      <td>0.136705</td>\n",
              "    </tr>\n",
              "    <tr>\n",
              "      <th>4</th>\n",
              "      <td>0.006789</td>\n",
              "    </tr>\n",
              "  </tbody>\n",
              "</table>\n",
              "</div>\n",
              "    <div class=\"colab-df-buttons\">\n",
              "\n",
              "  <div class=\"colab-df-container\">\n",
              "    <button class=\"colab-df-convert\" onclick=\"convertToInteractive('df-f19ed15b-fde7-47de-84d8-fbad7ce04168')\"\n",
              "            title=\"Convert this dataframe to an interactive table.\"\n",
              "            style=\"display:none;\">\n",
              "\n",
              "  <svg xmlns=\"http://www.w3.org/2000/svg\" height=\"24px\" viewBox=\"0 -960 960 960\">\n",
              "    <path d=\"M120-120v-720h720v720H120Zm60-500h600v-160H180v160Zm220 220h160v-160H400v160Zm0 220h160v-160H400v160ZM180-400h160v-160H180v160Zm440 0h160v-160H620v160ZM180-180h160v-160H180v160Zm440 0h160v-160H620v160Z\"/>\n",
              "  </svg>\n",
              "    </button>\n",
              "\n",
              "  <style>\n",
              "    .colab-df-container {\n",
              "      display:flex;\n",
              "      gap: 12px;\n",
              "    }\n",
              "\n",
              "    .colab-df-convert {\n",
              "      background-color: #E8F0FE;\n",
              "      border: none;\n",
              "      border-radius: 50%;\n",
              "      cursor: pointer;\n",
              "      display: none;\n",
              "      fill: #1967D2;\n",
              "      height: 32px;\n",
              "      padding: 0 0 0 0;\n",
              "      width: 32px;\n",
              "    }\n",
              "\n",
              "    .colab-df-convert:hover {\n",
              "      background-color: #E2EBFA;\n",
              "      box-shadow: 0px 1px 2px rgba(60, 64, 67, 0.3), 0px 1px 3px 1px rgba(60, 64, 67, 0.15);\n",
              "      fill: #174EA6;\n",
              "    }\n",
              "\n",
              "    .colab-df-buttons div {\n",
              "      margin-bottom: 4px;\n",
              "    }\n",
              "\n",
              "    [theme=dark] .colab-df-convert {\n",
              "      background-color: #3B4455;\n",
              "      fill: #D2E3FC;\n",
              "    }\n",
              "\n",
              "    [theme=dark] .colab-df-convert:hover {\n",
              "      background-color: #434B5C;\n",
              "      box-shadow: 0px 1px 3px 1px rgba(0, 0, 0, 0.15);\n",
              "      filter: drop-shadow(0px 1px 2px rgba(0, 0, 0, 0.3));\n",
              "      fill: #FFFFFF;\n",
              "    }\n",
              "  </style>\n",
              "\n",
              "    <script>\n",
              "      const buttonEl =\n",
              "        document.querySelector('#df-f19ed15b-fde7-47de-84d8-fbad7ce04168 button.colab-df-convert');\n",
              "      buttonEl.style.display =\n",
              "        google.colab.kernel.accessAllowed ? 'block' : 'none';\n",
              "\n",
              "      async function convertToInteractive(key) {\n",
              "        const element = document.querySelector('#df-f19ed15b-fde7-47de-84d8-fbad7ce04168');\n",
              "        const dataTable =\n",
              "          await google.colab.kernel.invokeFunction('convertToInteractive',\n",
              "                                                    [key], {});\n",
              "        if (!dataTable) return;\n",
              "\n",
              "        const docLinkHtml = 'Like what you see? Visit the ' +\n",
              "          '<a target=\"_blank\" href=https://colab.research.google.com/notebooks/data_table.ipynb>data table notebook</a>'\n",
              "          + ' to learn more about interactive tables.';\n",
              "        element.innerHTML = '';\n",
              "        dataTable['output_type'] = 'display_data';\n",
              "        await google.colab.output.renderOutput(dataTable, element);\n",
              "        const docLink = document.createElement('div');\n",
              "        docLink.innerHTML = docLinkHtml;\n",
              "        element.appendChild(docLink);\n",
              "      }\n",
              "    </script>\n",
              "  </div>\n",
              "\n",
              "\n",
              "<div id=\"df-0533bf14-2a9c-4360-a489-f49e62a2de4f\">\n",
              "  <button class=\"colab-df-quickchart\" onclick=\"quickchart('df-0533bf14-2a9c-4360-a489-f49e62a2de4f')\"\n",
              "            title=\"Suggest charts.\"\n",
              "            style=\"display:none;\">\n",
              "\n",
              "<svg xmlns=\"http://www.w3.org/2000/svg\" height=\"24px\"viewBox=\"0 0 24 24\"\n",
              "     width=\"24px\">\n",
              "    <g>\n",
              "        <path d=\"M19 3H5c-1.1 0-2 .9-2 2v14c0 1.1.9 2 2 2h14c1.1 0 2-.9 2-2V5c0-1.1-.9-2-2-2zM9 17H7v-7h2v7zm4 0h-2V7h2v10zm4 0h-2v-4h2v4z\"/>\n",
              "    </g>\n",
              "</svg>\n",
              "  </button>\n",
              "\n",
              "<style>\n",
              "  .colab-df-quickchart {\n",
              "      --bg-color: #E8F0FE;\n",
              "      --fill-color: #1967D2;\n",
              "      --hover-bg-color: #E2EBFA;\n",
              "      --hover-fill-color: #174EA6;\n",
              "      --disabled-fill-color: #AAA;\n",
              "      --disabled-bg-color: #DDD;\n",
              "  }\n",
              "\n",
              "  [theme=dark] .colab-df-quickchart {\n",
              "      --bg-color: #3B4455;\n",
              "      --fill-color: #D2E3FC;\n",
              "      --hover-bg-color: #434B5C;\n",
              "      --hover-fill-color: #FFFFFF;\n",
              "      --disabled-bg-color: #3B4455;\n",
              "      --disabled-fill-color: #666;\n",
              "  }\n",
              "\n",
              "  .colab-df-quickchart {\n",
              "    background-color: var(--bg-color);\n",
              "    border: none;\n",
              "    border-radius: 50%;\n",
              "    cursor: pointer;\n",
              "    display: none;\n",
              "    fill: var(--fill-color);\n",
              "    height: 32px;\n",
              "    padding: 0;\n",
              "    width: 32px;\n",
              "  }\n",
              "\n",
              "  .colab-df-quickchart:hover {\n",
              "    background-color: var(--hover-bg-color);\n",
              "    box-shadow: 0 1px 2px rgba(60, 64, 67, 0.3), 0 1px 3px 1px rgba(60, 64, 67, 0.15);\n",
              "    fill: var(--button-hover-fill-color);\n",
              "  }\n",
              "\n",
              "  .colab-df-quickchart-complete:disabled,\n",
              "  .colab-df-quickchart-complete:disabled:hover {\n",
              "    background-color: var(--disabled-bg-color);\n",
              "    fill: var(--disabled-fill-color);\n",
              "    box-shadow: none;\n",
              "  }\n",
              "\n",
              "  .colab-df-spinner {\n",
              "    border: 2px solid var(--fill-color);\n",
              "    border-color: transparent;\n",
              "    border-bottom-color: var(--fill-color);\n",
              "    animation:\n",
              "      spin 1s steps(1) infinite;\n",
              "  }\n",
              "\n",
              "  @keyframes spin {\n",
              "    0% {\n",
              "      border-color: transparent;\n",
              "      border-bottom-color: var(--fill-color);\n",
              "      border-left-color: var(--fill-color);\n",
              "    }\n",
              "    20% {\n",
              "      border-color: transparent;\n",
              "      border-left-color: var(--fill-color);\n",
              "      border-top-color: var(--fill-color);\n",
              "    }\n",
              "    30% {\n",
              "      border-color: transparent;\n",
              "      border-left-color: var(--fill-color);\n",
              "      border-top-color: var(--fill-color);\n",
              "      border-right-color: var(--fill-color);\n",
              "    }\n",
              "    40% {\n",
              "      border-color: transparent;\n",
              "      border-right-color: var(--fill-color);\n",
              "      border-top-color: var(--fill-color);\n",
              "    }\n",
              "    60% {\n",
              "      border-color: transparent;\n",
              "      border-right-color: var(--fill-color);\n",
              "    }\n",
              "    80% {\n",
              "      border-color: transparent;\n",
              "      border-right-color: var(--fill-color);\n",
              "      border-bottom-color: var(--fill-color);\n",
              "    }\n",
              "    90% {\n",
              "      border-color: transparent;\n",
              "      border-bottom-color: var(--fill-color);\n",
              "    }\n",
              "  }\n",
              "</style>\n",
              "\n",
              "  <script>\n",
              "    async function quickchart(key) {\n",
              "      const quickchartButtonEl =\n",
              "        document.querySelector('#' + key + ' button');\n",
              "      quickchartButtonEl.disabled = true;  // To prevent multiple clicks.\n",
              "      quickchartButtonEl.classList.add('colab-df-spinner');\n",
              "      try {\n",
              "        const charts = await google.colab.kernel.invokeFunction(\n",
              "            'suggestCharts', [key], {});\n",
              "      } catch (error) {\n",
              "        console.error('Error during call to suggestCharts:', error);\n",
              "      }\n",
              "      quickchartButtonEl.classList.remove('colab-df-spinner');\n",
              "      quickchartButtonEl.classList.add('colab-df-quickchart-complete');\n",
              "    }\n",
              "    (() => {\n",
              "      let quickchartButtonEl =\n",
              "        document.querySelector('#df-0533bf14-2a9c-4360-a489-f49e62a2de4f button');\n",
              "      quickchartButtonEl.style.display =\n",
              "        google.colab.kernel.accessAllowed ? 'block' : 'none';\n",
              "    })();\n",
              "  </script>\n",
              "</div>\n",
              "    </div>\n",
              "  </div>\n"
            ]
          },
          "metadata": {},
          "execution_count": 324
        }
      ]
    },
    {
      "cell_type": "code",
      "source": [
        "y_test_df = pd.DataFrame(y_test)\n",
        "y_test_df.head()"
      ],
      "metadata": {
        "colab": {
          "base_uri": "https://localhost:8080/",
          "height": 206
        },
        "id": "UdDvjYz9dwzU",
        "outputId": "0affb0f3-0689-4c85-e43a-8a0c174bf2f9"
      },
      "id": "UdDvjYz9dwzU",
      "execution_count": 325,
      "outputs": [
        {
          "output_type": "execute_result",
          "data": {
            "text/plain": [
              "       churn_probability\n",
              "31014                  0\n",
              "17452                  0\n",
              "29504                  0\n",
              "27913                  0\n",
              "66586                  0"
            ],
            "text/html": [
              "\n",
              "  <div id=\"df-9963f1b9-0fa1-4d4f-bab7-1074704edf55\" class=\"colab-df-container\">\n",
              "    <div>\n",
              "<style scoped>\n",
              "    .dataframe tbody tr th:only-of-type {\n",
              "        vertical-align: middle;\n",
              "    }\n",
              "\n",
              "    .dataframe tbody tr th {\n",
              "        vertical-align: top;\n",
              "    }\n",
              "\n",
              "    .dataframe thead th {\n",
              "        text-align: right;\n",
              "    }\n",
              "</style>\n",
              "<table border=\"1\" class=\"dataframe\">\n",
              "  <thead>\n",
              "    <tr style=\"text-align: right;\">\n",
              "      <th></th>\n",
              "      <th>churn_probability</th>\n",
              "    </tr>\n",
              "  </thead>\n",
              "  <tbody>\n",
              "    <tr>\n",
              "      <th>31014</th>\n",
              "      <td>0</td>\n",
              "    </tr>\n",
              "    <tr>\n",
              "      <th>17452</th>\n",
              "      <td>0</td>\n",
              "    </tr>\n",
              "    <tr>\n",
              "      <th>29504</th>\n",
              "      <td>0</td>\n",
              "    </tr>\n",
              "    <tr>\n",
              "      <th>27913</th>\n",
              "      <td>0</td>\n",
              "    </tr>\n",
              "    <tr>\n",
              "      <th>66586</th>\n",
              "      <td>0</td>\n",
              "    </tr>\n",
              "  </tbody>\n",
              "</table>\n",
              "</div>\n",
              "    <div class=\"colab-df-buttons\">\n",
              "\n",
              "  <div class=\"colab-df-container\">\n",
              "    <button class=\"colab-df-convert\" onclick=\"convertToInteractive('df-9963f1b9-0fa1-4d4f-bab7-1074704edf55')\"\n",
              "            title=\"Convert this dataframe to an interactive table.\"\n",
              "            style=\"display:none;\">\n",
              "\n",
              "  <svg xmlns=\"http://www.w3.org/2000/svg\" height=\"24px\" viewBox=\"0 -960 960 960\">\n",
              "    <path d=\"M120-120v-720h720v720H120Zm60-500h600v-160H180v160Zm220 220h160v-160H400v160Zm0 220h160v-160H400v160ZM180-400h160v-160H180v160Zm440 0h160v-160H620v160ZM180-180h160v-160H180v160Zm440 0h160v-160H620v160Z\"/>\n",
              "  </svg>\n",
              "    </button>\n",
              "\n",
              "  <style>\n",
              "    .colab-df-container {\n",
              "      display:flex;\n",
              "      gap: 12px;\n",
              "    }\n",
              "\n",
              "    .colab-df-convert {\n",
              "      background-color: #E8F0FE;\n",
              "      border: none;\n",
              "      border-radius: 50%;\n",
              "      cursor: pointer;\n",
              "      display: none;\n",
              "      fill: #1967D2;\n",
              "      height: 32px;\n",
              "      padding: 0 0 0 0;\n",
              "      width: 32px;\n",
              "    }\n",
              "\n",
              "    .colab-df-convert:hover {\n",
              "      background-color: #E2EBFA;\n",
              "      box-shadow: 0px 1px 2px rgba(60, 64, 67, 0.3), 0px 1px 3px 1px rgba(60, 64, 67, 0.15);\n",
              "      fill: #174EA6;\n",
              "    }\n",
              "\n",
              "    .colab-df-buttons div {\n",
              "      margin-bottom: 4px;\n",
              "    }\n",
              "\n",
              "    [theme=dark] .colab-df-convert {\n",
              "      background-color: #3B4455;\n",
              "      fill: #D2E3FC;\n",
              "    }\n",
              "\n",
              "    [theme=dark] .colab-df-convert:hover {\n",
              "      background-color: #434B5C;\n",
              "      box-shadow: 0px 1px 3px 1px rgba(0, 0, 0, 0.15);\n",
              "      filter: drop-shadow(0px 1px 2px rgba(0, 0, 0, 0.3));\n",
              "      fill: #FFFFFF;\n",
              "    }\n",
              "  </style>\n",
              "\n",
              "    <script>\n",
              "      const buttonEl =\n",
              "        document.querySelector('#df-9963f1b9-0fa1-4d4f-bab7-1074704edf55 button.colab-df-convert');\n",
              "      buttonEl.style.display =\n",
              "        google.colab.kernel.accessAllowed ? 'block' : 'none';\n",
              "\n",
              "      async function convertToInteractive(key) {\n",
              "        const element = document.querySelector('#df-9963f1b9-0fa1-4d4f-bab7-1074704edf55');\n",
              "        const dataTable =\n",
              "          await google.colab.kernel.invokeFunction('convertToInteractive',\n",
              "                                                    [key], {});\n",
              "        if (!dataTable) return;\n",
              "\n",
              "        const docLinkHtml = 'Like what you see? Visit the ' +\n",
              "          '<a target=\"_blank\" href=https://colab.research.google.com/notebooks/data_table.ipynb>data table notebook</a>'\n",
              "          + ' to learn more about interactive tables.';\n",
              "        element.innerHTML = '';\n",
              "        dataTable['output_type'] = 'display_data';\n",
              "        await google.colab.output.renderOutput(dataTable, element);\n",
              "        const docLink = document.createElement('div');\n",
              "        docLink.innerHTML = docLinkHtml;\n",
              "        element.appendChild(docLink);\n",
              "      }\n",
              "    </script>\n",
              "  </div>\n",
              "\n",
              "\n",
              "<div id=\"df-607a67ee-cdeb-4b88-b9b8-7f370a1a0518\">\n",
              "  <button class=\"colab-df-quickchart\" onclick=\"quickchart('df-607a67ee-cdeb-4b88-b9b8-7f370a1a0518')\"\n",
              "            title=\"Suggest charts.\"\n",
              "            style=\"display:none;\">\n",
              "\n",
              "<svg xmlns=\"http://www.w3.org/2000/svg\" height=\"24px\"viewBox=\"0 0 24 24\"\n",
              "     width=\"24px\">\n",
              "    <g>\n",
              "        <path d=\"M19 3H5c-1.1 0-2 .9-2 2v14c0 1.1.9 2 2 2h14c1.1 0 2-.9 2-2V5c0-1.1-.9-2-2-2zM9 17H7v-7h2v7zm4 0h-2V7h2v10zm4 0h-2v-4h2v4z\"/>\n",
              "    </g>\n",
              "</svg>\n",
              "  </button>\n",
              "\n",
              "<style>\n",
              "  .colab-df-quickchart {\n",
              "      --bg-color: #E8F0FE;\n",
              "      --fill-color: #1967D2;\n",
              "      --hover-bg-color: #E2EBFA;\n",
              "      --hover-fill-color: #174EA6;\n",
              "      --disabled-fill-color: #AAA;\n",
              "      --disabled-bg-color: #DDD;\n",
              "  }\n",
              "\n",
              "  [theme=dark] .colab-df-quickchart {\n",
              "      --bg-color: #3B4455;\n",
              "      --fill-color: #D2E3FC;\n",
              "      --hover-bg-color: #434B5C;\n",
              "      --hover-fill-color: #FFFFFF;\n",
              "      --disabled-bg-color: #3B4455;\n",
              "      --disabled-fill-color: #666;\n",
              "  }\n",
              "\n",
              "  .colab-df-quickchart {\n",
              "    background-color: var(--bg-color);\n",
              "    border: none;\n",
              "    border-radius: 50%;\n",
              "    cursor: pointer;\n",
              "    display: none;\n",
              "    fill: var(--fill-color);\n",
              "    height: 32px;\n",
              "    padding: 0;\n",
              "    width: 32px;\n",
              "  }\n",
              "\n",
              "  .colab-df-quickchart:hover {\n",
              "    background-color: var(--hover-bg-color);\n",
              "    box-shadow: 0 1px 2px rgba(60, 64, 67, 0.3), 0 1px 3px 1px rgba(60, 64, 67, 0.15);\n",
              "    fill: var(--button-hover-fill-color);\n",
              "  }\n",
              "\n",
              "  .colab-df-quickchart-complete:disabled,\n",
              "  .colab-df-quickchart-complete:disabled:hover {\n",
              "    background-color: var(--disabled-bg-color);\n",
              "    fill: var(--disabled-fill-color);\n",
              "    box-shadow: none;\n",
              "  }\n",
              "\n",
              "  .colab-df-spinner {\n",
              "    border: 2px solid var(--fill-color);\n",
              "    border-color: transparent;\n",
              "    border-bottom-color: var(--fill-color);\n",
              "    animation:\n",
              "      spin 1s steps(1) infinite;\n",
              "  }\n",
              "\n",
              "  @keyframes spin {\n",
              "    0% {\n",
              "      border-color: transparent;\n",
              "      border-bottom-color: var(--fill-color);\n",
              "      border-left-color: var(--fill-color);\n",
              "    }\n",
              "    20% {\n",
              "      border-color: transparent;\n",
              "      border-left-color: var(--fill-color);\n",
              "      border-top-color: var(--fill-color);\n",
              "    }\n",
              "    30% {\n",
              "      border-color: transparent;\n",
              "      border-left-color: var(--fill-color);\n",
              "      border-top-color: var(--fill-color);\n",
              "      border-right-color: var(--fill-color);\n",
              "    }\n",
              "    40% {\n",
              "      border-color: transparent;\n",
              "      border-right-color: var(--fill-color);\n",
              "      border-top-color: var(--fill-color);\n",
              "    }\n",
              "    60% {\n",
              "      border-color: transparent;\n",
              "      border-right-color: var(--fill-color);\n",
              "    }\n",
              "    80% {\n",
              "      border-color: transparent;\n",
              "      border-right-color: var(--fill-color);\n",
              "      border-bottom-color: var(--fill-color);\n",
              "    }\n",
              "    90% {\n",
              "      border-color: transparent;\n",
              "      border-bottom-color: var(--fill-color);\n",
              "    }\n",
              "  }\n",
              "</style>\n",
              "\n",
              "  <script>\n",
              "    async function quickchart(key) {\n",
              "      const quickchartButtonEl =\n",
              "        document.querySelector('#' + key + ' button');\n",
              "      quickchartButtonEl.disabled = true;  // To prevent multiple clicks.\n",
              "      quickchartButtonEl.classList.add('colab-df-spinner');\n",
              "      try {\n",
              "        const charts = await google.colab.kernel.invokeFunction(\n",
              "            'suggestCharts', [key], {});\n",
              "      } catch (error) {\n",
              "        console.error('Error during call to suggestCharts:', error);\n",
              "      }\n",
              "      quickchartButtonEl.classList.remove('colab-df-spinner');\n",
              "      quickchartButtonEl.classList.add('colab-df-quickchart-complete');\n",
              "    }\n",
              "    (() => {\n",
              "      let quickchartButtonEl =\n",
              "        document.querySelector('#df-607a67ee-cdeb-4b88-b9b8-7f370a1a0518 button');\n",
              "      quickchartButtonEl.style.display =\n",
              "        google.colab.kernel.accessAllowed ? 'block' : 'none';\n",
              "    })();\n",
              "  </script>\n",
              "</div>\n",
              "    </div>\n",
              "  </div>\n"
            ]
          },
          "metadata": {},
          "execution_count": 325
        }
      ]
    },
    {
      "cell_type": "code",
      "source": [
        "from sklearn import metrics"
      ],
      "metadata": {
        "id": "-YOnNj5RcIXC"
      },
      "id": "-YOnNj5RcIXC",
      "execution_count": 326,
      "outputs": []
    },
    {
      "cell_type": "code",
      "source": [
        "metrics.roc_auc_score(y_test_df, pred_1)"
      ],
      "metadata": {
        "colab": {
          "base_uri": "https://localhost:8080/"
        },
        "id": "lL57dbzobBj8",
        "outputId": "ac304ee4-868c-442e-80ce-d7aad00a8274"
      },
      "id": "lL57dbzobBj8",
      "execution_count": 327,
      "outputs": [
        {
          "output_type": "execute_result",
          "data": {
            "text/plain": [
              "0.8412528934838368"
            ]
          },
          "metadata": {},
          "execution_count": 327
        }
      ]
    },
    {
      "cell_type": "code",
      "source": [
        "upload_2 = files.upload()"
      ],
      "metadata": {
        "colab": {
          "base_uri": "https://localhost:8080/",
          "height": 73
        },
        "id": "6-l0m7Jxb6S9",
        "outputId": "2697acc0-f725-4c56-a6a1-bc787f09beb9"
      },
      "id": "6-l0m7Jxb6S9",
      "execution_count": 334,
      "outputs": [
        {
          "output_type": "display_data",
          "data": {
            "text/plain": [
              "<IPython.core.display.HTML object>"
            ],
            "text/html": [
              "\n",
              "     <input type=\"file\" id=\"files-fc882c79-0940-43fc-a13f-9d1c8274dd02\" name=\"files[]\" multiple disabled\n",
              "        style=\"border:none\" />\n",
              "     <output id=\"result-fc882c79-0940-43fc-a13f-9d1c8274dd02\">\n",
              "      Upload widget is only available when the cell has been executed in the\n",
              "      current browser session. Please rerun this cell to enable.\n",
              "      </output>\n",
              "      <script>// Copyright 2017 Google LLC\n",
              "//\n",
              "// Licensed under the Apache License, Version 2.0 (the \"License\");\n",
              "// you may not use this file except in compliance with the License.\n",
              "// You may obtain a copy of the License at\n",
              "//\n",
              "//      http://www.apache.org/licenses/LICENSE-2.0\n",
              "//\n",
              "// Unless required by applicable law or agreed to in writing, software\n",
              "// distributed under the License is distributed on an \"AS IS\" BASIS,\n",
              "// WITHOUT WARRANTIES OR CONDITIONS OF ANY KIND, either express or implied.\n",
              "// See the License for the specific language governing permissions and\n",
              "// limitations under the License.\n",
              "\n",
              "/**\n",
              " * @fileoverview Helpers for google.colab Python module.\n",
              " */\n",
              "(function(scope) {\n",
              "function span(text, styleAttributes = {}) {\n",
              "  const element = document.createElement('span');\n",
              "  element.textContent = text;\n",
              "  for (const key of Object.keys(styleAttributes)) {\n",
              "    element.style[key] = styleAttributes[key];\n",
              "  }\n",
              "  return element;\n",
              "}\n",
              "\n",
              "// Max number of bytes which will be uploaded at a time.\n",
              "const MAX_PAYLOAD_SIZE = 100 * 1024;\n",
              "\n",
              "function _uploadFiles(inputId, outputId) {\n",
              "  const steps = uploadFilesStep(inputId, outputId);\n",
              "  const outputElement = document.getElementById(outputId);\n",
              "  // Cache steps on the outputElement to make it available for the next call\n",
              "  // to uploadFilesContinue from Python.\n",
              "  outputElement.steps = steps;\n",
              "\n",
              "  return _uploadFilesContinue(outputId);\n",
              "}\n",
              "\n",
              "// This is roughly an async generator (not supported in the browser yet),\n",
              "// where there are multiple asynchronous steps and the Python side is going\n",
              "// to poll for completion of each step.\n",
              "// This uses a Promise to block the python side on completion of each step,\n",
              "// then passes the result of the previous step as the input to the next step.\n",
              "function _uploadFilesContinue(outputId) {\n",
              "  const outputElement = document.getElementById(outputId);\n",
              "  const steps = outputElement.steps;\n",
              "\n",
              "  const next = steps.next(outputElement.lastPromiseValue);\n",
              "  return Promise.resolve(next.value.promise).then((value) => {\n",
              "    // Cache the last promise value to make it available to the next\n",
              "    // step of the generator.\n",
              "    outputElement.lastPromiseValue = value;\n",
              "    return next.value.response;\n",
              "  });\n",
              "}\n",
              "\n",
              "/**\n",
              " * Generator function which is called between each async step of the upload\n",
              " * process.\n",
              " * @param {string} inputId Element ID of the input file picker element.\n",
              " * @param {string} outputId Element ID of the output display.\n",
              " * @return {!Iterable<!Object>} Iterable of next steps.\n",
              " */\n",
              "function* uploadFilesStep(inputId, outputId) {\n",
              "  const inputElement = document.getElementById(inputId);\n",
              "  inputElement.disabled = false;\n",
              "\n",
              "  const outputElement = document.getElementById(outputId);\n",
              "  outputElement.innerHTML = '';\n",
              "\n",
              "  const pickedPromise = new Promise((resolve) => {\n",
              "    inputElement.addEventListener('change', (e) => {\n",
              "      resolve(e.target.files);\n",
              "    });\n",
              "  });\n",
              "\n",
              "  const cancel = document.createElement('button');\n",
              "  inputElement.parentElement.appendChild(cancel);\n",
              "  cancel.textContent = 'Cancel upload';\n",
              "  const cancelPromise = new Promise((resolve) => {\n",
              "    cancel.onclick = () => {\n",
              "      resolve(null);\n",
              "    };\n",
              "  });\n",
              "\n",
              "  // Wait for the user to pick the files.\n",
              "  const files = yield {\n",
              "    promise: Promise.race([pickedPromise, cancelPromise]),\n",
              "    response: {\n",
              "      action: 'starting',\n",
              "    }\n",
              "  };\n",
              "\n",
              "  cancel.remove();\n",
              "\n",
              "  // Disable the input element since further picks are not allowed.\n",
              "  inputElement.disabled = true;\n",
              "\n",
              "  if (!files) {\n",
              "    return {\n",
              "      response: {\n",
              "        action: 'complete',\n",
              "      }\n",
              "    };\n",
              "  }\n",
              "\n",
              "  for (const file of files) {\n",
              "    const li = document.createElement('li');\n",
              "    li.append(span(file.name, {fontWeight: 'bold'}));\n",
              "    li.append(span(\n",
              "        `(${file.type || 'n/a'}) - ${file.size} bytes, ` +\n",
              "        `last modified: ${\n",
              "            file.lastModifiedDate ? file.lastModifiedDate.toLocaleDateString() :\n",
              "                                    'n/a'} - `));\n",
              "    const percent = span('0% done');\n",
              "    li.appendChild(percent);\n",
              "\n",
              "    outputElement.appendChild(li);\n",
              "\n",
              "    const fileDataPromise = new Promise((resolve) => {\n",
              "      const reader = new FileReader();\n",
              "      reader.onload = (e) => {\n",
              "        resolve(e.target.result);\n",
              "      };\n",
              "      reader.readAsArrayBuffer(file);\n",
              "    });\n",
              "    // Wait for the data to be ready.\n",
              "    let fileData = yield {\n",
              "      promise: fileDataPromise,\n",
              "      response: {\n",
              "        action: 'continue',\n",
              "      }\n",
              "    };\n",
              "\n",
              "    // Use a chunked sending to avoid message size limits. See b/62115660.\n",
              "    let position = 0;\n",
              "    do {\n",
              "      const length = Math.min(fileData.byteLength - position, MAX_PAYLOAD_SIZE);\n",
              "      const chunk = new Uint8Array(fileData, position, length);\n",
              "      position += length;\n",
              "\n",
              "      const base64 = btoa(String.fromCharCode.apply(null, chunk));\n",
              "      yield {\n",
              "        response: {\n",
              "          action: 'append',\n",
              "          file: file.name,\n",
              "          data: base64,\n",
              "        },\n",
              "      };\n",
              "\n",
              "      let percentDone = fileData.byteLength === 0 ?\n",
              "          100 :\n",
              "          Math.round((position / fileData.byteLength) * 100);\n",
              "      percent.textContent = `${percentDone}% done`;\n",
              "\n",
              "    } while (position < fileData.byteLength);\n",
              "  }\n",
              "\n",
              "  // All done.\n",
              "  yield {\n",
              "    response: {\n",
              "      action: 'complete',\n",
              "    }\n",
              "  };\n",
              "}\n",
              "\n",
              "scope.google = scope.google || {};\n",
              "scope.google.colab = scope.google.colab || {};\n",
              "scope.google.colab._files = {\n",
              "  _uploadFiles,\n",
              "  _uploadFilesContinue,\n",
              "};\n",
              "})(self);\n",
              "</script> "
            ]
          },
          "metadata": {}
        },
        {
          "output_type": "stream",
          "name": "stdout",
          "text": [
            "Saving test.csv to test (1).csv\n"
          ]
        }
      ]
    },
    {
      "cell_type": "code",
      "source": [
        "df_test = pd.read_csv('test.csv')\n",
        "df_test.head()"
      ],
      "metadata": {
        "colab": {
          "base_uri": "https://localhost:8080/",
          "height": 255
        },
        "id": "w6cIl_HKeID4",
        "outputId": "394ee33b-0b55-4f05-b45f-ceb9cbdad459"
      },
      "id": "w6cIl_HKeID4",
      "execution_count": 335,
      "outputs": [
        {
          "output_type": "execute_result",
          "data": {
            "text/plain": [
              "      id  circle_id  loc_og_t2o_mou  std_og_t2o_mou  loc_ic_t2o_mou  \\\n",
              "0  69999        109             0.0             0.0             0.0   \n",
              "1  70000        109             0.0             0.0             0.0   \n",
              "2  70001        109             0.0             0.0             0.0   \n",
              "3  70002        109             0.0             0.0             0.0   \n",
              "4  70003        109             0.0             0.0             0.0   \n",
              "\n",
              "  last_date_of_month_6 last_date_of_month_7 last_date_of_month_8   arpu_6  \\\n",
              "0            6/30/2014            7/31/2014            8/31/2014   91.882   \n",
              "1            6/30/2014            7/31/2014            8/31/2014  414.168   \n",
              "2            6/30/2014            7/31/2014            8/31/2014  329.844   \n",
              "3            6/30/2014            7/31/2014            8/31/2014   43.550   \n",
              "4            6/30/2014            7/31/2014            8/31/2014  306.854   \n",
              "\n",
              "    arpu_7  ...  sachet_3g_6  sachet_3g_7  sachet_3g_8  fb_user_6  fb_user_7  \\\n",
              "0   65.330  ...            0            0            0        NaN        NaN   \n",
              "1  515.568  ...            0            0            0        NaN        NaN   \n",
              "2  434.884  ...            0            0            0        NaN        NaN   \n",
              "3  171.390  ...            0            0            0        NaN        NaN   \n",
              "4  406.289  ...            0            0            0        NaN        NaN   \n",
              "\n",
              "   fb_user_8   aon  aug_vbc_3g  jul_vbc_3g  jun_vbc_3g  \n",
              "0        NaN  1692        0.00        0.00        0.00  \n",
              "1        NaN  2533        0.00        0.00        0.00  \n",
              "2        NaN   277      525.61      758.41      241.84  \n",
              "3        NaN  1244        0.00        0.00        0.00  \n",
              "4        NaN   462        0.00        0.00        0.00  \n",
              "\n",
              "[5 rows x 171 columns]"
            ],
            "text/html": [
              "\n",
              "  <div id=\"df-bffd7eb3-6e82-43be-a1c8-63dd42e40433\" class=\"colab-df-container\">\n",
              "    <div>\n",
              "<style scoped>\n",
              "    .dataframe tbody tr th:only-of-type {\n",
              "        vertical-align: middle;\n",
              "    }\n",
              "\n",
              "    .dataframe tbody tr th {\n",
              "        vertical-align: top;\n",
              "    }\n",
              "\n",
              "    .dataframe thead th {\n",
              "        text-align: right;\n",
              "    }\n",
              "</style>\n",
              "<table border=\"1\" class=\"dataframe\">\n",
              "  <thead>\n",
              "    <tr style=\"text-align: right;\">\n",
              "      <th></th>\n",
              "      <th>id</th>\n",
              "      <th>circle_id</th>\n",
              "      <th>loc_og_t2o_mou</th>\n",
              "      <th>std_og_t2o_mou</th>\n",
              "      <th>loc_ic_t2o_mou</th>\n",
              "      <th>last_date_of_month_6</th>\n",
              "      <th>last_date_of_month_7</th>\n",
              "      <th>last_date_of_month_8</th>\n",
              "      <th>arpu_6</th>\n",
              "      <th>arpu_7</th>\n",
              "      <th>...</th>\n",
              "      <th>sachet_3g_6</th>\n",
              "      <th>sachet_3g_7</th>\n",
              "      <th>sachet_3g_8</th>\n",
              "      <th>fb_user_6</th>\n",
              "      <th>fb_user_7</th>\n",
              "      <th>fb_user_8</th>\n",
              "      <th>aon</th>\n",
              "      <th>aug_vbc_3g</th>\n",
              "      <th>jul_vbc_3g</th>\n",
              "      <th>jun_vbc_3g</th>\n",
              "    </tr>\n",
              "  </thead>\n",
              "  <tbody>\n",
              "    <tr>\n",
              "      <th>0</th>\n",
              "      <td>69999</td>\n",
              "      <td>109</td>\n",
              "      <td>0.0</td>\n",
              "      <td>0.0</td>\n",
              "      <td>0.0</td>\n",
              "      <td>6/30/2014</td>\n",
              "      <td>7/31/2014</td>\n",
              "      <td>8/31/2014</td>\n",
              "      <td>91.882</td>\n",
              "      <td>65.330</td>\n",
              "      <td>...</td>\n",
              "      <td>0</td>\n",
              "      <td>0</td>\n",
              "      <td>0</td>\n",
              "      <td>NaN</td>\n",
              "      <td>NaN</td>\n",
              "      <td>NaN</td>\n",
              "      <td>1692</td>\n",
              "      <td>0.00</td>\n",
              "      <td>0.00</td>\n",
              "      <td>0.00</td>\n",
              "    </tr>\n",
              "    <tr>\n",
              "      <th>1</th>\n",
              "      <td>70000</td>\n",
              "      <td>109</td>\n",
              "      <td>0.0</td>\n",
              "      <td>0.0</td>\n",
              "      <td>0.0</td>\n",
              "      <td>6/30/2014</td>\n",
              "      <td>7/31/2014</td>\n",
              "      <td>8/31/2014</td>\n",
              "      <td>414.168</td>\n",
              "      <td>515.568</td>\n",
              "      <td>...</td>\n",
              "      <td>0</td>\n",
              "      <td>0</td>\n",
              "      <td>0</td>\n",
              "      <td>NaN</td>\n",
              "      <td>NaN</td>\n",
              "      <td>NaN</td>\n",
              "      <td>2533</td>\n",
              "      <td>0.00</td>\n",
              "      <td>0.00</td>\n",
              "      <td>0.00</td>\n",
              "    </tr>\n",
              "    <tr>\n",
              "      <th>2</th>\n",
              "      <td>70001</td>\n",
              "      <td>109</td>\n",
              "      <td>0.0</td>\n",
              "      <td>0.0</td>\n",
              "      <td>0.0</td>\n",
              "      <td>6/30/2014</td>\n",
              "      <td>7/31/2014</td>\n",
              "      <td>8/31/2014</td>\n",
              "      <td>329.844</td>\n",
              "      <td>434.884</td>\n",
              "      <td>...</td>\n",
              "      <td>0</td>\n",
              "      <td>0</td>\n",
              "      <td>0</td>\n",
              "      <td>NaN</td>\n",
              "      <td>NaN</td>\n",
              "      <td>NaN</td>\n",
              "      <td>277</td>\n",
              "      <td>525.61</td>\n",
              "      <td>758.41</td>\n",
              "      <td>241.84</td>\n",
              "    </tr>\n",
              "    <tr>\n",
              "      <th>3</th>\n",
              "      <td>70002</td>\n",
              "      <td>109</td>\n",
              "      <td>0.0</td>\n",
              "      <td>0.0</td>\n",
              "      <td>0.0</td>\n",
              "      <td>6/30/2014</td>\n",
              "      <td>7/31/2014</td>\n",
              "      <td>8/31/2014</td>\n",
              "      <td>43.550</td>\n",
              "      <td>171.390</td>\n",
              "      <td>...</td>\n",
              "      <td>0</td>\n",
              "      <td>0</td>\n",
              "      <td>0</td>\n",
              "      <td>NaN</td>\n",
              "      <td>NaN</td>\n",
              "      <td>NaN</td>\n",
              "      <td>1244</td>\n",
              "      <td>0.00</td>\n",
              "      <td>0.00</td>\n",
              "      <td>0.00</td>\n",
              "    </tr>\n",
              "    <tr>\n",
              "      <th>4</th>\n",
              "      <td>70003</td>\n",
              "      <td>109</td>\n",
              "      <td>0.0</td>\n",
              "      <td>0.0</td>\n",
              "      <td>0.0</td>\n",
              "      <td>6/30/2014</td>\n",
              "      <td>7/31/2014</td>\n",
              "      <td>8/31/2014</td>\n",
              "      <td>306.854</td>\n",
              "      <td>406.289</td>\n",
              "      <td>...</td>\n",
              "      <td>0</td>\n",
              "      <td>0</td>\n",
              "      <td>0</td>\n",
              "      <td>NaN</td>\n",
              "      <td>NaN</td>\n",
              "      <td>NaN</td>\n",
              "      <td>462</td>\n",
              "      <td>0.00</td>\n",
              "      <td>0.00</td>\n",
              "      <td>0.00</td>\n",
              "    </tr>\n",
              "  </tbody>\n",
              "</table>\n",
              "<p>5 rows × 171 columns</p>\n",
              "</div>\n",
              "    <div class=\"colab-df-buttons\">\n",
              "\n",
              "  <div class=\"colab-df-container\">\n",
              "    <button class=\"colab-df-convert\" onclick=\"convertToInteractive('df-bffd7eb3-6e82-43be-a1c8-63dd42e40433')\"\n",
              "            title=\"Convert this dataframe to an interactive table.\"\n",
              "            style=\"display:none;\">\n",
              "\n",
              "  <svg xmlns=\"http://www.w3.org/2000/svg\" height=\"24px\" viewBox=\"0 -960 960 960\">\n",
              "    <path d=\"M120-120v-720h720v720H120Zm60-500h600v-160H180v160Zm220 220h160v-160H400v160Zm0 220h160v-160H400v160ZM180-400h160v-160H180v160Zm440 0h160v-160H620v160ZM180-180h160v-160H180v160Zm440 0h160v-160H620v160Z\"/>\n",
              "  </svg>\n",
              "    </button>\n",
              "\n",
              "  <style>\n",
              "    .colab-df-container {\n",
              "      display:flex;\n",
              "      gap: 12px;\n",
              "    }\n",
              "\n",
              "    .colab-df-convert {\n",
              "      background-color: #E8F0FE;\n",
              "      border: none;\n",
              "      border-radius: 50%;\n",
              "      cursor: pointer;\n",
              "      display: none;\n",
              "      fill: #1967D2;\n",
              "      height: 32px;\n",
              "      padding: 0 0 0 0;\n",
              "      width: 32px;\n",
              "    }\n",
              "\n",
              "    .colab-df-convert:hover {\n",
              "      background-color: #E2EBFA;\n",
              "      box-shadow: 0px 1px 2px rgba(60, 64, 67, 0.3), 0px 1px 3px 1px rgba(60, 64, 67, 0.15);\n",
              "      fill: #174EA6;\n",
              "    }\n",
              "\n",
              "    .colab-df-buttons div {\n",
              "      margin-bottom: 4px;\n",
              "    }\n",
              "\n",
              "    [theme=dark] .colab-df-convert {\n",
              "      background-color: #3B4455;\n",
              "      fill: #D2E3FC;\n",
              "    }\n",
              "\n",
              "    [theme=dark] .colab-df-convert:hover {\n",
              "      background-color: #434B5C;\n",
              "      box-shadow: 0px 1px 3px 1px rgba(0, 0, 0, 0.15);\n",
              "      filter: drop-shadow(0px 1px 2px rgba(0, 0, 0, 0.3));\n",
              "      fill: #FFFFFF;\n",
              "    }\n",
              "  </style>\n",
              "\n",
              "    <script>\n",
              "      const buttonEl =\n",
              "        document.querySelector('#df-bffd7eb3-6e82-43be-a1c8-63dd42e40433 button.colab-df-convert');\n",
              "      buttonEl.style.display =\n",
              "        google.colab.kernel.accessAllowed ? 'block' : 'none';\n",
              "\n",
              "      async function convertToInteractive(key) {\n",
              "        const element = document.querySelector('#df-bffd7eb3-6e82-43be-a1c8-63dd42e40433');\n",
              "        const dataTable =\n",
              "          await google.colab.kernel.invokeFunction('convertToInteractive',\n",
              "                                                    [key], {});\n",
              "        if (!dataTable) return;\n",
              "\n",
              "        const docLinkHtml = 'Like what you see? Visit the ' +\n",
              "          '<a target=\"_blank\" href=https://colab.research.google.com/notebooks/data_table.ipynb>data table notebook</a>'\n",
              "          + ' to learn more about interactive tables.';\n",
              "        element.innerHTML = '';\n",
              "        dataTable['output_type'] = 'display_data';\n",
              "        await google.colab.output.renderOutput(dataTable, element);\n",
              "        const docLink = document.createElement('div');\n",
              "        docLink.innerHTML = docLinkHtml;\n",
              "        element.appendChild(docLink);\n",
              "      }\n",
              "    </script>\n",
              "  </div>\n",
              "\n",
              "\n",
              "<div id=\"df-5753671e-604b-45c4-beed-c5342062ed1f\">\n",
              "  <button class=\"colab-df-quickchart\" onclick=\"quickchart('df-5753671e-604b-45c4-beed-c5342062ed1f')\"\n",
              "            title=\"Suggest charts.\"\n",
              "            style=\"display:none;\">\n",
              "\n",
              "<svg xmlns=\"http://www.w3.org/2000/svg\" height=\"24px\"viewBox=\"0 0 24 24\"\n",
              "     width=\"24px\">\n",
              "    <g>\n",
              "        <path d=\"M19 3H5c-1.1 0-2 .9-2 2v14c0 1.1.9 2 2 2h14c1.1 0 2-.9 2-2V5c0-1.1-.9-2-2-2zM9 17H7v-7h2v7zm4 0h-2V7h2v10zm4 0h-2v-4h2v4z\"/>\n",
              "    </g>\n",
              "</svg>\n",
              "  </button>\n",
              "\n",
              "<style>\n",
              "  .colab-df-quickchart {\n",
              "      --bg-color: #E8F0FE;\n",
              "      --fill-color: #1967D2;\n",
              "      --hover-bg-color: #E2EBFA;\n",
              "      --hover-fill-color: #174EA6;\n",
              "      --disabled-fill-color: #AAA;\n",
              "      --disabled-bg-color: #DDD;\n",
              "  }\n",
              "\n",
              "  [theme=dark] .colab-df-quickchart {\n",
              "      --bg-color: #3B4455;\n",
              "      --fill-color: #D2E3FC;\n",
              "      --hover-bg-color: #434B5C;\n",
              "      --hover-fill-color: #FFFFFF;\n",
              "      --disabled-bg-color: #3B4455;\n",
              "      --disabled-fill-color: #666;\n",
              "  }\n",
              "\n",
              "  .colab-df-quickchart {\n",
              "    background-color: var(--bg-color);\n",
              "    border: none;\n",
              "    border-radius: 50%;\n",
              "    cursor: pointer;\n",
              "    display: none;\n",
              "    fill: var(--fill-color);\n",
              "    height: 32px;\n",
              "    padding: 0;\n",
              "    width: 32px;\n",
              "  }\n",
              "\n",
              "  .colab-df-quickchart:hover {\n",
              "    background-color: var(--hover-bg-color);\n",
              "    box-shadow: 0 1px 2px rgba(60, 64, 67, 0.3), 0 1px 3px 1px rgba(60, 64, 67, 0.15);\n",
              "    fill: var(--button-hover-fill-color);\n",
              "  }\n",
              "\n",
              "  .colab-df-quickchart-complete:disabled,\n",
              "  .colab-df-quickchart-complete:disabled:hover {\n",
              "    background-color: var(--disabled-bg-color);\n",
              "    fill: var(--disabled-fill-color);\n",
              "    box-shadow: none;\n",
              "  }\n",
              "\n",
              "  .colab-df-spinner {\n",
              "    border: 2px solid var(--fill-color);\n",
              "    border-color: transparent;\n",
              "    border-bottom-color: var(--fill-color);\n",
              "    animation:\n",
              "      spin 1s steps(1) infinite;\n",
              "  }\n",
              "\n",
              "  @keyframes spin {\n",
              "    0% {\n",
              "      border-color: transparent;\n",
              "      border-bottom-color: var(--fill-color);\n",
              "      border-left-color: var(--fill-color);\n",
              "    }\n",
              "    20% {\n",
              "      border-color: transparent;\n",
              "      border-left-color: var(--fill-color);\n",
              "      border-top-color: var(--fill-color);\n",
              "    }\n",
              "    30% {\n",
              "      border-color: transparent;\n",
              "      border-left-color: var(--fill-color);\n",
              "      border-top-color: var(--fill-color);\n",
              "      border-right-color: var(--fill-color);\n",
              "    }\n",
              "    40% {\n",
              "      border-color: transparent;\n",
              "      border-right-color: var(--fill-color);\n",
              "      border-top-color: var(--fill-color);\n",
              "    }\n",
              "    60% {\n",
              "      border-color: transparent;\n",
              "      border-right-color: var(--fill-color);\n",
              "    }\n",
              "    80% {\n",
              "      border-color: transparent;\n",
              "      border-right-color: var(--fill-color);\n",
              "      border-bottom-color: var(--fill-color);\n",
              "    }\n",
              "    90% {\n",
              "      border-color: transparent;\n",
              "      border-bottom-color: var(--fill-color);\n",
              "    }\n",
              "  }\n",
              "</style>\n",
              "\n",
              "  <script>\n",
              "    async function quickchart(key) {\n",
              "      const quickchartButtonEl =\n",
              "        document.querySelector('#' + key + ' button');\n",
              "      quickchartButtonEl.disabled = true;  // To prevent multiple clicks.\n",
              "      quickchartButtonEl.classList.add('colab-df-spinner');\n",
              "      try {\n",
              "        const charts = await google.colab.kernel.invokeFunction(\n",
              "            'suggestCharts', [key], {});\n",
              "      } catch (error) {\n",
              "        console.error('Error during call to suggestCharts:', error);\n",
              "      }\n",
              "      quickchartButtonEl.classList.remove('colab-df-spinner');\n",
              "      quickchartButtonEl.classList.add('colab-df-quickchart-complete');\n",
              "    }\n",
              "    (() => {\n",
              "      let quickchartButtonEl =\n",
              "        document.querySelector('#df-5753671e-604b-45c4-beed-c5342062ed1f button');\n",
              "      quickchartButtonEl.style.display =\n",
              "        google.colab.kernel.accessAllowed ? 'block' : 'none';\n",
              "    })();\n",
              "  </script>\n",
              "</div>\n",
              "    </div>\n",
              "  </div>\n"
            ]
          },
          "metadata": {},
          "execution_count": 335
        }
      ]
    },
    {
      "cell_type": "code",
      "source": [
        "df_test.isnull().sum().sum()"
      ],
      "metadata": {
        "colab": {
          "base_uri": "https://localhost:8080/"
        },
        "id": "5I-1OG0dgZRf",
        "outputId": "152c288e-6b3d-48b1-fcab-4efb22917c17"
      },
      "id": "5I-1OG0dgZRf",
      "execution_count": 336,
      "outputs": [
        {
          "output_type": "execute_result",
          "data": {
            "text/plain": [
              "788051"
            ]
          },
          "metadata": {},
          "execution_count": 336
        }
      ]
    },
    {
      "cell_type": "code",
      "source": [
        "df_test.isnull().sum().max()"
      ],
      "metadata": {
        "colab": {
          "base_uri": "https://localhost:8080/"
        },
        "id": "RXGPG_O2g9c6",
        "outputId": "c5e69c70-d3da-4211-b737-3652e1b1dbb2"
      },
      "id": "RXGPG_O2g9c6",
      "execution_count": 337,
      "outputs": [
        {
          "output_type": "execute_result",
          "data": {
            "text/plain": [
              "22415"
            ]
          },
          "metadata": {},
          "execution_count": 337
        }
      ]
    },
    {
      "cell_type": "code",
      "source": [
        "df_test.shape"
      ],
      "metadata": {
        "colab": {
          "base_uri": "https://localhost:8080/"
        },
        "id": "a7-p90gUg5Ua",
        "outputId": "261de7a7-2615-4e35-c705-6a1a8d855303"
      },
      "id": "a7-p90gUg5Ua",
      "execution_count": 338,
      "outputs": [
        {
          "output_type": "execute_result",
          "data": {
            "text/plain": [
              "(30000, 171)"
            ]
          },
          "metadata": {},
          "execution_count": 338
        }
      ]
    },
    {
      "cell_type": "markdown",
      "source": [
        "Now perform the same tasks on this CSV file as well."
      ],
      "metadata": {
        "id": "PqY2IzCehHsj"
      },
      "id": "PqY2IzCehHsj"
    }
  ],
  "metadata": {
    "kernelspec": {
      "display_name": "Python 3 (ipykernel)",
      "language": "python",
      "name": "python3"
    },
    "language_info": {
      "codemirror_mode": {
        "name": "ipython",
        "version": 3
      },
      "file_extension": ".py",
      "mimetype": "text/x-python",
      "name": "python",
      "nbconvert_exporter": "python",
      "pygments_lexer": "ipython3",
      "version": "3.10.9"
    },
    "colab": {
      "provenance": [],
      "include_colab_link": true
    }
  },
  "nbformat": 4,
  "nbformat_minor": 5
}